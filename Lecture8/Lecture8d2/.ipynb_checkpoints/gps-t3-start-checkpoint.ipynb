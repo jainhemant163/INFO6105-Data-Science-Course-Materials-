{
 "cells": [
  {
   "cell_type": "code",
   "execution_count": null,
   "metadata": {},
   "outputs": [],
   "source": []
  },
  {
   "cell_type": "markdown",
   "metadata": {},
   "source": [
    "<div style=\"text-align: right\">INFO 6105 Data Science Eng Methods and Tools, Lecture 8 Day 1</div>\n",
    "<div style=\"text-align: right\">Dino Konstantopoulos, 28 October 2019, with material from Carl Rasmussen and John P. Cunningham</div>\n",
    "\n",
    "# Statistics + Linear Algebra = Gaussian Processes (GP)\n",
    "\n",
    "Gaussian Processes is a mix of Bayesian Analysis and Linear Algebra, so it's our ***3rd application of our Linear Algebra***, after **graphs** and **games**. We also learn a bit about [Fintech](https://en.wikipedia.org/wiki/Financial_technology), and a number of other things relevant to Data Science, today. Your ability to model datasets is going to increase exponentially!\n",
    "\n",
    "A machine-learning algorithm that involves a Gaussian process uses lazy learning and a measure of the similarity between points (the kernel function) to predict the value for an unseen point from training data. The prediction is not just an estimate for that point, but also has uncertainty information: It is a one-dimensional Gaussian distribution.\n",
    "\n",
    "This technique is a form of interpolation called [kriging](https://en.wikipedia.org/wiki/Kriging) and yields the ***best linear unbiased prediction of intermediate (unobserved) values***. Interpolating methods based on other criteria such as smoothness (e.g., smoothing spline) need not yield the most likely intermediate values. The method is widely used in the domain of spatial analysis and computer experiments. The technique is also known as **Wiener–Kolmogorov** (WK) prediction, after [Norbert Wiener](https://en.wikipedia.org/wiki/Norbert_Wiener) and [Andrey Kolmogorov](https://en.wikipedia.org/wiki/Andrey_Kolmogorov).\n",
    "\n",
    "The bible on GPs is [Rasmussen & Williams, Gaussian Processes for Machine Learning](http://www.gaussianprocesses.org/).\n",
    "\n",
    "The whole point of your bayesian athletic analysis HW (and why I gave you an extra week) is to find correlation between data columns and then build a related model. Absent correlations, you cannot model the data using histograms and Bayesian analysis, and ML algorithms will yield **junk** that just learns data by heart and is ***no good*** at predicting datapoints that are not part of the training set.\n",
    "\n",
    "So the whole point is to do ***very good Exploratory Data Analysis*** (EDA). The modern data scientist's method follows the **scientific method**. The syntax and the adjectives of this method are often statistical.\n",
    "\n",
    "Statisticians use **linear regression** as the primary prediction tool, and the study of the **correlation coefficient** is the primary means of evaluating the significance and potential usefulness of predictions. The most important tool for correlation is the **Pearson correlation coefficient**. But in this notebook, we'll uncover a *better one*, which reveals **non-linear** dependences!\n",
    "\n",
    "## 1. Variance and standard deviation\n",
    "\n",
    "I love dogs. Here are some of  my favorite species, with heights in millimetres:\n",
    "\n",
    "<br />\n",
    "<center>\n",
    "<img src=\"ipynb.images/dogs.jpg\" width=400 />\n",
    "</center>\n",
    "\n",
    "Heights (at the shoulders) are: 600mm, 470mm, 170mm, 430mm and 300mm.\n",
    "\n",
    "- Compute the mean:"
   ]
  },
  {
   "cell_type": "code",
   "execution_count": null,
   "metadata": {},
   "outputs": [],
   "source": []
  },
  {
   "cell_type": "markdown",
   "metadata": {},
   "source": [
    "The mean (average) height is 394 mm. Let's plot this on the chart:\n",
    "\n",
    "<br />\n",
    "<center>\n",
    "<img src=\"ipynb.images/dogs-mean.jpg\" width=400 />\n",
    "</center>\n",
    "\n",
    "- Now, calculate each dogs difference from the mean:\n",
    "\n",
    "<br />\n",
    "<center>\n",
    "<img src=\"ipynb.images/dogs-variance.jpg\" width=400 />\n",
    "</center>\n",
    "\n",
    "- To calculate the Variance, take each difference, square it, and then average the result. Do this below:"
   ]
  },
  {
   "cell_type": "code",
   "execution_count": null,
   "metadata": {},
   "outputs": [],
   "source": []
  },
  {
   "cell_type": "markdown",
   "metadata": {},
   "source": [
    "So, the Variance is 21,704.\n",
    "\n",
    "And the Standard Deviation is just the square root of Variance, so:"
   ]
  },
  {
   "cell_type": "code",
   "execution_count": null,
   "metadata": {},
   "outputs": [],
   "source": []
  },
  {
   "cell_type": "markdown",
   "metadata": {},
   "source": [
    "And the good thing about the Standard Deviation is that it is **useful**. Now we can show which heights are within one Standard Deviation (147mm) of the Mean:\n",
    "\n",
    "<br />\n",
    "<center>\n",
    "<img src=\"ipynb.images/dogs-standard-deviation.jpg\" width=400 />\n",
    "</center>\n",
    "\n",
    "So, using the Standard Deviation we have a ***standard*** way of knowing what is **normal**, and what is **extra large** or **extra small**:\n",
    "\n",
    "The [Bernese Mountain Dog](https://www.akc.org/dog-breeds/bernese-mountain-dog/) is extra large. The [Dachshund](https://www.akc.org/dog-breeds/dachshund/) is extra small"
   ]
  },
  {
   "cell_type": "markdown",
   "metadata": {},
   "source": [
    "## 2. Covariance point estimate\n",
    "\n",
    "[Covariance](https://en.wikipedia.org/wiki/Covariance) is a measure of the joint variability of **two** random variables.\n",
    "\n",
    "The relationship between two observed variables, $X$, and $Y$, which are almost always a sample statistic rather than a population parameter. The estimate of the sample **means** for $X$ and $Y$ is $\\hat{X}$, and $\\hat{Y}$ respectively, for a data set of n samples. The statistics $\\sigma_x$, and $\\sigma_y$ are the estimates of the **standard deviations** of the two variables, and the corresponding estimates of the variances can be denoted as $\\sigma_x^2$, $\\sigma_y^2$. The **Pearson correlation coefficient** is:\n",
    "\n",
    "$$r = \\frac{\\sum_i^N (X_i - \\hat{X}) \\; (Y_i - \\hat{Y})}{\\sum_i^N (X_i - \\hat{X})^2 \\; \\sum_i^N(Y_i - \\hat{Y})^2}$$\n",
    "\n",
    "If the greater values of one variable mainly correspond with the greater values of the other variable, and the same holds for the lesser values, (i.e., the variables tend to show similar behavior), the covariance is positive.\n",
    "\n",
    "In the opposite case, when the greater values of one variable mainly correspond to the lesser values of the other, (i.e., the variables tend to show opposite behavior), the covariance is negative.\n",
    "\n",
    "The covariance of two variables is highest when they ***vary together***: a high value of $X$ yields a low value of $Y$, or the opposite. When the variables change in a connected fashion, they co-vary, and thus their covariance is high.\n",
    "\n",
    "The sign of the covariance therefore shows the tendency in the linear relationship between the variables. \n",
    "\n",
    "The **normalized version** of the covariance, the [correlation coefficient](https://en.wikipedia.org/wiki/Correlation_coefficient), however, shows by its magnitude the strength of the linear relation."
   ]
  },
  {
   "cell_type": "code",
   "execution_count": 1,
   "metadata": {},
   "outputs": [
    {
     "name": "stdout",
     "output_type": "stream",
     "text": [
      "[1 2 3 4 5 6 7 8 9]\n",
      "[9 8 7 6 5 4 3 2 1]\n",
      "-7.5\n"
     ]
    }
   ],
   "source": [
    "from numpy import array\n",
    "from numpy import cov\n",
    "from numpy import std\n",
    "\n",
    "x = array([1,2,3,4,5,6,7,8,9])\n",
    "print(x)\n",
    "\n",
    "y = array([9,8,7,6,5,4,3,2,1])\n",
    "print(y)\n",
    "\n",
    "Sigma = cov(x,y)[0,1]\n",
    "print(Sigma)"
   ]
  },
  {
   "cell_type": "markdown",
   "metadata": {},
   "source": [
    "The magnitude of the covariance is not easy to interpret because it is *not normalized* and hence ***depends on the magnitudes of the variables, and on their units of dimension***. \n",
    "\n",
    "The covariance can be normalized to a score between -1 and 1 to make the magnitude interpretable by dividing it by the standard deviation of X and Y. The result is called the **correlation** of the variables, also called the **Pearson correlation coefficient**, named for the developer of the method."
   ]
  },
  {
   "cell_type": "code",
   "execution_count": null,
   "metadata": {},
   "outputs": [],
   "source": [
    "r = cov(x, y)[0,1] / (std(x) * std(y))\n",
    "r"
   ]
  },
  {
   "cell_type": "code",
   "execution_count": null,
   "metadata": {},
   "outputs": [],
   "source": [
    "from numpy import corrcoef\n",
    "Sigma = corrcoef(x,y)[0,1]\n",
    "print(Sigma)"
   ]
  },
  {
   "cell_type": "markdown",
   "metadata": {},
   "source": [
    "We can see that the vectors are maximally negatively correlated as we designed.\n",
    "\n",
    "Statisticians have **frequentist** tests to see if different samples belong to the same population, if they have the same means, variances, etc. These tests have many names, such as Chi squared-tests, T-tests, F-tests, etc. The tests all focus on probabilities, and are typically concerned with sample size. Central to the testing is the uncertainty of whether two samples or variables are really related and how.\n",
    "\n",
    "The tests often make use of the [Central Limit Theorem](https://en.wikipedia.org/wiki/Central_limit_theorem), which generally allows for the use of the normal distribution for a large number of samples, even for non-normally distributed variables.\n",
    "\n",
    "Significance testing of correlation coefficients was introduced by Fisher (1935). His approach was to test the null hypothesis that the correlation coefficient could have been found by random chance."
   ]
  },
  {
   "cell_type": "markdown",
   "metadata": {},
   "source": [
    "## 3. Feature selection and Covariance Matrix\n",
    "\n",
    "The [covariance matrix](https://en.wikipedia.org/wiki/Covariance_matrix) is a square and symmetric matrix that describes the covariance between two or more random variables.\n",
    "\n",
    "A covariance matrix is a generalization of the covariance of two variables and captures the way in which all variables in the dataset may change together.\n",
    "\n",
    "The diagonal of the covariance matrix are the variances of each of the random variables. The non-diagonal term $(i,j)$ is the covariance between the $i$th random variable, and the $j$th random variable.\n",
    "\n",
    "The covariance matrix is denoted by the uppercase Greek letter $\\Sigma$.\n",
    "\n",
    "The covariance matrix provides a useful tool for separating the structured relationships in a matrix of random variables. This can be used to decorrelate variables or applied as a transform to other variables. It is a key element used in the [Principal Component Analysis](https://en.wikipedia.org/wiki/Principal_component_analysis) (PCA) data reduction method."
   ]
  },
  {
   "cell_type": "code",
   "execution_count": 23,
   "metadata": {},
   "outputs": [],
   "source": [
    "import numpy\n",
    "from matplotlib import pyplot\n",
    "%matplotlib inline\n",
    "#pyplot.style.use('ggplot')\n",
    "import pandas as pd\n",
    "import seaborn as sns"
   ]
  },
  {
   "cell_type": "markdown",
   "metadata": {},
   "source": [
    "We take data from [here](https://csegrecorder.com/columns/view/value-of-integrated-geophysics-201312). The data was defined (or created) with the following relationship:\n",
    "\n",
    "$$Y = 1.5 * \\text{Gross_pay} + 0.1 * \\text{Phi_h}\\; - 6 * \\text{Position} + 1.5 * \\text{Pressure}$$\n",
    "\n",
    "The authors then add a bit of noise, and attempt a linear regression using all predictor variables."
   ]
  },
  {
   "cell_type": "code",
   "execution_count": null,
   "metadata": {},
   "outputs": [],
   "source": [
    "data = pd.read_csv(\"data/Table2.csv\")\n",
    "data"
   ]
  },
  {
   "cell_type": "markdown",
   "metadata": {},
   "source": [
    "We do the same with Bayesian estimation, patsy-style:"
   ]
  },
  {
   "cell_type": "code",
   "execution_count": null,
   "metadata": {},
   "outputs": [],
   "source": [
    "import pymc3 as pm\n",
    "with pm.Model() as glm_model:\n",
    "    pm.glm.GLM.from_formula('Production ~ Gross_pay + Phi_h + Position + Pressure',\n",
    "                            data,\n",
    "                            family=pm.glm.families.Normal())\n",
    "    trace2 = pm.sample(1000, tune=1000, init='adapt_diag', njobs=1)"
   ]
  },
  {
   "cell_type": "code",
   "execution_count": null,
   "metadata": {},
   "outputs": [],
   "source": [
    "pm.traceplot(trace2)"
   ]
  },
  {
   "cell_type": "code",
   "execution_count": null,
   "metadata": {},
   "outputs": [],
   "source": [
    "pm.plot_posterior(trace2[500:], varnames=['Intercept', 'Gross_pay', 'Phi_h', 'Position', 'Pressure'])"
   ]
  },
  {
   "cell_type": "markdown",
   "metadata": {},
   "source": [
    "Our analysis yields the following relationship between the data: \n",
    "\n",
    "$$Y = -1.739 + 1.362 * \\text{Gross_pay} + 0.108 * \\text{Phi_h} - 6.601 * \\text{Position} + 1.752 * \\text{Pressure}$$\n",
    "\n",
    "The article authors find:\n",
    "\n",
    "$$Y = -1.71 + 1.37 * \\text{Gross_pay} + 0.11 * \\text{Phi_h} - 6.66 * \\text{Position} + 1.76 * \\text{Pressure}$$\n",
    "\n",
    "Pretty close! But the authors state that *(...) the weights are not quite correct*.\n",
    "\n",
    "***What can we do to get better estimates?***"
   ]
  },
  {
   "cell_type": "markdown",
   "metadata": {},
   "source": [
    "Let's do some EDA. The scatter matrix below includes bivariate scatter-plots in the upper triangle, contours in the lower triangle, shape of the bivariate distributions on the diagonal."
   ]
  },
  {
   "cell_type": "code",
   "execution_count": null,
   "metadata": {},
   "outputs": [],
   "source": [
    "pyplot.rcParams[\"axes.labelsize\"] = 18\n",
    "g = sns.PairGrid(data, diag_sharey=False)\n",
    "axes = g.axes\n",
    "g.map_upper(pyplot.scatter, linewidths=1, \n",
    "            edgecolor=\"w\", s=90, alpha=0.5)\n",
    "g.map_diag(sns.kdeplot, lw = 4, legend=False)\n",
    "g.map_lower(sns.kdeplot, cmap=\"Blues_d\")\n",
    "pyplot.show()"
   ]
  },
  {
   "cell_type": "markdown",
   "metadata": {},
   "source": [
    "We now introduce new concepts:\n",
    "\n",
    "- [Spearman rank correlation](https://en.wikipedia.org/wiki/Spearman%27s_rank_correlation_coefficient) coefficient – a bit more robust than Pearson’s correlation coefficient. While Pearson's correlation assesses **linear relationships**, Spearman's correlation assesses **monotonic relationships** (whether linear or not). If there are no repeated data values, a perfect Spearman correlation of +1 or −1 occurs when each of the variables is a perfect monotone function of the other\n",
    "- [Confidence interval](https://en.wikipedia.org/wiki/Confidence_interval) for the correlation coefficient. It is an interval estimate, computed from the statistics of the observed data, that might contain the true value of an unknown population parameter with a ceertain probability. Most commonly, the 95% confidence level is used.[4] However, other confidence levels can be used, for example, 90% and 99%\n",
    "- Probability of [spurious correlation](https://en.wikipedia.org/wiki/Spurious_relationship). A spurious relationship or spurious correlation is a mathematical relationship in which two or more events or variables are associated but not **causally related**, due to either **coincidence** or the presence of a certain **third**, unseen factor, called **latent** factor\n",
    "\n",
    "..from [this article](https://mycarta.wordpress.com/2019/03/17/visual-data-exploration-in-python-correlation-confidence-spuriousness/)."
   ]
  },
  {
   "cell_type": "code",
   "execution_count": null,
   "metadata": {},
   "outputs": [],
   "source": [
    "import numpy as np\n",
    "import scipy.stats as st\n",
    "\n",
    "def confInt(r, nwells):\n",
    "    z_crit = st.norm.ppf(.975) \n",
    "    std_Z = 1/np.sqrt(nwells-3)      \n",
    "    E = z_crit*std_Z\n",
    "    Z_star = 0.5*(np.log((1+r)/(1.0000000000001-r)))\n",
    "    ZCI_l = Z_star - E\n",
    "    ZCI_u = Z_star + E\n",
    "    RCI_l = (np.exp(2*ZCI_l)-1)/(np.exp(2*ZCI_l)+1) \n",
    "    RCI_u = (np.exp(2*ZCI_u)-1)/(np.exp(2*ZCI_u)+1)\n",
    "    return RCI_u, RCI_l"
   ]
  },
  {
   "cell_type": "code",
   "execution_count": null,
   "metadata": {},
   "outputs": [],
   "source": [
    "def P_spurious (r, nwells, nattributes):\n",
    "    t_of_r = r * np.sqrt((nwells-2)/(1-np.power(r,2)))  \n",
    "    p = st.t.sf(numpy.abs(t_of_r), nwells-2)*2 \n",
    "    ks = np.arange(1, nattributes+1, 1)\n",
    "    return np.sum(p * np.power(1-p, ks-1))"
   ]
  },
  {
   "cell_type": "code",
   "execution_count": null,
   "metadata": {},
   "outputs": [],
   "source": [
    "def r_crit(nwells, a):\n",
    "    t = st.t.isf(a, nwells-2) \n",
    "    r_crit = t/np.sqrt((nwells-2)+ np.power(t,2))\n",
    "    return r_crit"
   ]
  },
  {
   "cell_type": "code",
   "execution_count": null,
   "metadata": {},
   "outputs": [],
   "source": [
    "nwells = 21\n",
    "rc = r_crit(21, 0.025)"
   ]
  },
  {
   "cell_type": "code",
   "execution_count": null,
   "metadata": {},
   "outputs": [],
   "source": [
    "from matplotlib import pyplot\n",
    "%matplotlib inline\n",
    "\n",
    "def corrfunc(x, y, rc=rc, **kws):\n",
    "    r, p = st.spearmanr(x, y)\n",
    "    u, l = confInt(r, 21)  \n",
    "    if r > rc:\n",
    "       rclr = 'g'\n",
    "    else:\n",
    "        rclr= 'm' \n",
    "    if p > 0.05:\n",
    "       pclr = 'm'\n",
    "    else:\n",
    "        pclr= 'g'\n",
    "    ax = pyplot.gca()\n",
    "    ax.annotate(\"CC = {:.2f}\".format(r), xy=(.1, 1.25), \n",
    "                xycoords=ax.transAxes, color = rclr, fontsize = 14)\n",
    "    ax.annotate(\"CI = [{:.2f} {:.2f}]\".format(u, l), xy=(.1, 1.1), \n",
    "                xycoords=ax.transAxes, color = rclr, fontsize = 14)\n",
    "    ax.annotate(\"PS = {:.3f}\".format(p), xy=(.1, .95), \n",
    "                xycoords=ax.transAxes, color = pclr, fontsize = 14)"
   ]
  },
  {
   "cell_type": "markdown",
   "metadata": {},
   "source": [
    "Now:\n",
    "\n",
    "- The correlation coefficient is coloured green if it is larger than the critical r, else coloured in purple\n",
    "- The confidence interval is coloured green if both lower and upper are larger than the critical r, else coloured in purple\n",
    "- The probability of spurious correlation is coloured in green when below 0.05 (or 5% chance)\n",
    "\n",
    "So, green means correlation, purple means probably no correlation."
   ]
  },
  {
   "cell_type": "code",
   "execution_count": null,
   "metadata": {},
   "outputs": [],
   "source": [
    "pyplot.rcParams[\"axes.labelsize\"] = 18\n",
    "g = sns.PairGrid(data, diag_sharey=False)\n",
    "axes = g.axes\n",
    "g.map_upper(pyplot.scatter, linewidths=1, edgecolor=\"w\", s=90, alpha = 0.5)\n",
    "g.map_upper(corrfunc)\n",
    "g.map_diag(sns.kdeplot, lw = 4, legend=False)\n",
    "g.map_lower(sns.kdeplot, cmap=\"Blues_d\")\n",
    "pyplot.show()"
   ]
  },
  {
   "cell_type": "markdown",
   "metadata": {},
   "source": [
    "The more ***interesting variables***, because of strong correlation (as defined in this case by the rank correlation coefficient), are close together and reposition along the diagonal, so we can immediately appreciate that `Production`, `Phi_h`, and `Gross_Pay`, plus to a lesser extent `Position` (albeit this one with negative correlation to production) are related to one another. \n",
    "\n",
    "But wait, there is better!"
   ]
  },
  {
   "cell_type": "markdown",
   "metadata": {},
   "source": [
    "Unfortunately, could not `pip install biokit` on Windows (probably works on the Mac, try it if you can), and biokit is known to have ***awesome correlation plots***."
   ]
  },
  {
   "cell_type": "code",
   "execution_count": null,
   "metadata": {},
   "outputs": [],
   "source": [
    "from biokit.viz import corrplot\n",
    "corr = data.corr(method='spearman')\n",
    "c = corrplot.Corrplot(corr)\n",
    "c.plot(method='ellipse', cmap='PRGn_r', shrink=1, rotation=45, upper='text', lower='ellipse')\n",
    "fig = plt.gcf()\n",
    "fig.set_size_inches(10, 8);"
   ]
  },
  {
   "cell_type": "markdown",
   "metadata": {},
   "source": [
    "### Distance correlation\n",
    "\n",
    "I learned about [distance correlation](https://en.wikipedia.org/wiki/Distance_correlation) [here](https://mycarta.wordpress.com/2019/04/10/data-exploration-in-python-distance-correlation-and-variable-clustering/), and the author learned it himself at the 2018 CSEG/CASP Geoconvention talk Data science tools for petroleum exploration and production. It was introduced in 2005 by [Gábor J. Székely](https://en.wikipedia.org/wiki/G%C3%A1bor_J._Sz%C3%A9kely) to address this deficiency of Pearson’s correlation.\n",
    "\n",
    "Distance correlation ***does not assume a linear relationship between variables*** as does Pearson and Spearman, and even more importantly, whereas with Pearson and Spearman a correlation value of zero does not prove independence between any two variables, a ***distance correlation of zero does mean that there is no dependence between those two variables***! So in my opinion, it's more useful! [dcor](https://github.com/vnmabus/dcor) is the package, install it.\n",
    "```(python)\n",
    "pip install dcor\n",
    "```\n",
    "\n",
    "For example:"
   ]
  },
  {
   "cell_type": "code",
   "execution_count": null,
   "metadata": {},
   "outputs": [],
   "source": [
    "import dcor\n",
    "print (\"distance correlation = {:.2f}\".format(dcor.distance_correlation(data['Production'], \n",
    "                                                                        data['Gross_pay'])))\n",
    "print(\"p-value = {:.7f}\".format(dcor.independence.distance_covariance_test(data['Production'], \n",
    "                                                                           data['Gross_pay'], \n",
    "                                                                           exponent=1.0, \n",
    "                                                                           num_resamples=2000)[0]))"
   ]
  },
  {
   "cell_type": "code",
   "execution_count": null,
   "metadata": {},
   "outputs": [],
   "source": [
    "def dist_corr(X, Y, pval=True, nruns=2000):\n",
    "    \"\"\" Distance correlation with p-value from bootstrapping\n",
    "    \"\"\"\n",
    "    dc = dcor.distance_correlation(X, Y)\n",
    "    pv = dcor.independence.distance_covariance_test(X, Y, exponent=1.0, num_resamples=nruns)[0]\n",
    "    if pval:\n",
    "        return (dc, pv)\n",
    "    else:\n",
    "        return dc"
   ]
  },
  {
   "cell_type": "code",
   "execution_count": null,
   "metadata": {},
   "outputs": [],
   "source": [
    "def corrfunc(x, y, **kws):\n",
    "    d, p = dist_corr(x,y) \n",
    "    #print(\"{:.4f}\".format(d), \"{:.4f}\".format(p))\n",
    "    if p > 0.1:\n",
    "        pclr = 'Darkgray'\n",
    "    else:\n",
    "        pclr= 'Darkblue'\n",
    "    ax = pyplot.gca()\n",
    "    ax.annotate(\"DC = {:.2f}\".format(d), xy=(.1, 0.99), xycoords=ax.transAxes, color = pclr, fontsize = 14)"
   ]
  },
  {
   "cell_type": "markdown",
   "metadata": {},
   "source": [
    "Now coloring in Blue all high distance correlation coefficients reveal the independent columns in the data that are likely to have some kind of relationship with the dependent column that we picked. Now ***that*** is how you take a dataset, like MLB or NBA, and look for causal relationships!"
   ]
  },
  {
   "cell_type": "code",
   "execution_count": null,
   "metadata": {},
   "outputs": [],
   "source": [
    "g = sns.PairGrid(data, diag_sharey=False)\n",
    "axes = g.axes\n",
    "g.map_upper(pyplot.scatter, linewidths=1, edgecolor=\"w\", s=90, alpha = 0.5)\n",
    "g.map_upper(corrfunc)\n",
    "g.map_diag(sns.kdeplot, lw = 4, legend=False)\n",
    "g.map_lower(sns.kdeplot, cmap=\"Blues_d\")\n",
    "pyplot.show();"
   ]
  },
  {
   "cell_type": "markdown",
   "metadata": {},
   "source": [
    "Now, we create a square matrix of distance correlation values, then we look at correlational clustering of the variables: Instead of passing raw data to the algorithm, let's pass the distance correlation matrix. "
   ]
  },
  {
   "cell_type": "code",
   "execution_count": null,
   "metadata": {},
   "outputs": [],
   "source": [
    "# Create the distance method using distance_correlation\n",
    "distcorr = lambda column1, column2: dcor.distance_correlation(column1, column2) \n",
    "\n",
    "# Apply the distance method pairwise to every column\n",
    "rslt = data.apply(lambda col1: data.apply(lambda col2: distcorr(col1, col2)))\n",
    "\n",
    "# check output\n",
    "pd.options.display.float_format = '{:,.2f}'.format\n",
    "rslt"
   ]
  },
  {
   "cell_type": "markdown",
   "metadata": {},
   "source": [
    "Now isn't that a useful table!\n",
    "\n",
    "Let’s calculate a couple of values directly, to be sure."
   ]
  },
  {
   "cell_type": "code",
   "execution_count": null,
   "metadata": {},
   "outputs": [],
   "source": [
    "print (\"distance correlation = {:.2f}\".format(dcor.distance_correlation(data['Production'], data['Phi_h'])))\n",
    "print (\"distance correlation = {:.2f}\".format(dcor.distance_correlation(data['Production'], data['Position'])))\n",
    "print (\"distance correlation = {:.2f}\".format(dcor.distance_correlation(data['Production'], data['Gross_pay'])))\n",
    "print (\"distance correlation = {:.2f}\".format(dcor.distance_correlation(data['Production'], data['Pressure'])))\n",
    "print (\"distance correlation = {:.2f}\".format(dcor.distance_correlation(data['Production'], data['Random_1'])))\n",
    "print (\"distance correlation = {:.2f}\".format(dcor.distance_correlation(data['Production'], data['Random_2'])))"
   ]
  },
  {
   "cell_type": "markdown",
   "metadata": {},
   "source": [
    "What we expected: `Production` is related to both `Phi_h` and `Position`!\n",
    "\n",
    "Now let's use the table above as a matrix, rather than the raw data, to cluster the variables, and then display the result with a [heat-map](https://en.wikipedia.org/wiki/Heat_map) and accompanying [dendrograms](https://en.wikipedia.org/wiki/Dendrogram)."
   ]
  },
  {
   "cell_type": "code",
   "execution_count": null,
   "metadata": {},
   "outputs": [],
   "source": [
    "data.rename(index=str, columns={\"Gross_pay_transform\": \"Gross_pay_tr\"}, inplace=True)\n",
    "distcorr = lambda column1, column2: dcor.distance_correlation(column1, column2)\n",
    "rslt = data.apply(lambda col1: data.apply(lambda col2: distcorr(col1, col2)))\n",
    "\n",
    "#h = heatmap.Heatmap(rslt)\n",
    "#h.plot(vmin=0.0, vmax=1.1, cmap='cubehelix')\n",
    "#fig = plt.gcf()\n",
    "#fig.set_size_inches(22, 18)\n",
    "#plt.gcf().get_axes()[1].invert_xaxis();\n",
    "\n",
    "# heatmap\n",
    "#ax = sns.heatmap(rslt, linewidth=0.5)\n",
    "#fig = pyplot.gcf()\n",
    "#fig.set_size_inches(12, 8)\n",
    "#pyplot.gcf().get_axes()[1].invert_xaxis();\n",
    "#pyplot.show()\n",
    "\n",
    "# heatmp + dendrogram\n",
    "g = sns.clustermap(rslt, cmap=\"mako\",  standard_scale =1)\n",
    "fig = pyplot.gcf()\n",
    "fig.set_size_inches(12, 12);"
   ]
  },
  {
   "cell_type": "markdown",
   "metadata": {},
   "source": [
    "`Production`, `Phi_h`, `Gross_Pay`, and `Gross_pay_transform` group together, but now the observation is ***based on a much more robust metric***. `Position` is not as ***close***, and ends up in a different cluster, although its distance correlation from `Production` is 0.45, and the p-value is <0.10, hence it is still a relevant variable.\n",
    "\n",
    "Recall, the [p-value](https://en.wikipedia.org/wiki/P-value) or **p**robability **value** is the probability of obtaining test results at least as extreme as the results actually observed during the test, ***assuming that the null hypothesis is correct***. If it's ***low***, we can safely assume that the null hypothesis is ***not correct***, and we have some correlation.\n",
    "\n",
    "In conclusion, `Gross_pay`, and `Gross_pay_transform` are very much related to one another, with high dependence.\n",
    "\n",
    "But I still do not know, in the context of variable selection for predicting `Production`, which one I should drop: We only know it should be `Gross_pay_transform` because the data is artificial!\n",
    "\n",
    "For proper variable selection look at techniques like [Least Absolute Shrinkage and Selection Operator](https://en.wikipedia.org/wiki/Lasso_(statistics)) (LASSO) and [Recursive Feature Elimination](https://en.wikipedia.org/wiki/Feature_selection)."
   ]
  },
  {
   "cell_type": "markdown",
   "metadata": {},
   "source": [
    "### Correlation matrix ordered by relevant features\n",
    "\n",
    "With distance correlation, p-value, and plots rearranged by clustering."
   ]
  },
  {
   "cell_type": "code",
   "execution_count": null,
   "metadata": {},
   "outputs": [],
   "source": [
    "a = (g.dendrogram_col.reordered_ind)\n",
    "a"
   ]
  },
  {
   "cell_type": "markdown",
   "metadata": {},
   "source": [
    " order of variables in the original DataFrame:"
   ]
  },
  {
   "cell_type": "code",
   "execution_count": null,
   "metadata": {},
   "outputs": [],
   "source": [
    "b = list(data)\n",
    "b"
   ]
  },
  {
   "cell_type": "markdown",
   "metadata": {},
   "source": [
    "rearrange them with those reordered column indices:"
   ]
  },
  {
   "cell_type": "code",
   "execution_count": null,
   "metadata": {},
   "outputs": [],
   "source": [
    "data = data[[b[i] for i in a]]\n",
    "list(data)"
   ]
  },
  {
   "cell_type": "code",
   "execution_count": null,
   "metadata": {},
   "outputs": [],
   "source": [
    "g = sns.PairGrid(data, diag_sharey=False)\n",
    "axes = g.axes\n",
    "g.map_upper(pyplot.scatter, linewidths=1, edgecolor=\"w\", s=90, alpha = 0.5)\n",
    "g.map_upper(corrfunc)\n",
    "g.map_diag(sns.kdeplot, lw = 4, legend=False)\n",
    "g.map_lower(sns.kdeplot, cmap=\"Blues_d\")\n",
    "pyplot.show()"
   ]
  },
  {
   "cell_type": "markdown",
   "metadata": {},
   "source": [
    "Do you see how the first three variables have correlation contours that are well differentiated, while the remaining ones are quite isotropic?\n",
    "\n",
    "This is what you would ideally have done in terms of EDA, for your athletic teams homework: Find columns correlated to your dependent (to be modelled) variable, and use those, leaving uncorrelated columns alone.\n",
    "\n",
    "- A ML algorithm that uses ***all*** columns is wasting CPU while ***learning values by heart*** * (as we will see in our upcoming deeper dive on regression forests), rather than **finding dependencies** between columns in order to do **intelligent**predictions. The opposite of intelligent predictions are **dumb predictions**, and AI is often not only ***not intelligent**, but also very ***dumb***.\n",
    "\n",
    "Data science is about building a **model** and throwing away the data. First, you build the model based on ***independent columns*** that somehow correlate (not necessarily linearly) to the dependent variable, throwing away one of the pair of these columns that are self-correlated, for all possible pairings (so you throw away all the other irrelevant columns). Then you verify your model with test data that was not used in training. And then you throw away the data and keep the model :-) "
   ]
  },
  {
   "cell_type": "markdown",
   "metadata": {},
   "source": [
    "## 4. Covariance Matrix use case \\#1: Financial risk\n",
    "\n",
    "For financiers and investment analysts, the trade-off between risk and returns of financial securities are of utmost importance.\n",
    "\n",
    "Investopedia defines Equity risk as one that:\n",
    "- Covers the risk involved in the volatile price changes of shares of stock. Changes in prices because of market differences, political changes, natural calamities, diplomatic changes or economic conflicts may cause volatile foreign investment conditions that may expose businesses and individuals to foreign investment risk.\n",
    "\n",
    "Basically, investors don’t like surprises. A highly volatile stock is one whose prices changes too fast. An equity’s risk is thus embedded in the volatility of its prices. So what’s the best measure of price volatilities (risk) in the world of Finance? Standard Deviation!\n",
    "\n",
    "```(python)\n",
    "pip install pandas-datareader --upgrade\n",
    "```"
   ]
  },
  {
   "cell_type": "code",
   "execution_count": 2,
   "metadata": {},
   "outputs": [
    {
     "data": {
      "text/plain": [
       "<Figure size 1000x600 with 1 Axes>"
      ]
     },
     "metadata": {},
     "output_type": "display_data"
    }
   ],
   "source": [
    "import pandas as pd\n",
    "from pandas_datareader import data as web\n",
    "import matplotlib.pyplot as plt\n",
    "from datetime import datetime\n",
    "\n",
    "start = datetime(2016,1,1)\n",
    "end = datetime(2017,1,1)\n",
    "\n",
    "assets = ['AAPL', 'FB', 'TSLA']\n",
    "\n",
    "df = pd.DataFrame()\n",
    "\n",
    "for stock in assets:\n",
    "    df[stock] = web.DataReader(stock, data_source='yahoo', start=start, end=end)['Adj Close']\n",
    "\n",
    "asset_returns_daily = df.pct_change()\n",
    "asset_volatility_daily = asset_returns_daily.std()\n",
    "\n",
    "asset_returns_daily.plot.hist(bins=50, figsize=(10,6), alpha=0.6);\n",
    "plt.xlabel('Daily Returns')\n",
    "plt.show()"
   ]
  },
  {
   "cell_type": "markdown",
   "metadata": {},
   "source": [
    "The spread of daily returns of Tesla (TSLA) is the most volatile as it is the stock with the most widely ‘spreads’ of daily returns. Followed by Facebook and Apple with the least spreads.\n",
    "\n",
    "A [portfolio](https://en.wikipedia.org/wiki/Portfolio_(finance)) is simply a single pool which contains two or more securities in that single pool.\n",
    "\n",
    "The formula for measuring risk in a portfolio of various securities is:\n",
    "\n",
    "$$\\sigma_\\text{portfolio} = \\sqrt{w_1^2\\sigma_1^2 + w_2^2\\sigma_2^2 + 2 w_1w_2\\rho_{12}\\sigma_1\\sigma_2}$$\n",
    "\n",
    "where:\n",
    "\n",
    "$w_1$ = proportion of portfolio invested in asset \\#1\n",
    "\n",
    "$w_2$ = proportion of portfolio invested in asset \\#2\n",
    "\n",
    "$\\sigma_1$ = standard deviation of returns of asset \\#1\n",
    "\n",
    "$\\sigma_2$ = standard deviation of returns of asset \\#2\n",
    "\n",
    "$\\rho_{12}$ = correlation coefficient between returns of assets \\#1 and \\#2\n",
    "\n",
    "Note that $Cov_{12} = \\rho_{12} * \\sigma_1 * \\sigma_2$.\n",
    "\n",
    "With matrix algebra:\n",
    "\n",
    "<br />\n",
    "<center>\n",
    "<img src=\"ipynb.images/portfolio-variance.gif\" width=400 />\n",
    "</center>\n",
    "\n",
    "Pandas to the rescue:"
   ]
  },
  {
   "cell_type": "code",
   "execution_count": 2,
   "metadata": {},
   "outputs": [
    {
     "data": {
      "text/html": [
       "<div>\n",
       "<style scoped>\n",
       "    .dataframe tbody tr th:only-of-type {\n",
       "        vertical-align: middle;\n",
       "    }\n",
       "\n",
       "    .dataframe tbody tr th {\n",
       "        vertical-align: top;\n",
       "    }\n",
       "\n",
       "    .dataframe thead th {\n",
       "        text-align: right;\n",
       "    }\n",
       "</style>\n",
       "<table border=\"1\" class=\"dataframe\">\n",
       "  <thead>\n",
       "    <tr style=\"text-align: right;\">\n",
       "      <th></th>\n",
       "      <th>AAPL</th>\n",
       "      <th>FB</th>\n",
       "      <th>TSLA</th>\n",
       "    </tr>\n",
       "  </thead>\n",
       "  <tbody>\n",
       "    <tr>\n",
       "      <th>AAPL</th>\n",
       "      <td>1.000000</td>\n",
       "      <td>0.602743</td>\n",
       "      <td>0.043634</td>\n",
       "    </tr>\n",
       "    <tr>\n",
       "      <th>FB</th>\n",
       "      <td>0.602743</td>\n",
       "      <td>1.000000</td>\n",
       "      <td>0.107923</td>\n",
       "    </tr>\n",
       "    <tr>\n",
       "      <th>TSLA</th>\n",
       "      <td>0.043634</td>\n",
       "      <td>0.107923</td>\n",
       "      <td>1.000000</td>\n",
       "    </tr>\n",
       "  </tbody>\n",
       "</table>\n",
       "</div>"
      ],
      "text/plain": [
       "          AAPL        FB      TSLA\n",
       "AAPL  1.000000  0.602743  0.043634\n",
       "FB    0.602743  1.000000  0.107923\n",
       "TSLA  0.043634  0.107923  1.000000"
      ]
     },
     "execution_count": 2,
     "metadata": {},
     "output_type": "execute_result"
    }
   ],
   "source": [
    "# correlation matrix of daily returns\n",
    "df.corr()"
   ]
  },
  {
   "cell_type": "code",
   "execution_count": 3,
   "metadata": {},
   "outputs": [
    {
     "data": {
      "text/html": [
       "<div>\n",
       "<style scoped>\n",
       "    .dataframe tbody tr th:only-of-type {\n",
       "        vertical-align: middle;\n",
       "    }\n",
       "\n",
       "    .dataframe tbody tr th {\n",
       "        vertical-align: top;\n",
       "    }\n",
       "\n",
       "    .dataframe thead th {\n",
       "        text-align: right;\n",
       "    }\n",
       "</style>\n",
       "<table border=\"1\" class=\"dataframe\">\n",
       "  <thead>\n",
       "    <tr style=\"text-align: right;\">\n",
       "      <th></th>\n",
       "      <th>AAPL</th>\n",
       "      <th>FB</th>\n",
       "      <th>TSLA</th>\n",
       "    </tr>\n",
       "  </thead>\n",
       "  <tbody>\n",
       "    <tr>\n",
       "      <th>count</th>\n",
       "      <td>252.000000</td>\n",
       "      <td>252.000000</td>\n",
       "      <td>252.000000</td>\n",
       "    </tr>\n",
       "    <tr>\n",
       "      <th>mean</th>\n",
       "      <td>99.260086</td>\n",
       "      <td>117.035873</td>\n",
       "      <td>209.767262</td>\n",
       "    </tr>\n",
       "    <tr>\n",
       "      <th>std</th>\n",
       "      <td>7.696804</td>\n",
       "      <td>8.899858</td>\n",
       "      <td>21.369476</td>\n",
       "    </tr>\n",
       "    <tr>\n",
       "      <th>min</th>\n",
       "      <td>85.651482</td>\n",
       "      <td>94.160004</td>\n",
       "      <td>143.669998</td>\n",
       "    </tr>\n",
       "    <tr>\n",
       "      <th>25%</th>\n",
       "      <td>91.797560</td>\n",
       "      <td>112.202499</td>\n",
       "      <td>196.639996</td>\n",
       "    </tr>\n",
       "    <tr>\n",
       "      <th>50%</th>\n",
       "      <td>99.838741</td>\n",
       "      <td>117.764999</td>\n",
       "      <td>208.705002</td>\n",
       "    </tr>\n",
       "    <tr>\n",
       "      <th>75%</th>\n",
       "      <td>105.676069</td>\n",
       "      <td>123.902502</td>\n",
       "      <td>223.282505</td>\n",
       "    </tr>\n",
       "    <tr>\n",
       "      <th>max</th>\n",
       "      <td>112.720345</td>\n",
       "      <td>133.279999</td>\n",
       "      <td>265.420013</td>\n",
       "    </tr>\n",
       "  </tbody>\n",
       "</table>\n",
       "</div>"
      ],
      "text/plain": [
       "             AAPL          FB        TSLA\n",
       "count  252.000000  252.000000  252.000000\n",
       "mean    99.260086  117.035873  209.767262\n",
       "std      7.696804    8.899858   21.369476\n",
       "min     85.651482   94.160004  143.669998\n",
       "25%     91.797560  112.202499  196.639996\n",
       "50%     99.838741  117.764999  208.705002\n",
       "75%    105.676069  123.902502  223.282505\n",
       "max    112.720345  133.279999  265.420013"
      ]
     },
     "execution_count": 3,
     "metadata": {},
     "output_type": "execute_result"
    }
   ],
   "source": [
    "df.describe()"
   ]
  },
  {
   "cell_type": "code",
   "execution_count": 4,
   "metadata": {},
   "outputs": [
    {
     "data": {
      "text/plain": [
       "<matplotlib.axes._subplots.AxesSubplot at 0x178dbbcc518>"
      ]
     },
     "execution_count": 4,
     "metadata": {},
     "output_type": "execute_result"
    },
    {
     "data": {
      "image/png": "[encoded data removed]",
      "text/plain": [
       "<Figure size 432x288 with 1 Axes>"
      ]
     },
     "metadata": {
      "needs_background": "light"
     },
     "output_type": "display_data"
    }
   ],
   "source": [
    "df.plot()"
   ]
  },
  {
   "cell_type": "markdown",
   "metadata": {},
   "source": [
    "#### Exercise:  Calculate the Variance and Volatility...\n",
    "\n",
    "of an equally weighted portfolio made up of five (5) stocks; Apple, General Motors, General Electric, Facebook and Walmart"
   ]
  },
  {
   "cell_type": "code",
   "execution_count": 5,
   "metadata": {},
   "outputs": [],
   "source": [
    "from pandas_datareader import data as web\n",
    "import pandas as pd\n",
    "import numpy as np\n",
    "\n",
    "assets =  ['AAPL', 'GM', 'GE', 'FB', 'WMT'] \n",
    "\n",
    "df = pd.DataFrame()  \n",
    "\n",
    "for stock in assets:\n",
    "    df[stock] = web.DataReader(stock, data_source='yahoo',\n",
    "                               start='2015-1-1' , end='2017-1-1')['Adj Close']\n",
    "\n",
    "d_returns = df.pct_change()  \n",
    "\n",
    "cov_matrix_d = d_returns.cov()\n",
    "cov_matrix_a = cov_matrix_d * 250\n",
    "\n",
    "weights = np.array([0.2, 0.2, 0.2, 0.2, 0.2])  # assign equal weights"
   ]
  },
  {
   "cell_type": "code",
   "execution_count": 6,
   "metadata": {},
   "outputs": [
    {
     "name": "stdout",
     "output_type": "stream",
     "text": [
      "Variance of Portfolio is 2.5700000000000003%, Portfolio Risk is 16.04%\n"
     ]
    }
   ],
   "source": [
    "port_variance = np.dot(weights.T, np.dot(cov_matrix_a, weights))\n",
    "port_volatility = np.sqrt(np.dot(weights.T, np.dot(cov_matrix_a, weights)))\n",
    "\n",
    "percent_var = str(round(port_variance, 4) * 100) + '%'\n",
    "percent_vols = str(round(port_volatility, 4) * 100) + '%'\n",
    "\n",
    "print('Variance of Portfolio is {}, Portfolio Risk is {}'\n",
    "      .format(percent_var, percent_vols)) "
   ]
  },
  {
   "cell_type": "markdown",
   "metadata": {},
   "source": [
    "<div style=\"display:none;\">\n",
    "from pandas_datareader import data as web\n",
    "import pandas as pd\n",
    "import numpy as np\n",
    "\n",
    "assets =  ['AAPL', 'GM', 'GE', 'FB', 'WMT'] \n",
    "\n",
    "df = pd.DataFrame()  \n",
    "\n",
    "for stock in assets:\n",
    "    df[stock] = web.DataReader(stock, data_source='yahoo',\n",
    "                               start='2015-1-1' , end='2017-1-1')['Adj Close']\n",
    "\n",
    "d_returns = df.pct_change()  \n",
    "\n",
    "cov_matrix_d = d_returns.cov()\n",
    "cov_matrix_a = cov_matrix_d * 250\n",
    "\n",
    "weights = np.array([0.2, 0.2, 0.2, 0.2, 0.2])  # assign equal weights\n",
    "\n",
    "# calculate the variance and risk of the portfolo\n",
    "port_variance = np.dot(weights.T, np.dot(cov_matrix_a, weights))\n",
    "port_volatility = np.sqrt(np.dot(weights.T, np.dot(cov_matrix_a, weights)))\n",
    "\n",
    "percent_var = str(round(port_variance, 4) * 100) + '%'\n",
    "percent_vols = str(round(port_volatility, 4) * 100) + '%'\n",
    "\n",
    "print('Variance of Portfolio is {}, Portfolio Risk is {}'\n",
    "      .format(percent_var, percent_vols))    \n",
    "</div>"
   ]
  },
  {
   "cell_type": "code",
   "execution_count": null,
   "metadata": {},
   "outputs": [],
   "source": []
  },
  {
   "cell_type": "markdown",
   "metadata": {},
   "source": [
    "## 5. Covariance Matrix use case \\#2: Multivariate distributions\n",
    "\n",
    "So far we've only been looking at observations with a single feature. We call these **univariate**.\n",
    "\n",
    "Let's branch off to multiple variables, or **mutli-variate data**. \n",
    "\n",
    "Initially we will assume that they are **independently normal distributed**. That is, each feature is normally distributed on its own, and there is no correlation between them.  This will allow us to evaluate how traditional anomaly detection performs on realistic data, because realistic data is seldom univariate. "
   ]
  },
  {
   "cell_type": "code",
   "execution_count": 7,
   "metadata": {},
   "outputs": [
    {
     "data": {
      "image/png": "[encoded data removed]",
      "text/plain": [
       "<Figure size 432x288 with 1 Axes>"
      ]
     },
     "metadata": {
      "needs_background": "light"
     },
     "output_type": "display_data"
    }
   ],
   "source": [
    "N = 1000\n",
    "X1 = np.random.normal(4, 12, N)\n",
    "X2 = np.random.normal(9, 5, N)\n",
    "plt.scatter(X1, X2)\n",
    "plt.show()"
   ]
  },
  {
   "cell_type": "code",
   "execution_count": 8,
   "metadata": {},
   "outputs": [
    {
     "name": "stdout",
     "output_type": "stream",
     "text": [
      "Sample Mean 1: 3.698447745770586\n",
      "Sample Mean 2: 9.009886041818381\n",
      "Sample Standard Deviation 1: 12.042475403715851\n",
      "Sample Standard Deviation 2: 4.9638527544660604\n"
     ]
    }
   ],
   "source": [
    "x1_sample_mean = X1.mean()\n",
    "x2_sample_mean = X2.mean()\n",
    "x1_sample_sigma = X1.std()\n",
    "x2_sample_sigma = X2.std()\n",
    "print('Sample Mean 1:', x1_sample_mean)\n",
    "print('Sample Mean 2:', x2_sample_mean)\n",
    "print('Sample Standard Deviation 1:', x1_sample_sigma)\n",
    "print('Sample Standard Deviation 2:', x2_sample_sigma)"
   ]
  },
  {
   "cell_type": "markdown",
   "metadata": {},
   "source": [
    "Let's look at a heatmap of where we would expect to find observations given the 2D hisotgram implied by these distributions."
   ]
  },
  {
   "cell_type": "code",
   "execution_count": 9,
   "metadata": {},
   "outputs": [
    {
     "data": {
      "text/plain": [
       "<matplotlib.collections.PathCollection at 0x178eb3b3320>"
      ]
     },
     "execution_count": 9,
     "metadata": {},
     "output_type": "execute_result"
    },
    {
     "data": {
      "image/png": "[encoded data removed]",
      "text/plain": [
       "<Figure size 432x288 with 1 Axes>"
      ]
     },
     "metadata": {
      "needs_background": "light"
     },
     "output_type": "display_data"
    }
   ],
   "source": [
    "from scipy.stats import multivariate_normal\n",
    "\n",
    "delta = 0.025\n",
    "x1 = np.arange(-40, 50, delta)\n",
    "x2 = np.arange(-10, 30, delta)\n",
    "x, y = np.meshgrid(x1, x2)\n",
    "\n",
    "pos = np.empty(x.shape + (2,))\n",
    "pos[:, :, 0] = x; pos[:, :, 1] = y\n",
    "\n",
    "rv = multivariate_normal([x1_sample_mean, x2_sample_mean], [[x1_sample_sigma**2, 0.], [0., x2_sample_sigma**2]])\n",
    "plt.contourf(x, y, rv.pdf(pos))\n",
    "\n",
    "thinned_points = np.array([n in np.random.choice(N, 300) for n in range(N)])\n",
    "plt.scatter(X1[thinned_points], X2[thinned_points], c='gray')"
   ]
  },
  {
   "cell_type": "markdown",
   "metadata": {},
   "source": [
    "Because the two variables are independent and uncorrelated, we get nice concentric circles (ellipses, really) for our 2D histogram.\n",
    "\n",
    "Our histogram allows us to artifically generate data that looks like our empirical data.\n",
    "\n",
    "As we move in towards the means (towards bright areas), we're increasingly likely to draw an observation that matches our empirical dataset. As we move away from the means (towards dark areas), we're less likely to generate a point that matches our dataset. We might decide that anything in the black region is **anomalous**.\n",
    "\n",
    "Note that because the distribution of the x2 has a ***smaller variance***, the area of high probability is much thinner vertically than it is horizontally: our histogram is ***squished*** in the vertical dimension."
   ]
  },
  {
   "cell_type": "markdown",
   "metadata": {},
   "source": [
    "### Correlated Multivariate data\n",
    "\n",
    "What if our two datasets x1 and x2 are **correlated**, for example the way domain names and URL lengths are correlated:\n",
    "\n",
    "Let's build a 2D dataset where the two random variables are correlated."
   ]
  },
  {
   "cell_type": "code",
   "execution_count": 11,
   "metadata": {},
   "outputs": [
    {
     "data": {
      "image/png": "[encoded data removed]",
      "text/plain": [
       "<Figure size 432x432 with 3 Axes>"
      ]
     },
     "metadata": {
      "needs_background": "light"
     },
     "output_type": "display_data"
    }
   ],
   "source": [
    "import seaborn as sns\n",
    "def positive_support_normal(mean, sigma, n):\n",
    "    xs = np.random.normal(mean, sigma, n)\n",
    "    for i, num in enumerate(xs):\n",
    "        while num < 0:\n",
    "            num = np.random.normal(mean[i], sigma)\n",
    "        xs[i] = num\n",
    "    return xs\n",
    "    \n",
    "N = 1000\n",
    "\n",
    "mu_cons = 10\n",
    "sigma_cons = 6\n",
    "sigma_latency = 20\n",
    "beta = 3\n",
    "\n",
    "cons = positive_support_normal(np.array([mu_cons]*N), sigma_cons, N)\n",
    "latency = positive_support_normal(beta * cons, sigma_latency, N)\n",
    "ax = sns.jointplot('cons', 'latency', pd.DataFrame({'cons': cons, 'latency': latency}))"
   ]
  },
  {
   "cell_type": "markdown",
   "metadata": {},
   "source": [
    "If we use our previous uncorrelated histogram, we're clearly not going to match our data, as our data is **skewed** in the diagonal, towards the origin.\n",
    "\n",
    "We can capture the correlation between x1 and x2 by filling in the values of the correlation matrix. But the problem is, we don't know what these values are!\n",
    "\n",
    "Let's try a few different values."
   ]
  },
  {
   "cell_type": "code",
   "execution_count": 12,
   "metadata": {},
   "outputs": [
    {
     "data": {
      "text/plain": [
       "<matplotlib.contour.QuadContourSet at 0x178e8d03ef0>"
      ]
     },
     "execution_count": 12,
     "metadata": {},
     "output_type": "execute_result"
    },
    {
     "data": {
      "image/png": "[encoded data removed]",
      "text/plain": [
       "<Figure size 432x288 with 1 Axes>"
      ]
     },
     "metadata": {
      "needs_background": "light"
     },
     "output_type": "display_data"
    }
   ],
   "source": [
    "delta = 0.025\n",
    "x1 = np.arange(-40, 50, delta)\n",
    "x2 = np.arange(-10, 30, delta)\n",
    "x, y = np.meshgrid(x1, x2)\n",
    "\n",
    "pos = np.empty(x.shape + (2,))\n",
    "pos[:, :, 0] = x; pos[:, :, 1] = y\n",
    "\n",
    "x1_x2_corr_sigma = 7\n",
    "\n",
    "rv = multivariate_normal([x1_sample_mean, x2_sample_mean], \n",
    "                         [[x1_sample_sigma**2, x1_x2_corr_sigma**2], [x1_x2_corr_sigma**2, x2_sample_sigma**2]])\n",
    "plt.contourf(x, y, rv.pdf(pos))"
   ]
  },
  {
   "cell_type": "markdown",
   "metadata": {},
   "source": [
    "### Homework\n",
    "\n",
    "We see that we capture our data better, but the problem is we do not know what the value of `x1_x2_sigma` might be.\n",
    "\n",
    "Find the values of the correlation matrix"
   ]
  },
  {
   "cell_type": "markdown",
   "metadata": {},
   "source": []
  },
  {
   "cell_type": "markdown",
   "metadata": {},
   "source": [
    "## 6. Multivariate Gaussian distribution in 3D\n",
    "\n",
    "The plot below shows us in 3D, the independent multivariate gaussian distribution we introduced above."
   ]
  },
  {
   "cell_type": "code",
   "execution_count": 3,
   "metadata": {},
   "outputs": [
    {
     "data": {
      "image/png": "[encoded data removed]",
      "text/plain": [
       "<Figure size 432x288 with 1 Axes>"
      ]
     },
     "metadata": {
      "needs_background": "light"
     },
     "output_type": "display_data"
    }
   ],
   "source": [
    "import numpy as np\n",
    "import matplotlib.pyplot as plt\n",
    "from matplotlib import cm\n",
    "from mpl_toolkits.mplot3d import Axes3D\n",
    "\n",
    "# Our 2-dimensional distribution will be over variables X and Y\n",
    "N = 60\n",
    "X = np.linspace(-3, 3, N)\n",
    "Y = np.linspace(-3, 4, N)\n",
    "X, Y = np.meshgrid(X, Y)\n",
    "\n",
    "# Mean vector and covariance matrix\n",
    "mu = np.array([0., 1.])\n",
    "Sigma = np.array([[ 1. , 0], [0,  1.5]])\n",
    "\n",
    "# Pack X and Y into a single 3-dimensional array\n",
    "pos = np.empty(X.shape + (2,))\n",
    "pos[:, :, 0] = X\n",
    "pos[:, :, 1] = Y\n",
    "\n",
    "def multivariate_gaussian(pos, mu, Sigma):\n",
    "    \"\"\"Return the multivariate Gaussian distribution on array pos.\n",
    "\n",
    "    pos is an array constructed by packing the meshed arrays of variables\n",
    "    x_1, x_2, x_3, ..., x_k into its _last_ dimension.\n",
    "\n",
    "    \"\"\"\n",
    "\n",
    "    n = mu.shape[0]\n",
    "    Sigma_det = np.linalg.det(Sigma)\n",
    "    Sigma_inv = np.linalg.inv(Sigma)\n",
    "    N = np.sqrt((2*np.pi)**n * Sigma_det)\n",
    "    # This einsum call calculates (x-mu)T.Sigma-1.(x-mu) in a vectorized\n",
    "    # way across all the input variables.\n",
    "    fac = np.einsum('...k,kl,...l->...', pos-mu, Sigma_inv, pos-mu)\n",
    "\n",
    "    return np.exp(-fac / 2) / N\n",
    "\n",
    "# The distribution on the variables X, Y packed into pos.\n",
    "Z = multivariate_gaussian(pos, mu, Sigma)\n",
    "\n",
    "# Create a surface plot and projected filled contour plot under it.\n",
    "fig = plt.figure()\n",
    "ax = fig.gca(projection='3d')\n",
    "ax.plot_surface(X, Y, Z, rstride=3, cstride=3, linewidth=1, antialiased=True,\n",
    "                cmap=cm.viridis)\n",
    "\n",
    "cset = ax.contourf(X, Y, Z, zdir='z', offset=-0.15, cmap=cm.viridis)\n",
    "\n",
    "# Adjust the limits, ticks and view angle\n",
    "ax.set_zlim(-0.15,0.2)\n",
    "ax.set_zticks(np.linspace(0,0.2,5))\n",
    "ax.view_init(27, -21)\n",
    "\n",
    "plt.show()"
   ]
  },
  {
   "cell_type": "markdown",
   "metadata": {},
   "source": [
    "The matrix multiplication in the exponential is achieved with NumPy's `einsum` method. The single call:\n",
    "```(python)\n",
    "fac = np.einsum('...k,kl,...l->...', pos-mu, Sigma_inv, pos-mu)\n",
    "```\n",
    "\n",
    "could be written, in the two-dimensional case as:\n",
    "```(python)\n",
    "fac = np.einsum('ijk,kl,ijl->ij', x-mu, Sigma_inv, x-mu)\n",
    "```\n",
    "\n",
    "and is equivalent to the following sequence of products:\n",
    "```(python)\n",
    "fac = np.einsum('ijk,kl->ijl', pos-mu, Sigma_inv)\n",
    "fac = np.einsum('ijk,ijk->ij', fac, pos-mu)\n",
    "```\n",
    "\n",
    "The first call here is simply the dot product of the $n_x$×$n_y$×2 array pos-mu and the 2×2 covariance matrix Sigma_inv (it could be replaced with np.dot(pos-mu, Sigma_inv)) and results in another $n_x$×$n_y$×2 array. This is really a $n_x$×$n_y$ matrix of vectors, and NumPy has a hard time taking the appropriate dot product with another $n_x$×$n_y$ matrix of vectors, pos-mu: ***we want a matrix of vector dot products, not a vector of matrix dot products***. \n",
    "\n",
    "`einsum` allows us to explicitly state which indexes are to be summed over (the last dimension, indicated by the repeated k in the string of subscripts 'ijk,ijk->ij').\n",
    "\n",
    "- Since SciPy 0.14, there has been a multivariate_normal function in the scipy.stats subpackage which can also be used to obtain the multivariate Gaussian probability distribution function:"
   ]
  },
  {
   "cell_type": "code",
   "execution_count": 4,
   "metadata": {},
   "outputs": [
    {
     "data": {
      "image/png": "[encoded data removed]",
      "text/plain": [
       "<Figure size 432x288 with 1 Axes>"
      ]
     },
     "metadata": {
      "needs_background": "light"
     },
     "output_type": "display_data"
    }
   ],
   "source": [
    "from scipy.stats import multivariate_normal\n",
    "F = multivariate_normal(mu, Sigma)\n",
    "Z = F.pdf(pos)\n",
    "\n",
    "# Create a surface plot and projected filled contour plot under it.\n",
    "fig = plt.figure()\n",
    "ax = fig.gca(projection='3d')\n",
    "ax.plot_surface(X, Y, Z, rstride=3, cstride=3, linewidth=1, antialiased=True,\n",
    "                cmap=cm.viridis)\n",
    "\n",
    "cset = ax.contourf(X, Y, Z, zdir='z', offset=-0.15, cmap=cm.viridis)\n",
    "\n",
    "# Adjust the limits, ticks and view angle\n",
    "ax.set_zlim(-0.15,0.2)\n",
    "ax.set_zticks(np.linspace(0,0.2,5))\n",
    "ax.view_init(27, -21)\n",
    "\n",
    "plt.show()"
   ]
  },
  {
   "cell_type": "markdown",
   "metadata": {},
   "source": [
    "Now, let's **introduce some correlation between X & Y:**"
   ]
  },
  {
   "cell_type": "code",
   "execution_count": 5,
   "metadata": {},
   "outputs": [
    {
     "data": {
      "image/png": "[encoded data removed]",
      "text/plain": [
       "<Figure size 432x288 with 1 Axes>"
      ]
     },
     "metadata": {
      "needs_background": "light"
     },
     "output_type": "display_data"
    }
   ],
   "source": [
    "Sigma = np.array([[ 1. , 0.99], [0.99,  1.5]])\n",
    "\n",
    "F = multivariate_normal(mu, Sigma)\n",
    "Z = F.pdf(pos)\n",
    "\n",
    "# Create a surface plot and projected filled contour plot under it.\n",
    "fig = plt.figure()\n",
    "ax = fig.gca(projection='3d')\n",
    "ax.plot_surface(X, Y, Z, rstride=3, cstride=3, linewidth=1, antialiased=True,\n",
    "                cmap=cm.viridis)\n",
    "\n",
    "cset = ax.contourf(X, Y, Z, zdir='z', offset=-0.15, cmap=cm.viridis)\n",
    "\n",
    "# Adjust the limits, ticks and view angle\n",
    "ax.set_zlim(-0.15,0.2)\n",
    "ax.set_zticks(np.linspace(0,0.2,5))\n",
    "ax.view_init(27, -21)\n",
    "\n",
    "plt.show()"
   ]
  },
  {
   "cell_type": "code",
   "execution_count": 6,
   "metadata": {},
   "outputs": [
    {
     "data": {
      "image/png": "[encoded data removed]",
      "text/plain": [
       "<Figure size 432x288 with 1 Axes>"
      ]
     },
     "metadata": {
      "needs_background": "light"
     },
     "output_type": "display_data"
    }
   ],
   "source": [
    "Sigma = np.array([[ 1. , -0.9], [-0.9,  1.5]])\n",
    "\n",
    "F = multivariate_normal(mu, Sigma)\n",
    "Z = F.pdf(pos)\n",
    "\n",
    "# Create a surface plot and projected filled contour plot under it.\n",
    "fig = plt.figure()\n",
    "ax = fig.gca(projection='3d')\n",
    "ax.plot_surface(X, Y, Z, rstride=3, cstride=3, linewidth=1, antialiased=True,\n",
    "                cmap=cm.viridis)\n",
    "\n",
    "cset = ax.contourf(X, Y, Z, zdir='z', offset=-0.15, cmap=cm.viridis)\n",
    "\n",
    "# Adjust the limits, ticks and view angle\n",
    "ax.set_zlim(-0.15,0.2)\n",
    "ax.set_zticks(np.linspace(0,0.2,5))\n",
    "ax.view_init(27, -21)\n",
    "\n",
    "plt.show()"
   ]
  },
  {
   "cell_type": "markdown",
   "metadata": {},
   "source": [
    "Do you see how we get a non-isotropic pattern, indicating correlation between X & Y?"
   ]
  },
  {
   "cell_type": "markdown",
   "metadata": {},
   "source": [
    "## 7. Introduction to Gaussian Processes (GP)\n",
    "\n",
    "Supervised learning can be divided into *regression* and *classification* problems. Whereas the outputs for classification are *discrete* (categorica) class labels, regression is concerned with the prediction of *continuous quantities*. For example, in a financial application, you may attempt to predict the price of a commodity as a function of interest rates, currency exchange rates, availability and demand. Or, given stats about World Cup teams, you may attempt to predict the winner of the next World Cup.\n",
    "\n",
    "Gaussian Processes (GP) is the **state of the art** of regression modeling.\n",
    "\n",
    "When we studied Baeysian estimation, we restricted the class of model functions to consider well known probability density functions arising in probability theory, such as **Poisson**, **Beta**, **Gamma** etc. \n",
    "\n",
    "Today, we're going to see that we can take priors to be *every possible function*, where higher probabilities are given to functions that we consider to be more likely, for example because they're smoother.\n",
    "\n",
    "Has professor gone mad?! How is it possible to consider *all* possible functions? There are so many!\n",
    "\n",
    "</br >\n",
    "<center>\n",
    "<img src=\"ipynb.images/crazyprof.png\" width=300 />\n",
    "</center>"
   ]
  },
  {
   "cell_type": "markdown",
   "metadata": {},
   "source": [
    "### GP definition\n",
    "\n",
    "A **Univariate** Gaussian is a distributions over real valued variables.\n",
    "\n",
    "A **Multivariate** Gaussian is a tuple (e.g. pairs for 2 random variables, triplets for 3 random variables, etc.) of real valued variables.\n",
    "\n",
    "A **Gaussian Process** is not a countable sequence anymore! It's a **function** of (infinite numbers of) real\n",
    "valued variables.\n",
    "\n",
    "For example: Assume I want to measure my heart rate. I bike a lot, so my resting heart rate is around 50 bpm. When I competed actively, it could hover sometimes around 39. Suppose I want to measure my heart rate 4 times a day: morning, lunch, afternoon, and bedtime. Each day, 4 times a day, I would get a measurement (different every day). From the data, I would use Bayesian estimation to evaluate the pdf of my heart rate, complete with mean and standard deviation, and plotted as a 4D mutlivariate gaussian (it would be a univariate gaussian in the morning, ***another*** univariate gaussian at lunch, ***yet another*** in the afternoon, ***and another*** at bedtime). Since some days I am well-rested, and others I may be sick or tired, I'm assuming there will be a degree of correlation between the measurements in the morning, lunch, afternoon, and bedtime. For example, if I'm very tired and have a high heart rate in the morning, chances are it will be high at lunch, too! So I expect to see a non-isotropic 4D gaussian (well, not really see, for I cannot see a 5D-plot, but let's just say *imagine* as a 3D generalization).\n",
    "\n",
    "Then assume I get tired of measuring 4 times a day, and decide to buy a Polar watch, that automatically logs heart rate ***every 10 minutes a day***.\n",
    "\n",
    "</br >\n",
    "<center>\n",
    "<img src=\"ipynb.images/polar-hr.jpg\" width=200 />\n",
    "</center>\n",
    "\n",
    "There are 24 * 6 = 144 10-minute intervals a day, so now I have a 144D mutlivariate Gaussian. \n",
    "\n",
    "Assume I go nuts and decide to measure heart-rate every 10 seconds. How many dimensions does my mutlivariate Gaussian have? And what's the correlation between each univariate Gaussian? Pretty high, right?\n",
    "\n",
    "Let's take this process to the limit, where I essentially start sampling from a **function** defined over a day on the x-axis, and heart-rate on the y-axis. That function is a [gaussian process](https://en.wikipedia.org/wiki/Gaussian_process).\n",
    "\n",
    "Whereas a multivariate Gaussian distribution is determined by its **mean** and **covariance matrix**, a Gaussian process is determined by its **mean function**, $\\mu(s)$, and **covariance function**, $C(s,t)$. \n",
    "\n",
    "The mean function defines the mean height of the function at each point and covariance function affects properties like the smoothness of the function, periodicity, etc. by saying how correlated each pair of points is.\n",
    "\n",
    "You can approximate a Gaussian process on an interval by selecting S to be a grid of evenly spaced points in that interval. Then to sample from the process, you can just sample a multivariate Gaussian distribution with a covariance matrix defined by your covariance function and your mean vector defined by your mean function. If you plot your sample versus your grid, you will see a smooth curve (assuming you used a common covariance function, like the power exponential)."
   ]
  },
  {
   "cell_type": "markdown",
   "metadata": {},
   "source": [
    "### Countably infinite and uncountably infinite sets\n",
    "\n",
    "Whereas a probability distribution describes random variables which are scalars, or vectors for multivariate distributions, a *stochastic process* governs the properties of *functions*. \n",
    "\n",
    "And yes I know, there are an [uncountably](https://en.wikipedia.org/wiki/Uncountable_set) infinite set of functions! How are we going to compute with this set in a finite amount of time? \n",
    "\n",
    "We *can* deal computationally with these infinite dimensional objects because if you ask *only* for the properties of the function at a *finite* number of points (our observations), then inference in the Gaussian process will give you the same answer whether you have infinitely many other points or not.\n",
    "\n",
    "You *can* loosely think of a function as a *very long vector* (collection), each entry of which specifies the function value $f(x)$ at a particular input $x$, right? And if our collection $[x]$ is finite, then our $[f(x)]$ collection is finite, too.\n",
    "\n",
    "So let's consider a simple 1-d regression problem, mapping from an input $x$ to an output $f(x)$.\n",
    "In the figure below we show a number of sample functions drawn at random from our prior distribution over functions which favours smooth functions. Then we freeze two observations in our posterior, so that immediately reduces the functions that we can use to those that cross these two observations. \n",
    "\n",
    "</br >\n",
    "<center>\n",
    "<img src=\"ipynb.images/gp-prior-posterior.png\" width=500 />\n",
    "</center>\n",
    "\n",
    "So, how many functions do you think we can fit through 2 points? How many functions do you think we can fit through 5 points?\n",
    "Remember our Vandermonde matrices? Specifying the points we want the polynomial to go through *froze* the polynomial for us. Let's freeze 5 points:\n",
    "\n",
    "```python\n",
    "# freeze 4 observations that our functions needs to go through\n",
    "x1 = numpy.array([-3.2, -1.5, 0.3, 0.7, 2.5])    # points where we know values\n",
    "y = numpy.array([ 4.5,  0.5, 0.6, 1.2, 3.5])     # values at those points\n",
    "```\n",
    "\n",
    "Go ahead, play with the observations below, modify them. You will always have the originals here above!"
   ]
  },
  {
   "cell_type": "code",
   "execution_count": 7,
   "metadata": {},
   "outputs": [
    {
     "name": "stdout",
     "output_type": "stream",
     "text": [
      "[-0.03180657 -0.1257808   0.64265738  0.97515726  0.25326737]\n",
      "B = [[ 1.048576e+02 -3.276800e+01  1.024000e+01 -3.200000e+00  1.000000e+00]\n",
      " [ 5.062500e+00 -3.375000e+00  2.250000e+00 -1.500000e+00  1.000000e+00]\n",
      " [ 8.100000e-03  2.700000e-02  9.000000e-02  3.000000e-01  1.000000e+00]\n",
      " [ 2.401000e-01  3.430000e-01  4.900000e-01  7.000000e-01  1.000000e+00]\n",
      " [ 3.906250e+01  1.562500e+01  6.250000e+00  2.500000e+00  1.000000e+00]] \n",
      "p = [-0.03180657 -0.1257808   0.64265738  0.97515726  0.25326737]\n",
      "p(x) = -0.03180657205425007x^4 + -0.12578079528543923 x^3 + 0.642657379886482 x^2 + 0.97515726018048 x + 0.253267372462419 is the unique cubic polynomial that interpolates these points.\n"
     ]
    },
    {
     "data": {
      "image/png": "[encoded data removed]",
      "text/plain": [
       "<Figure size 432x288 with 1 Axes>"
      ]
     },
     "metadata": {},
     "output_type": "display_data"
    }
   ],
   "source": [
    "%matplotlib inline\n",
    "import numpy\n",
    "from matplotlib import pyplot\n",
    "pyplot.style.use('ggplot')\n",
    "\n",
    "# our x-axis and our vandermonde degree 3 matrix\n",
    "x = numpy.linspace(-4, 3)\n",
    "A = numpy.array([x**4, x**3, x**2, x, 1+0*x]).T\n",
    "\n",
    "# freeze 5 observations that our functions needs to go through\n",
    "x1 = numpy.array([-3.2, -1.5, 0.3, 0.7, 2.5])    # points where we know values\n",
    "y = numpy.array([ 4.5,  0.5, 0.6, 1.2, 3.5])     # values at those points\n",
    "\n",
    "pyplot.plot(x1, y, '*')\n",
    "B = numpy.vander(x1)                     # Vandermonde matrix at the known points\n",
    "p = numpy.linalg.solve(B, y)             # Compute the polynomial coefficients\n",
    "print(p)\n",
    "pyplot.plot(x, A.dot(p))                 # Plot the polynomial evaluated at all points\n",
    "print('B =', B, '\\np =', p)\n",
    "print('p(x) = ' + str(p[0]) + 'x^4 + ' + \n",
    "                  str(p[1]) + ' x^3 + ' + \n",
    "                  str(p[2]) + ' x^2 + ' + \n",
    "                  str(p[3]) + ' x + ' + \n",
    "                  str(p[4]) + ' is the unique cubic polynomial that interpolates these points.')"
   ]
  },
  {
   "cell_type": "markdown",
   "metadata": {},
   "source": [
    "There may be a single quartic polynomial that passes through these points, but there is a countably infinite nunmber of functions that pass through these 5 points when we consider ***all possible functions***, including polynomials higher than quartic, exponentials, gaussians, Poissons, Gammas, etc."
   ]
  },
  {
   "cell_type": "markdown",
   "metadata": {},
   "source": [
    "### Learning in a Gaussian Process\n",
    "\n",
    "Ok, the example above just a quartic polynomial and our space of all possible functions consists of ***much much more*** than quartic polynomials.\n",
    "\n",
    "- So we have more choices and more functions that cross these points (in fact, still an uncountable infinite set)\n",
    "\n",
    "But we *did manage to restrict* our function space, if you can still talk about restricing uncountably infinite sets. If we pick ***very smooth functions***, these will oscillate so much, that they will predict gold deposits ***out of this world*** at some points, if we're Danei Krige and prospecting for gold. That's *no good*.\n",
    "\n",
    "</br >\n",
    "<center>\n",
    "<img src=\"ipynb.images/analytic-interpolations.png\" width=400 />\n",
    "    *smooth high-degree polynomial functions oscillate **a lot***\n",
    "</center>\n",
    "\n",
    "Gaussian processes (GPs) define a distribution on continuous functions with a continuous domain. We observe some points and want to assign probabilities to every possible way a curve could be drawn through those points. \n",
    "\n",
    "- The hope is the curves with highest probability are very similar to that true function we can (usually) never observe (e.g. the gold deposit profile under the mountain). Then the question is how to assign probability to each curve. \n",
    "\n",
    "GPs parameterize the probability in terms of a $n$x$n$ covariance matrix: A distance function (also called a **kernel function** of the user's choice) is calculated for ***every pair*** of the $n$ total **observed points**. \n",
    "\n",
    "- So we have a mulitvariate distribution, right? If we have N observation points, we have ourselves an N-variate distribution in N-D space. \n",
    "\n",
    "All this matrix does is control the GP's preference for **smoothness**. \n",
    "\n",
    "- If the kernel function results in a **high value** for one pair of points, then the GP assigns a **higher probability** to functions that connect those points with a relatively *simple* curve, like a **line** (smooth, doesn't have a bunch of wiggles). \n",
    "\n",
    "What is considered smooth or not is determined by the kernel function.\n",
    "\n",
    "- Although the specific random functions that cross these points do not have a **mean** of zero, you can imagine that as we plot more and more of them, the mean of $f(x)$ values for any fixed $x$, for all these functions combined, would go to zero independently of $x$. \n",
    "\n",
    "We can also characterize the *variability* of each of these functions, by computing the pointwise difference between all possible pairs $(p,q)$ of cov$_{(p,q)}(f(x_p)$, $f(x_q))$ in our interval of interest. \n",
    "\n",
    "- The more herky-jerky the function $f$ is, the higher the variance. The smoother $f$ is, the lower the variance. \n",
    "\n",
    "So each of these functions $f$ that we consider has a **covariance matrix**. In fact, it is well characterized by this matrix. What functions $f$ do we need so that the covriance matrix can be put in the form of a matrix of squared exponentials like so:\n",
    "\n",
    "$$cov_{(p,q)}(f(x_p), f(x_q) = exp(-\\frac{1}{2}(x_p - x_q)^2)$$\n",
    "\n",
    "It turns out, if you do the math, that if our functions $f$ are linear combinations of gaussians, the equality above holds well. We'll reexamine this in the math section of this document. \n",
    "\n",
    "- It can be shown (with math) that a squared exponential covariance function corresponds to a Bayesian **linear regression** model. \n",
    "\n",
    "Also, we can also obtain that covariance function from a linear combination of an infinite number of Gaussian-shaped functions. This is called [Mercer's theorem](https://en.wikipedia.org/wiki/Mercer%27s_theorem).\n",
    "\n",
    "Ok, good, so that is the process:\n",
    "\n",
    "- We have a **prior distribution of functions** (see figure (a) above), the same way we had prior distributions for each model parameter in Bayesian estimation. \n",
    "\n",
    "- We then observe **data points**. That freezes our covariance matrix for each of these functions in the prior distribution of functions. \n",
    "\n",
    "If we have 30 data points, the covariance matrix for each function $f$ will be a 30 x 30 matrix, and the matrix will contain in each cell the covariance between all pairs of these 30 points. \n",
    "\n",
    "- Our family of priors are ***shoehorned*** through these data points $(x_p, y_p)_p$ by ensuring that $f(x_p) = y_p$ for each $p$. This downselects our possible priors and yields our **posterior distribution of functions** (see figure (b) above).\n",
    "\n",
    "</br >\n",
    "<center>\n",
    "<img src=\"ipynb.images/shoehorn.jpg\" width=300 />\n",
    "    *Shoehorn*\n",
    "</center>\n",
    "\n",
    "Even when a lot of observations have been added, there is still a lot of flexibility left in the functions $f$ we can choose, because the cardinality of function is [Aleph-1](https://en.wikipedia.org/wiki/Aleph_number).\n",
    "\n",
    "Note that this process is called a **non-parametric model**. We had to find particular parameters for a *cubic polynomial* to go through some datapoints because the set of all possible cubic polynomials is infinitely smaller than the set of all possible functions. Likewise, you'd have to find the right $(\\alpha, \\beta)$ parameters for a $Gamma$ to match any histogram (as you did in your homework). But with GPs, we have an *infinite* number of functions to play with!\n",
    "\n",
    "-  It turns out that Bayesian non-parametric methods do not imply that there are no parameters, but rather that the number of parameters ***grows with the size of the dataset***. In fact, Bayesian non-parametric models are **infinitely parametric**.\n",
    "\n",
    "Keep in mind we still end up with **hyperparameters** for MCMC methods to optimize. But these hyperparameters will be *global* to our data, not determined by *local* considerations about which points to go through.\n",
    "\n",
    "- These hyperparameters will control the **smoothness** (that is a *global* characteristic) of the functions $f$ we will pick. And that smoothness is determined for each function $f$ by its covariance matrix over the datapoints. \n",
    "\n",
    "The problem of *learning* in a Gaussian processes is exactly the problem of finding suitable *local* properties for the covariance matrix (*local* because the covariance matrix depends on the datapoints), which gives us functions that go though the data and thus model the underlying process that generates this data, as well as *global* characteristics of the data (smoothness, length-scale, etc.) that we can interpret.\n",
    "\n",
    "So you see, GPs are quite different from the classical pdfs used in Bayesian estimation (Poisson, Gamma, etc.). \n",
    "\n",
    "- Remember how your brain works: Your brain is essentially a giant **geometry machine**, building curves that pass through our experiences (datapoints) and help us build models that generalize rules about life, which we follow as best we can in order to maximize our happiness.\n",
    "\n",
    "For example: for maximum happiness with INFO 6105, study *very hard* for the midterm :-)\n",
    "\n",
    "</br >\n",
    "<center>\n",
    "<img src=\"ipynb.images/happy-students.png\" width=400 />\n",
    "    *Happy the students with great grades*\n",
    "</center>"
   ]
  },
  {
   "cell_type": "markdown",
   "metadata": {},
   "source": [
    "## 8. Prior and posterior functions\n",
    "\n",
    "Let's demonstrate how we obtain realizations from a Gaussian process, which result in an evaluation of a function over a set of points. \n",
    "\n",
    "- All we will do here is sample from the *prior* Gaussian process, so before any data have been introduced. What we need first is our covariance function, which will be the squared exponential, and a function to evaluate the covariance at given points (resulting in a covariance matrix)."
   ]
  },
  {
   "cell_type": "code",
   "execution_count": 8,
   "metadata": {},
   "outputs": [],
   "source": [
    "import numpy as np\n",
    "import pandas as pd \n",
    "import seaborn as sns\n",
    "import matplotlib.pylab as plt\n",
    "%matplotlib inline\n",
    "\n",
    "np.random.seed(42)\n",
    "\n",
    "def exponential_cov(x, y, params):\n",
    "    return params[0] * np.exp( -0.5 * params[1] * np.subtract.outer(x, y)**2)"
   ]
  },
  {
   "cell_type": "markdown",
   "metadata": {},
   "source": [
    "We are going to generate realizations sequentially, point by point, using multivariate Gaussian distributions. \n",
    "\n",
    "### First, a bit of probability theory review:\n",
    "##Read it\n",
    "\n",
    "A **joint probability** is a statistical measure where the likelihood of two events occurring *together* and *at the same point in time* are calculated. Joint probability is the probability of event Y occurring at the same time event X occurs. We talk about $P(X∩Y)$ or $P(X \\text{and} Y)$ or $P(XY)$. \n",
    "\n",
    "What's the probability that you get snake-eyes (two 1's) with two dice, where X is the probability of one and Y the probability of the other? $1/6 * 1/6 = 1 / 36$, right?\n",
    "\n",
    "Likewise, from a deck of 52 cards, the joint probability of picking up a card that is red ***and*** an ace is $P(\\text{ace} ∩ \\text{red}) = 2/52 = 1/26$, since a deck of cards has two red aces – the ace of hearts and the ace of diamonds. You can also use a formula to calculate the joint probability: $P(\\text{ace} ∩ \\text{red}) = P(\\text{ace}) * P(\\text{red}) = 4/52 * 26/52 = 1/26$.\n",
    "\n",
    "Don't confuse **joint probability** with **conditional probability** - the probability that one event will happen *given* that another action or event *has happened*. The conditional probability form is $P(X│Y)$ – that is, the chance of one event happening is conditional on another event happening. For example, from a deck of cards, the probability that you get an ace, given that you drew a red card is $P(\\text{ace}│\\text{red}) = 2/26 = 1/13$, since there are two aces out of 26 red cards. Not the same as $1/26$, right?\n",
    "\n",
    "### Then, a bit of linear algebra :-)\n",
    "\n",
    "However, if we have the joint probability of two variables $x_1$ and $x_2$, characterized by the mean of each $\\mu_1$ and $\\mu_2$, and covariance matrix of the 4 possible standard deviations (self for each $\\sigma_{11}$ and $\\sigma_{22}$, and cross for each $\\sigma_{12}$ and $\\sigma_{21}$):\n",
    "\n",
    "$$\\begin{pmatrix}\n",
    "x_1 \\\\\n",
    "x_2\n",
    "\\end{pmatrix}\n",
    "\\sim \\mathcal{J} \n",
    "{\\left(\n",
    "\\begin{pmatrix}\n",
    "\\mu_1 \\\\\n",
    "\\mu_2\n",
    "\\end{pmatrix}\n",
    ",\n",
    "\\begin{pmatrix}\n",
    "\\sigma_{11} & \\sigma_{12}\\\\\n",
    "\\sigma_{21} & \\sigma_{22}\\\\\n",
    "\\end{pmatrix}\n",
    "\\right)}$$\n",
    "\n",
    "It is possible to get the conditional probability $\\mathcal{C}$ of one of the variables given the other (there's some math involved, just trust me on this).\n",
    "\n",
    "Now instead of variables $x_1$ and $x_2$, assume we have a sequence of functions $f_1, \\cdots, f_n$, and that some ($f$) are known (training data) while some ($f_*$) are unknown (test data). In classic Bayesian inference terminology, we talk about the known ones as *priors*, and the unknown ones as *posteriors*. In Machine learning terminology, we talk about *training data* and *test data*. But, same thing! \n",
    "\n",
    "We write:\n",
    "\n",
    "$$\\begin{pmatrix}\n",
    "f \\\\\n",
    "f_*\n",
    "\\end{pmatrix}\n",
    "\\sim \\mathcal{C} \\;\n",
    "{\\left(\n",
    "\\begin{pmatrix}\n",
    "\\mu \\\\\n",
    "\\mu_*\n",
    "\\end{pmatrix}\n",
    ",\n",
    "\\begin{pmatrix}\n",
    "K & K_*\\\\\n",
    "K_*^T & K_{**}\\\\\n",
    "\\end{pmatrix}\n",
    "\\right)}$$\n",
    "\n",
    "Here, $K$ is the matrix we get by applying a `kernel function` to our prior functions $(f)$, i.e. the similarity of each prior\n",
    "to each other prior. $K_*$ gets us the similarity of the training values to the test values (or priors to posteriors) whose output values we’re trying to estimate. $K_{∗∗}$ gives the similarity of the test values (posteriors) to each other. \n",
    "\n",
    "The two most commonly used kernel functions in GP modeling are the *Gaussian*, and the *Matern 5/2*. The Gaussian is:\n",
    "\n",
    "$$k(x, x') = \\mathrm{exp}\\left[ -\\frac{(x - x')^2}{2 \\ell^2} \\right]$$\n",
    "\n",
    "and for an equally spaced sampling of $x$'s tend to look like:\n",
    "\n",
    "</br >\n",
    "<center>\n",
    "<img src=\"ipynb.images/gaussianpriors.png\" width=500 />\n",
    "</center>\n",
    "\n",
    "and the Matern 5/2 is:\n",
    "\n",
    "$$k(x, x') = \\left(1 + \\frac{\\sqrt{5(x - x')^2}}{\\ell} +\n",
    "            \\frac{5(x-x')^2}{3\\ell^2}\\right)\n",
    "            \\mathrm{exp}\\left[ - \\frac{\\sqrt{5(x - x')^2}}{\\ell} \\right]$$\n",
    "            \n",
    "and for an equally spaced sampling of $x$'s tend to look (much smoother, right?) like:\n",
    "\n",
    "</br >\n",
    "<center>\n",
    "<img src=\"ipynb.images/maternpriors.png\" width=500 />\n",
    "</center>\n",
    "            \n",
    "Ok, so how do we get the priors and posteriors? We get the priors by conditioning the gaussians (or the Materns) in the covariance matrix on our training datapoints. And we get the posteriors by MCMC-sampling from the posterior!\n",
    "\n",
    ":-)\n",
    "\n",
    "### Why Gaussians?\n",
    "\n",
    "Adopting a set of Gaussians (a multivariate normal vector) as our multivariate distributions confers a number of advantages. First, the [marginal distribution](https://en.wikipedia.org/wiki/Marginal_distribution) of any subset of elements from a multivariate normal distribution is ***also normal***:\n",
    "\n",
    "$$p(x,y) = \\mathcal{N}\\left(\\left[{\n",
    "\\begin{array}{c}\n",
    "  {\\mu_x}  \\\\\n",
    "  {\\mu_y}  \\\\\n",
    "\\end{array}\n",
    "}\\right], \\left[{\n",
    "\\begin{array}{c}\n",
    "  {\\Sigma_x} & {\\Sigma_{xy}}  \\\\\n",
    "  {\\Sigma_{xy}^T} & {\\Sigma_y}  \\\\\n",
    "\\end{array}\n",
    "}\\right]\\right)$$\n",
    "\n",
    "$$p(x) = \\int p(x,y) dy = \\mathcal{N}(\\mu_x, \\Sigma_x)$$\n",
    "\n",
    "Also, if you have a multivariate normal vector${\\boldsymbol Y} \\sim \\mathcal{N}(\\boldsymbol\\mu, \\Sigma)$, consider partitioning $μ$ and $Y$ into:\n",
    "\n",
    "$$\\boldsymbol\\mu\n",
    "=\n",
    "\\begin{bmatrix}\n",
    " \\boldsymbol\\mu_1 \\\\\n",
    " \\boldsymbol\\mu_2\n",
    "\\end{bmatrix}$$\n",
    "\n",
    "$$\\boldsymbol Y\n",
    "=\n",
    "\\begin{bmatrix}\n",
    " \\boldsymbol y_1 \\\\\n",
    " \\boldsymbol y_2\n",
    "\\end{bmatrix}$$\n",
    "\n",
    "with a similar partition of $Σ$ into\n",
    "\n",
    "$$\\begin{bmatrix}\n",
    "\\Sigma_{11} & \\Sigma_{12}\\\\\n",
    "\\Sigma_{21} & \\Sigma_{22}\n",
    "\\end{bmatrix}$$\n",
    "\n",
    "Then, $({\\boldsymbol y}_1|\\;{\\boldsymbol y}_2={\\boldsymbol a})$, the conditional distribution of the first partition given the second, is $\\mathcal{N}(\\overline{\\boldsymbol\\mu},\\overline{\\Sigma})$ with mean:\n",
    "\n",
    "$$\\overline{\\boldsymbol\\mu}=\\boldsymbol\\mu_1+\\Sigma_{12}{\\Sigma_{22}}^{-1}({\\boldsymbol a}-\\boldsymbol\\mu_2)$$\n",
    "\n",
    "and covariance matrix:\n",
    "\n",
    "$$\\overline{\\Sigma}=\\Sigma_{11}-\\Sigma_{12}{\\Sigma_{22}}^{-1}\\Sigma_{21}$$\n",
    "\n",
    "[Here](http://fourier.eng.hmc.edu/e161/lectures/gaussianprocess/node7.html) is the full proof, if you're interested. So, we can write that conditionals distributions of a subset of a multivariate normal distribution (conditional on the remaining elements) are normal too:\n",
    "\n",
    "$$p(x\\;|\\;y) = \\mathcal{N}(\\mu_x + \\Sigma_{xy}\\Sigma_y^{-1}(y-\\mu_y), \n",
    "\\Sigma_x-\\Sigma_{xy}\\Sigma_y^{-1}\\Sigma_{xy}^T)$$\n",
    "\n",
    "You can find all the math in [RW](http://www.gaussianprocesses.org/), or also, [here](http://fourier.eng.hmc.edu/e161/lectures/gaussianprocess/).\n",
    "\n",
    "### What to remember for the mid-term\n",
    "\n",
    "A Gaussian process generalizes the multivariate normal to **infinite dimensions**. It is defined as an **infinite collection of random variables**, any finite subset of which has a multivariate Gaussian distribution. Another way of thinking about an **infinite vector** is as a **function**. When we write a function that takes continuous values as inputs, we are essentially specifying an infinte vector that only returns values (indexed by the inputs) when the function is called upon to do so. \n",
    "\n",
    "- So we are never required to store all the elements of the Gaussian process, only to calculate them on demand. That is the great advantage of functions: We don't need to store the data; the function computes the data ***on demand***! \n",
    "\n",
    "That is why we spent so much time on **generators**: Generators are functions that compute datapoints on demand. A function is the *perfect* ***low-dimensional*** model of the world. ***That is*** what your brain does: models functions out of yor life's experience.\n",
    "\n",
    "- If you want to store all natural numbers, you need infinite RAM. A much simpler alternative is to store the generator function that generates them!\n",
    "\n",
    "So, a Gaussian process is a ***distribution over functions***. \n",
    "\n",
    "- Just as a **univariate gaussian distribution** is completely specified by a **mean** and a **standard deviation**; just as a **multivariate normal distribution** is completely specified by a **mean vector** and **covariance matrix**, so a GP is fully specified by a **mean function** and a **covariance function**:\n",
    "\n",
    "$$p(x) \\sim \\mathcal{GP}(m(x), k(x,x^{\\prime}))$$\n",
    "\n",
    "- It is the marginalization property that makes working with a Gaussian process ***feasible***: we can marginalize over the infinitely-many variables that we are not interested in, or have not observed. \n",
    "\n",
    "For example, one specification of a GP might be as follows:\n",
    "\n",
    "$$\\begin{aligned}\n",
    "m(x) &=0 \\\\\n",
    "k(x,x^{\\prime}) &= \\theta_1\\exp\\left(-\\frac{\\theta_2}{2}(x-x^{\\prime})^2\\right)\n",
    "\\end{aligned}$$\n",
    "\n",
    "Here, the covariance function is a **squared exponential**, for which values of $x$ and $x^{\\prime}$ that are close together result in values of $k$ closer to 1 and those that are far apart return values closer to zero. \n",
    "\n",
    "- It may seem odd to simply adopt the zero function to represent the mean function of the Gaussian process -- surely we can do better than that! It turns out that most of the learning in the GP involves the covariance function and its parameters, so very little is gained in specifying a complicated mean function.\n",
    "\n",
    "For a *finite number of points*, the GP becomes a **multivariate normal**, with mean and covariance **values** as the mean function and covariance function ***evaluated at those points***.\n",
    "\n",
    "So, once again, the conditional of mutlivariate Gaussian distributions is:\n",
    "\n",
    "$$p(x|y) = \\mathcal{N}(\\mu_x + \\Sigma_{xy}\\Sigma_y^{-1}(y-\\mu_y), \n",
    "\\Sigma_x-\\Sigma_{xy}\\Sigma_y^{-1}\\Sigma_{xy}^T)$$\n",
    "\n",
    "And this the function that implements it, with a bit of linear algebra:"
   ]
  },
  {
   "cell_type": "code",
   "execution_count": 9,
   "metadata": {},
   "outputs": [],
   "source": [
    "def conditional(x_new, x, y, params):\n",
    "    B = exponential_cov(x_new, x, params)\n",
    "    C = exponential_cov(x, x, params)\n",
    "    A = exponential_cov(x_new, x_new, params)\n",
    "    mu = np.linalg.inv(C).dot(B.T).T.dot(y)\n",
    "    sigma = A - B.dot(np.linalg.inv(C).dot(B.T))\n",
    "    return(mu.squeeze(), sigma.squeeze())"
   ]
  },
  {
   "cell_type": "markdown",
   "metadata": {},
   "source": [
    "Let's start with a Gaussian process prior with hyperparameters $\\theta_0=1, \\theta_1=10$. We will also assume a zero function as the mean, so we can plot a band that represents one standard deviation from the mean."
   ]
  },
  {
   "cell_type": "code",
   "execution_count": 23,
   "metadata": {},
   "outputs": [
    {
     "data": {
      "image/png": "[encoded data removed]",
      "text/plain": [
       "<Figure size 432x288 with 1 Axes>"
      ]
     },
     "metadata": {
      "needs_background": "light"
     },
     "output_type": "display_data"
    }
   ],
   "source": [
    "θ = [1, 10]\n",
    "σ_0 = exponential_cov(0, 0, θ)\n",
    "xpts = np.arange(-3, 3, step=0.01)\n",
    "plt.errorbar(xpts, np.zeros(len(xpts)), yerr=σ_0, capsize=0)\n",
    "plt.ylim(-3, 3);"
   ]
  },
  {
   "cell_type": "markdown",
   "metadata": {},
   "source": [
    "Let's select an arbitrary starting point to sample, say $x=1$. Since there are no prevous points, we can sample from an unconditional Gaussian:"
   ]
  },
  {
   "cell_type": "code",
   "execution_count": 24,
   "metadata": {},
   "outputs": [
    {
     "data": {
      "text/plain": [
       "[0.4967141530112327]"
      ]
     },
     "execution_count": 24,
     "metadata": {},
     "output_type": "execute_result"
    }
   ],
   "source": [
    "np.random.seed(42)\n",
    "x = [1.]\n",
    "y = [np.random.normal(scale=σ_0)]\n",
    "y"
   ]
  },
  {
   "cell_type": "markdown",
   "metadata": {},
   "source": [
    "We can now update our confidence band, given the point that we just sampled, using the covariance function to generate new point-wise intervals, conditional on the value $[x_0, y_0]$. "
   ]
  },
  {
   "cell_type": "code",
   "execution_count": 25,
   "metadata": {},
   "outputs": [],
   "source": [
    "σ_1 = exponential_cov(x, x, θ)"
   ]
  },
  {
   "cell_type": "code",
   "execution_count": 26,
   "metadata": {},
   "outputs": [],
   "source": [
    "def predict(x, data, kernel, params, sigma, t):\n",
    "    k = [kernel(x, y, params) for y in data]\n",
    "    Sinv = np.linalg.inv(sigma)\n",
    "    y_pred = np.dot(k, Sinv).dot(t)\n",
    "    sigma_new = kernel(x, x, params) - np.dot(k, Sinv).dot(k)\n",
    "    return y_pred, sigma_new"
   ]
  },
  {
   "cell_type": "code",
   "execution_count": 27,
   "metadata": {},
   "outputs": [],
   "source": [
    "x_pred = np.linspace(-3, 3, 1000)\n",
    "predictions = [predict(i, x, exponential_cov, θ, σ_1, y) for i in x_pred]"
   ]
  },
  {
   "cell_type": "code",
   "execution_count": 28,
   "metadata": {},
   "outputs": [
    {
     "data": {
      "image/png": "[encoded data removed]",
      "text/plain": [
       "<Figure size 432x288 with 1 Axes>"
      ]
     },
     "metadata": {
      "needs_background": "light"
     },
     "output_type": "display_data"
    }
   ],
   "source": [
    "y_pred, sigmas = np.transpose(predictions)\n",
    "plt.errorbar(x_pred, y_pred, yerr=sigmas, capsize=0)\n",
    "plt.plot(x, y, \"ro\")\n",
    "plt.xlim(-3, 3); plt.ylim(-3, 3);"
   ]
  },
  {
   "cell_type": "markdown",
   "metadata": {},
   "source": [
    "So conditional on this point and the covariance structure we have specified, we have essentially constrained the probable location of new additional points. \n",
    "\n",
    "Let's now sample another:"
   ]
  },
  {
   "cell_type": "code",
   "execution_count": 29,
   "metadata": {},
   "outputs": [
    {
     "data": {
      "text/plain": [
       "-0.1382640378102619"
      ]
     },
     "execution_count": 29,
     "metadata": {},
     "output_type": "execute_result"
    }
   ],
   "source": [
    "m, s = conditional([-0.7], x, y, θ)\n",
    "y2 = np.random.normal(m, s)\n",
    "y2"
   ]
  },
  {
   "cell_type": "markdown",
   "metadata": {},
   "source": [
    "This point is added to the realization, and can be used to further update the location of the next point."
   ]
  },
  {
   "cell_type": "code",
   "execution_count": 30,
   "metadata": {},
   "outputs": [],
   "source": [
    "x.append(-0.7)\n",
    "y.append(y2)"
   ]
  },
  {
   "cell_type": "code",
   "execution_count": 31,
   "metadata": {},
   "outputs": [],
   "source": [
    "σ_2 = exponential_cov(x, x, θ)\n",
    "predictions = [predict(i, x, exponential_cov, θ, σ_2, y) for i in x_pred]"
   ]
  },
  {
   "cell_type": "code",
   "execution_count": 32,
   "metadata": {},
   "outputs": [
    {
     "data": {
      "image/png": "[encoded data removed]",
      "text/plain": [
       "<Figure size 432x288 with 1 Axes>"
      ]
     },
     "metadata": {
      "needs_background": "light"
     },
     "output_type": "display_data"
    }
   ],
   "source": [
    "y_pred, sigmas = np.transpose(predictions)\n",
    "plt.errorbar(x_pred, y_pred, yerr=sigmas, capsize=0)\n",
    "plt.plot(x, y, \"ro\")\n",
    "plt.xlim(-3, 3); plt.ylim(-3, 3);"
   ]
  },
  {
   "cell_type": "markdown",
   "metadata": {},
   "source": [
    "We can just as easily sample several points at once:"
   ]
  },
  {
   "cell_type": "code",
   "execution_count": 33,
   "metadata": {},
   "outputs": [
    {
     "data": {
      "text/plain": [
       "array([-1.5128756 ,  0.52371713, -0.13952425, -0.93665367, -1.29343995])"
      ]
     },
     "execution_count": 33,
     "metadata": {},
     "output_type": "execute_result"
    }
   ],
   "source": [
    "x_more = [-2.1, -1.5, 0.3, 1.8, 2.5]\n",
    "mu, s = conditional(x_more, x, y, θ)\n",
    "y_more = np.random.multivariate_normal(mu, s)\n",
    "y_more"
   ]
  },
  {
   "cell_type": "code",
   "execution_count": 34,
   "metadata": {},
   "outputs": [
    {
     "data": {
      "image/png": "[encoded data removed]",
      "text/plain": [
       "<Figure size 432x288 with 1 Axes>"
      ]
     },
     "metadata": {
      "needs_background": "light"
     },
     "output_type": "display_data"
    }
   ],
   "source": [
    "x += x_more\n",
    "y += y_more.tolist()\n",
    "\n",
    "σ_new = exponential_cov(x, x, θ)\n",
    "\n",
    "predictions = [predict(i, x, exponential_cov, θ, σ_new, y) for i in x_pred]\n",
    "\n",
    "y_pred, sigmas = np.transpose(predictions)\n",
    "plt.errorbar(x_pred, y_pred, yerr=sigmas, capsize=0)\n",
    "plt.plot(x, y, \"ro\")\n",
    "plt.ylim(-3, 3);"
   ]
  },
  {
   "cell_type": "markdown",
   "metadata": {},
   "source": [
    "So, given our covariance function, we have constrained interpolation to pass through the red areas in the plane above. Of course, interpolation needs to pass through the observations (datapoints). And then we need to finally pick an interpolating function inside the red surface area."
   ]
  },
  {
   "cell_type": "markdown",
   "metadata": {},
   "source": [
    "## 9. Comparison with Bayesian Estimation\n",
    "\n",
    "Here, we have a prior and posterior distributions for a single prior, $b$. On the left of the figure below, at the top, is the prior probability of b (a Gaussian) with a mean 0 and standard deviation s = 1.0.\n",
    "\n",
    "On the left below we have the posterior distribution of b after observing the single data point Y = 3 given X = 2. This comes from Bayes Theorem which says the posterior is proportional to the prior times likelihood: $pd(b\\;|\\;3,2) = p_0(b)\\;p(3,2\\;|\\;b)$.\n",
    "\n",
    "The posterior has moved up and the variance has dropped.\n",
    "\n",
    "</br >\n",
    "<center>\n",
    "<img src=\"ipynb.images/GPs.png\" width=800 />\n",
    "</center> \n",
    "\n",
    "In the middle of the ﬁgure on top we see the same idea shown in **functional form**: we see linear functions with slope 1.0, with a Gaussian distribution of intercepts centered at (0,0).\n",
    "\n",
    "In the middle of the ﬁgure below we see the posterior distribution of linear functions after observing (3,2). These have moved down, with lower standard deviation.\n",
    "\n",
    "We have marked with vertical lines the distribution at the observed point X=3, and also (for reasons given soon) at the point X=7.\n",
    "\n",
    "Note that the standard deviation of Y is the same at all X values, including the points X=3 and X=7.\n",
    "\n",
    "This is a 2D Gaussian, albeit one correlated, because knowing the Y value at one X value helps determine the Y value at all others (“helps” because independent observation noise occurs with each observation).\n",
    "\n",
    "The correlation produces a prior and posterior distribution that are **elliptical** along the diagonal (cigar shaped).\n",
    "\n",
    "Variation along the major diagonal reﬂects the uncertainty about b. Variation orthogonally represents observation noise.\n",
    "To understand the connection between the Bayesian parameter approach to regression and the GPR representation of the same situation,\n",
    "\n",
    "We must see how the left hand two columns in the ﬁgure (the usual treatment in parameter space) map onto the right hand two columns (the GPR treatment in data space). Of course the middle column, showing the functions, is common to both treatments.\n",
    "We have shown this GPR data Gaussian for just two points, but the same applies for any number of points: For N points we would have an N-dimensional Gaussian, which one could try to imagine as an N-dimensional ellipsoid along the ‘major’ diagonal, with orthogonal variance due to observation noise.\n",
    "\n",
    "Nonetheless, that N-dimensional Gaussian inherits its mean and covariance from the linear function assumption."
   ]
  },
  {
   "cell_type": "markdown",
   "metadata": {},
   "source": [
    "## 10. Predictive posterior distribution\n",
    "\n",
    "</br >\n",
    "<center>\n",
    "<img src=\"ipynb.images/math.png\" width=300 />\n",
    "</center> \n",
    "\n",
    "Let's do the math assuming a simple linear model.\n",
    "\n",
    "We have a training set $D$ of $n$ observations, $D = {(x_i, y_i) \\;|\\; i = 1, \\cdots , n}$, where $x$ denotes an input vector (*covariates*) of dimension $D$ and $y$ denotes a scalar output or *target* (dependent variable). \n",
    "\n",
    "Column vector inputs for all $n$ cases are aggregated in the $D × n$ design matrix, and targets are collected in the vector $y$, so we can write $D = (X, y)$. \n",
    "\n",
    "In the regression setting, targets $y$ are real **tangible** values (e.g. runs scored, ball possession time, or income from stock). We are interested in making inferences about the relationship between inputs and targets, i.e. the conditional distribution of targets (e.g. runs scored), given the covariates (e.g. WARs, OPSs, BABIPs, FIPs, etc).\n",
    "\n",
    "In standard Bayesian analysis for linear regression with Gaussian noise:\n",
    "\n",
    "$$f(x) = x^T w, \\;\\;\\;y = f(x) + ε$$\n",
    "\n",
    "where $x$ is the input vector, $w$ is a vector of weights (parameters) of the linear model, $f$ is the function value and $y$ is the **observed target value**. \n",
    "\n",
    "- Often a bias weight or offset is included above. We'll see it when we construct artificial neural networks. We saw it with our Poisson game analytics as a home team bias. We'll omit it for now.\n",
    "\n",
    "So, we assume that the observed values $y$ differ from the function values $f(x)$ by additive noise, and we will further assume that this noise follows an independent, identically distributed Gaussian distribution with zero mean and variance $σ_n^2$.\n",
    "\n",
    "This noise assumption together with the model directly gives rise to the **likelihood**, the probability density of the observations $X$ given the parameters, which is factored over all observations. Here is where we introduce the gaussian pdf. The likelihood is the product of all probabilities:\n",
    "\n",
    "$$p(y\\;|\\;X, w) = \\prod_{i=1}^n p(y_i \\;|\\; x_i , w) = \\prod_{i=1}^n \\frac{1}{\\sqrt{2\\pi}\\sigma_n} exp(\\frac{(yi − x_i^T w)^2}{2\\sigma_n^2} $$\n",
    "\n",
    "$$p(y\\;|\\;X, w) =  \\frac{1}{(2\\pi\\sigma_n^2)^{n/2}} exp(- \\frac{1}{2\\sigma_n^2} |\\;y − X^T w\\;|^2) \n",
    "$$\n",
    "\n",
    "\n",
    "where $|z|$ denotes the Euclidean length of vector $z$. Neat, a product of gaussians ***is a gaussian***!\n",
    "\n",
    "In Bayesian formalism, we need to specify a **prior** over the parameters, expressing our beliefs about the prior\n",
    "parameters before we look at the observations. So we put a zero mean Gaussian prior with covariance matrix $Σ_p$ on the weight $w$:\n",
    "\n",
    "$$w = N(0, \\Sigma_p)$$\n",
    "\n",
    "Inference in the Bayesian linear model is based on the posterior distribution $p(w \\;|\\;y, X)$ over the weights computed by Bayes’ rule:\n",
    "\n",
    "$$p(w \\;|\\;y, X) = \\frac{p(y \\;|\\;X, x) \\; p(w)}{p(y\\;|\\;X)}$$\n",
    "\n",
    "\n",
    "where $p(w)$ is our prior, and the normalizing constant $p(y\\;|\\;X)$, also known as the *marginal likelihood*, is independent of the weights and given by the law of total probability:\n",
    "\n",
    "$$p(y\\;|\\;X) = \\int p(y\\;|\\;X, w) \\; p(w)\\; dw$$\n",
    "\n",
    "By plugging in for our prior and likelihood (and not worrying too much about the thorny marginal likelihood):\n",
    "\n",
    "$$p(w \\;|\\;y, X) \\; \\propto \\; N(\\bar{w}, A^{-1}) \\;\\;\\; \\text{where} \\; \\bar{w} = \\frac{1}{\\sigma_n^2} A^{-1}\\;X\\;y \\;\\;\\; \\text{and}\\; A = \\sigma_n^{-2} XX^T + \\Sigma_p^{-1} $$\n",
    "\n",
    "There's some math here we skipped. For the proof, look up [RW](http://www.gaussianprocess.org/gpml). What we find is that the posterior $p(w \\;|\\;y, X)$ is a gaussian. The mean of the posterior distribution $p(w \\;|\\;y, X)$ is also called the *maximum a posteriori* (MAP) estimate of $w$.\n",
    "\n",
    "Now, to make predictions for a test case, we average over *all* possible parameter predictive distribution values, weighted by their posterior probability. Thus the predictive distribution for $f_∗$ , or $f(x_∗)$ at $x_∗$ is given by averaging\n",
    "the output of all possible linear models w.r.t. the gaussian posterior:\n",
    "\n",
    "$$p(f_∗ \\;|\\; x_∗, X, y) = \\int p(f_∗\\;|\\; x_∗, w)\\; p(w\\;|\\; X, y) dw $$\n",
    "\n",
    "$$p(f_∗ \\;|\\; x_∗, X, y) = N(\\frac{1}{\\sigma_n^2} x_*^T \\; A^{-1} X y, \\; X_*^T A^{-1} x_*) $$\n",
    "\n",
    "The predictive distribution is again gaussian (we skipped some math here, too), with a mean given by the posterior mean of the weights multiplied by the test input.  The predictive variance is a quadratic form of the test input with the posterior covariance matrix, showing that predictive uncertainties grow with the magnitude of the test input, as one would expect for a linear model.\n",
    "\n",
    "And so that is why the gaussian is interesting: If we assume a gaussian prior and a gaussian likelihood, the posterior is also gaussian!\n",
    "\n",
    "#### The kernel trick\n",
    "Sometimes, the Bayesian linear model suffers from limited expressiveness (it's not flexible enough to match all the observations). A simple idea to overcome this problem is to first project the inputs into some high dimensional space using a set of basis feature space functions and then apply the linear model in this space instead of directly on the inputs themselves. This trick is called the *kernel trick*. For example, a scalar input $x$ could be projected into the space of powers of $x: \\; φ(x) = (1, x, x^2, x^3, \\cdots)$ using a Vandermonde matrix, to implement polynomial regression. As long as the projections are fixed functions (i.e. independent of the parameters $w$) the model is still linear in the parameters, and therefore analytically tractable."
   ]
  },
  {
   "cell_type": "markdown",
   "metadata": {},
   "source": [
    "## 11. GPs with scikit-learn\n",
    "\n",
    "`scikit-learn` is the easiest machine learning package for Python. It provides a comprehensive set of supervised and unsupervised learning algortihms. Included among its library of tools is a Gaussian process module. \n",
    "\n",
    "Consistent with the implementation of other machine learning methods in `scikit-learn`, the appropriate interface for using GPs depends on the type of task to which it is being applied. For **regression** tasks, where we are predicting a **continuous response variable**, a `GaussianProcessRegressor` is applied by specifying an appropriate covariance function, or **kernel**. \n",
    "- Fitting proceeds by maximizing the log of the marginal likelihood, a convenient approach for Gaussian processes that avoids the computationally-intensive [cross-validation](https://en.wikipedia.org/wiki/Cross-validation_(statistics)) strategy that is usually employed in choosing optimal hyperparameters for the model. \n",
    "- The `GaussianProcessRegressor` does not allow for the specification of the mean function, always assuming it to be the zero function, highlighting the diminished role of the mean function in calculating the posterior.\n",
    "\n",
    "For **classification** tasks, where the output variable is **categorical** (or **binary**), the `GaussianProcessClassifier` is used. \n",
    "- Similar to the regression setting, the user chooses an appropriate kernel to describe the type of covariance expected in the dataset\n",
    "- The posterior of this GP however, is non-normal. A **Laplace approximation** is used to obtain a solution, rather than maximizing marginal likelihood"
   ]
  },
  {
   "cell_type": "markdown",
   "metadata": {},
   "source": [
    "`scikit-learn` offers a library of about a dozen covariance functions, **kernels**, to choose from. A flexible choice to start with is the [Mat&#232;rn covariance](https://en.wikipedia.org/wiki/Mat%C3%A9rn_covariance_function). It is in fact, the *most used kernel* in GP methods:\n",
    "\n",
    "$$k_{M}(x) = \\frac{\\sigma^2}{\\Gamma(\\nu)2^{\\nu-1}} \\left(\\frac{\\sqrt{2 \\nu} x}{l}\\right)^{\\nu} K_{\\nu}\\left(\\frac{\\sqrt{2 \\nu} x}{l}\\right)$$\n",
    "\n",
    "where where $\\Gamma$ is the [gamma function](https://en.wikipedia.org/wiki/Gamma_function) and $K$ is a [modified Bessel function](https://en.wikipedia.org/wiki/Bessel_function#Modified_Bessel_functions). The form of covariance matrices sampled from this function is governed by ***three parameters***, each of which controls a property of the covariance:\n",
    "\n",
    "* **amplitude** ($\\sigma$) controls the scaling of the output along the y-axis. This parameter is just a scalar multiplier, and is therefore usually left out of implementations of the Mat&#232;rn function (*i.e.* set to one)\n",
    "\n",
    "* **lengthscale** ($l$) complements the amplitude by scaling realizations on the x-axis. Larger values make points appear closer together.\n",
    "\n",
    "* **roughness** ($\\nu$) controls the sharpness of ridges in the covariance function, which ultimately affect the roughness (smoothness) of realizations.\n",
    "\n",
    "Though in general all the parameters are non-negative real-valued, when $\\nu = p + 1/2$ for integer-valued $p$, the function can be expressed partly as a polynomial function of order $p$ and generates realizations that are $p$-times differentiable, so values $\\nu \\in \\{3/2, 5/2\\}$ are extremely common."
   ]
  },
  {
   "cell_type": "markdown",
   "metadata": {},
   "source": [
    "A GP kernel can be specified as the sum of additive components in `scikit-learn` simply by using the sum operator, so we can include a Mat&#232;rn component (`Matern`), an amplitude factor (`ConstantKernel`), as well as an observation noise (`WhiteKernel`):"
   ]
  },
  {
   "cell_type": "markdown",
   "metadata": {},
   "source": [
    "Here's some ***non-linear*** data:"
   ]
  },
  {
   "cell_type": "code",
   "execution_count": 2,
   "metadata": {},
   "outputs": [],
   "source": [
    "import numpy as np\n",
    "\n",
    "x = np.array([-5, -4.9, -4.8, -4.7, -4.6, -4.5, -4.4, -4.3, -4.2, -4.1, -4, \n",
    "-3.9, -3.8, -3.7, -3.6, -3.5, -3.4, -3.3, -3.2, -3.1, -3, -2.9, \n",
    "-2.8, -2.7, -2.6, -2.5, -2.4, -2.3, -2.2, -2.1, -2, -1.9, -1.8, \n",
    "-1.7, -1.6, -1.5, -1.4, -1.3, -1.2, -1.1, -1, -0.9, -0.8, -0.7, \n",
    "-0.6, -0.5, -0.4, -0.3, -0.2, -0.1, 0, 0.1, 0.2, 0.3, 0.4, 0.5, \n",
    "0.6, 0.7, 0.8, 0.9, 1, 1.1, 1.2, 1.3, 1.4, 1.5, 1.6, 1.7, 1.8, \n",
    "1.9, 2, 2.1, 2.2, 2.3, 2.4, 2.5, 2.6, 2.7, 2.8, 2.9, 3, 3.1, \n",
    "3.2, 3.3, 3.4, 3.5, 3.6, 3.7, 3.8, 3.9, 4, 4.1, 4.2, 4.3, 4.4, \n",
    "4.5, 4.6, 4.7, 4.8, 4.9, 5])\n",
    "\n",
    "y = np.array([1.04442478194401, 0.948306088493654, 0.357037759697332, 0.492336514646604, \n",
    "0.520651364364746, 0.112629866592809, 0.470995468454158, -0.168442254267804, \n",
    "0.0720344402575861, -0.188108980535916, -0.0160163306512027, \n",
    "-0.0388792158617705, -0.0600673630622568, 0.113568725264636, \n",
    "0.447160403837629, 0.664421188556779, -0.139510743820276, 0.458823971660986, \n",
    "0.141214654640904, -0.286957663528091, -0.466537724021695, -0.308185884317105, \n",
    "-1.57664872694079, -1.44463024170082, -1.51206214603847, -1.49393593601901, \n",
    "-2.02292464164487, -1.57047488853653, -1.22973445533419, -1.51502367058357, \n",
    "-1.41493587255224, -1.10140254663611, -0.591866485375275, -1.08781838696462, \n",
    "-0.800375653733931, -1.00764767602679, -0.0471028950122742, -0.536820626879737, \n",
    "-0.151688056391446, -0.176771681318393, -0.240094952335518, -1.16827876746502, \n",
    "-0.493597351974992, -0.831683011472805, -0.152347043914137, 0.0190364158178343, \n",
    "-1.09355955218051, -0.328157917911376, -0.585575679802941, -0.472837120425201, \n",
    "-0.503633622750049, -0.0124446353828312, -0.465529814250314, \n",
    "-0.101621725887347, -0.26988462590405, 0.398726664193302, 0.113805181040188, \n",
    "0.331353802465398, 0.383592361618461, 0.431647298655434, 0.580036473774238, \n",
    "0.830404669466897, 1.17919105883462, 0.871037583886711, 1.12290553424174, \n",
    "0.752564860804382, 0.76897960270623, 1.14738839410786, 0.773151715269892, \n",
    "0.700611498974798, 0.0412951045437818, 0.303526087747629, -0.139399513324585, \n",
    "-0.862987735433697, -1.23399179134008, -1.58924289116396, -1.35105117911049, \n",
    "-0.990144529089174, -1.91175364127672, -1.31836236129543, -1.65955735224704, \n",
    "-1.83516148300526, -2.03817062501248, -1.66764011409214, -0.552154350554687, \n",
    "-0.547807883952654, -0.905389222477036, -0.737156477425302, -0.40211249920415, \n",
    "0.129669958952991, 0.271142753510592, 0.176311762529962, 0.283580281859344, \n",
    "0.635808289696458, 1.69976647982837, 1.10748978734239, 0.365412229181044, \n",
    "0.788821368082444, 0.879731888124867, 1.02180766619069, 0.551526067300283])\n",
    "\n",
    "N = len(y)"
   ]
  },
  {
   "cell_type": "code",
   "execution_count": 3,
   "metadata": {},
   "outputs": [
    {
     "ename": "NameError",
     "evalue": "name 'sns' is not defined",
     "output_type": "error",
     "traceback": [
      "\u001b[1;31m---------------------------------------------------------------------------\u001b[0m",
      "\u001b[1;31mNameError\u001b[0m                                 Traceback (most recent call last)",
      "\u001b[1;32m<ipython-input-3-773e342bb392>\u001b[0m in \u001b[0;36m<module>\u001b[1;34m\u001b[0m\n\u001b[1;32m----> 1\u001b[1;33m \u001b[0msns\u001b[0m\u001b[1;33m.\u001b[0m\u001b[0mregplot\u001b[0m\u001b[1;33m(\u001b[0m\u001b[0mx\u001b[0m\u001b[1;33m,\u001b[0m \u001b[0my\u001b[0m\u001b[1;33m,\u001b[0m \u001b[0mfit_reg\u001b[0m\u001b[1;33m=\u001b[0m\u001b[1;32mFalse\u001b[0m\u001b[1;33m)\u001b[0m\u001b[1;33m\u001b[0m\u001b[1;33m\u001b[0m\u001b[0m\n\u001b[0m",
      "\u001b[1;31mNameError\u001b[0m: name 'sns' is not defined"
     ]
    }
   ],
   "source": [
    "sns.regplot(x, y, fit_reg=False)"
   ]
  },
  {
   "cell_type": "markdown",
   "metadata": {},
   "source": [
    "Let's specify our covariance function, or **kernel**:"
   ]
  },
  {
   "cell_type": "code",
   "execution_count": 15,
   "metadata": {},
   "outputs": [],
   "source": [
    "from sklearn import gaussian_process\n",
    "from sklearn.gaussian_process.kernels import Matern, WhiteKernel, ConstantKernel\n",
    "\n",
    "kernel = ConstantKernel() + Matern(length_scale=2, nu=3/2) + WhiteKernel(noise_level=1)"
   ]
  },
  {
   "cell_type": "markdown",
   "metadata": {},
   "source": [
    "All `scikit-learn` functions expect a tabular set of input variables, either as a 2-dimensional NumPy `array` or a pandas `DataFrame`. \n",
    "\n",
    "Since we have only a single input variable here, we add a second dimension using the `reshape` method:"
   ]
  },
  {
   "cell_type": "code",
   "execution_count": 16,
   "metadata": {},
   "outputs": [
    {
     "data": {
      "text/plain": [
       "(101, 1)"
      ]
     },
     "execution_count": 16,
     "metadata": {},
     "output_type": "execute_result"
    }
   ],
   "source": [
    "X = x.reshape(-1, 1)\n",
    "X.shape\n"
   ]
  },
  {
   "cell_type": "code",
   "execution_count": 17,
   "metadata": {},
   "outputs": [
    {
     "data": {
      "text/plain": [
       "(101,)"
      ]
     },
     "execution_count": 17,
     "metadata": {},
     "output_type": "execute_result"
    }
   ],
   "source": [
    "y.shape"
   ]
  },
  {
   "cell_type": "markdown",
   "metadata": {},
   "source": [
    " We instantiate a `GaussianProcessRegressor` object with our custom kernel, and call its `fit` method, passing the input (`X`) and output (`y`) arrays, very much like we do with skikit-learn's regression forest:"
   ]
  },
  {
   "cell_type": "code",
   "execution_count": 18,
   "metadata": {},
   "outputs": [
    {
     "data": {
      "text/plain": [
       "GaussianProcessRegressor(alpha=1e-10, copy_X_train=True,\n",
       "                         kernel=1**2 + Matern(length_scale=2, nu=1.5) + WhiteKernel(noise_level=1),\n",
       "                         n_restarts_optimizer=0, normalize_y=False,\n",
       "                         optimizer='fmin_l_bfgs_b', random_state=None)"
      ]
     },
     "execution_count": 18,
     "metadata": {},
     "output_type": "execute_result"
    }
   ],
   "source": [
    "gp = gaussian_process.GaussianProcessRegressor(kernel=kernel)\n",
    "gp.fit(X, y)"
   ]
  },
  {
   "cell_type": "markdown",
   "metadata": {},
   "source": [
    "`scikit-learn` displays the configuration that is used for the fitting algorithm each time one of its classes is instantiated. \n",
    "\n",
    "- This is useful because it reveals hidden settings that are given default values if not specified by the user; these settings can often influence the resulting fit, so its important that we understand what `fit` has assumed on our behalf. \n",
    "\n",
    "Here, for example, we see that the L-BFGS-B algorithm has been used to optimized the hyperparameters (`optimizer='fmin_l_bfgs_b'`) and that the output variable has not been normalized (`normalize_y=False`). \n",
    "\n",
    "- When there is a fear of finding a local, rather than a global maximum in the marginal likelihood, a non-zero value can be specified for `n_restarts_optimizer`, which will run the optimization algorithm as many times as specified, using randomly-chosen starting coordinates, in the hope that a globally-competitive value can be discovered.\n",
    "\n",
    "The `fit` method endows the returned model object with attributes associated with the fitting procedure; these attributes will all have an underscore (`_`) appended to their names. For example, the `kernel_` attribute will return the kernel used to parameterize the GP, along with their corresponding optimal hyperparameter values:"
   ]
  },
  {
   "cell_type": "code",
   "execution_count": 19,
   "metadata": {},
   "outputs": [
    {
     "data": {
      "text/plain": [
       "0.00316**2 + Matern(length_scale=1.11, nu=1.5) + WhiteKernel(noise_level=0.0912)"
      ]
     },
     "execution_count": 19,
     "metadata": {},
     "output_type": "execute_result"
    }
   ],
   "source": [
    "gp.kernel_"
   ]
  },
  {
   "cell_type": "markdown",
   "metadata": {},
   "source": [
    "Along with the `fit` method, each supervised learning class retains a `predict` method that generates predicted outcomes ($y^*$) given a new set of predictors ($X^*$) distinct from those used to fit the model (the so-called test cases, or just a new $x$ that we want to predict the interpolated $y$ value for). \n",
    "\n",
    "For a Gaussian process, this is fulfulled by the **posterior predictive distribution**, which is the Gaussian process with the mean and covariance functions updated to their posterior forms, after having been fit. \n",
    "\n",
    "$$p(y^*|y, x, x^*) = \\mathcal{GP}(m^*(x^*), k^*(x^*))$$\n",
    "\n",
    "The posterior mean and covariance functions are calculated as:\n",
    "\n",
    "$$\\begin{aligned}\n",
    "m^*(x^*) &= k(x^*,x)^T[k(x,x) + \\sigma^2I]^{-1}y \\\\\n",
    "k^*(x^*) &= k(x^*,x^*)+\\sigma^2 - k(x^*,x)^T[k(x,x) + \\sigma^2I]^{-1}k(x^*,x)\n",
    "\\end{aligned}$$\n",
    "\n",
    "Let's do this for a range of $x$'s:"
   ]
  },
  {
   "cell_type": "code",
   "execution_count": 20,
   "metadata": {},
   "outputs": [],
   "source": [
    "x_pred = np.linspace(-6, 6).reshape(-1,1)\n",
    "y_pred, sigma = gp.predict(x_pred, return_std=True)"
   ]
  },
  {
   "cell_type": "markdown",
   "metadata": {},
   "source": [
    "`predict` optionally returns posterior standard deviations along with the expected value, so we can use this to plot a confidence region around the expected function:"
   ]
  },
  {
   "cell_type": "code",
   "execution_count": 21,
   "metadata": {},
   "outputs": [
    {
     "data": {
      "text/plain": [
       "(101, 1)"
      ]
     },
     "execution_count": 21,
     "metadata": {},
     "output_type": "execute_result"
    }
   ],
   "source": [
    "X.shape"
   ]
  },
  {
   "cell_type": "code",
   "execution_count": null,
   "metadata": {},
   "outputs": [],
   "source": []
  },
  {
   "cell_type": "code",
   "execution_count": 24,
   "metadata": {},
   "outputs": [
    {
     "data": {
      "image/png": "[encoded data removed]",
      "text/plain": [
       "<Figure size 720x576 with 1 Axes>"
      ]
     },
     "metadata": {
      "needs_background": "light"
     },
     "output_type": "display_data"
    }
   ],
   "source": [
    "from matplotlib import pyplot as plt\n",
    "plt.figure(figsize=(10,8))\n",
    "sns.regplot(x, y, fit_reg=False, label='Data')\n",
    "plt.plot(x_pred, y_pred, color='grey', label='Prediction')\n",
    "plt.fill(np.concatenate([x_pred, x_pred[::-1]]),\n",
    "         np.concatenate([y_pred - 2*sigma,\n",
    "                        (y_pred + 2*sigma)[::-1]]),\n",
    "         alpha=.5, fc='grey', ec='None', label='95% CI')\n",
    "plt.ylabel('$f(x)$')\n",
    "plt.xlim(-6, 6)\n",
    "plt.ylim(-3, 3)\n",
    "plt.legend(loc='lower left');"
   ]
  },
  {
   "cell_type": "markdown",
   "metadata": {},
   "source": [
    "And just like that... you now know the exact profile of gold in your gold mine under the mountain, given various sample observations of gold deposits in the mountain."
   ]
  },
  {
   "cell_type": "markdown",
   "metadata": {},
   "source": [
    "## 12. GPs with PyMC3\n",
    "\n",
    "The PyMC project is a very general Python package for probabilistic programming that can be used to fit nearly any Bayesian model. PyMC3 was built on top of [Theano](http://deeplearning.net/software/theano/), an engine for evaluating expressions defined in terms of operations on tensors. Newer version are now built on top of TensorFlow. \n",
    "\n",
    "Both Theano and Tensorflow providing automatic differentiation, parallel computation, and dynamic generation of efficient, compiled code."
   ]
  },
  {
   "cell_type": "code",
   "execution_count": 16,
   "metadata": {},
   "outputs": [],
   "source": [
    "import pymc3 as pm\n",
    "import theano.tensor as tt\n",
    "\n",
    "with pm.Model() as gp_fit:\n",
    "\n",
    "    ρ = pm.Gamma('ρ', 1, 1)\n",
    "    η = pm.Gamma('η', 1, 1)\n",
    "    \n",
    "    K = η * pm.gp.cov.Matern32(1, ρ)"
   ]
  },
  {
   "cell_type": "markdown",
   "metadata": {},
   "source": [
    "We speficy a **mean function** (redundant, since a zero function is assumed when not specified) and an observation noise variable, which we will model as a [half-Cauchy](https://en.wikipedia.org/wiki/Cauchy_distribution) prior:"
   ]
  },
  {
   "cell_type": "code",
   "execution_count": 17,
   "metadata": {},
   "outputs": [],
   "source": [
    "with gp_fit:\n",
    "    \n",
    "    M = pm.gp.mean.Zero()\n",
    "    σ = pm.HalfCauchy('σ', 2.5)"
   ]
  },
  {
   "cell_type": "markdown",
   "metadata": {},
   "source": [
    "`PyMC3`'s Gaussian Process Models are encapsulated within the `gp` class, parameterized by the mean function, covariance function, and observation error. The most common implementation of a GP is the `gp.Marginal` class."
   ]
  },
  {
   "cell_type": "code",
   "execution_count": 18,
   "metadata": {},
   "outputs": [],
   "source": [
    "with gp_fit:\n",
    "\n",
    "    gp = pm.gp.Marginal(mean_func=M, cov_func=K)"
   ]
  },
  {
   "cell_type": "markdown",
   "metadata": {},
   "source": [
    "The marginal likelihood:"
   ]
  },
  {
   "cell_type": "code",
   "execution_count": 19,
   "metadata": {},
   "outputs": [
    {
     "name": "stderr",
     "output_type": "stream",
     "text": [
      "C:\\Users\\JAINHEMANT\\Anaconda3\\lib\\site-packages\\theano\\tensor\\basic.py:6611: FutureWarning: Using a non-tuple sequence for multidimensional indexing is deprecated; use `arr[tuple(seq)]` instead of `arr[seq]`. In the future this will be interpreted as an array index, `arr[np.array(seq)]`, which will result either in an error or a different result.\n",
      "  result[diagonal_slice] = x\n"
     ]
    },
    {
     "ename": "ValueError",
     "evalue": "Input dimension mis-match. (input[0].shape[1] = 101, input[1].shape[1] = 60)",
     "output_type": "error",
     "traceback": [
      "\u001b[1;31m---------------------------------------------------------------------------\u001b[0m",
      "\u001b[1;31mValueError\u001b[0m                                Traceback (most recent call last)",
      "\u001b[1;32m<ipython-input-19-8b7ea6a68eac>\u001b[0m in \u001b[0;36m<module>\u001b[1;34m\u001b[0m\n\u001b[0;32m      1\u001b[0m \u001b[1;32mwith\u001b[0m \u001b[0mgp_fit\u001b[0m\u001b[1;33m:\u001b[0m\u001b[1;33m\u001b[0m\u001b[1;33m\u001b[0m\u001b[0m\n\u001b[0;32m      2\u001b[0m \u001b[1;33m\u001b[0m\u001b[0m\n\u001b[1;32m----> 3\u001b[1;33m     \u001b[0my_obs\u001b[0m \u001b[1;33m=\u001b[0m \u001b[0mgp\u001b[0m\u001b[1;33m.\u001b[0m\u001b[0mmarginal_likelihood\u001b[0m\u001b[1;33m(\u001b[0m\u001b[1;34m'y_obs'\u001b[0m\u001b[1;33m,\u001b[0m \u001b[0mX\u001b[0m\u001b[1;33m=\u001b[0m\u001b[0mX\u001b[0m\u001b[1;33m,\u001b[0m \u001b[0my\u001b[0m\u001b[1;33m=\u001b[0m\u001b[0my\u001b[0m\u001b[1;33m,\u001b[0m \u001b[0mnoise\u001b[0m\u001b[1;33m=\u001b[0m\u001b[0mσ\u001b[0m\u001b[1;33m)\u001b[0m\u001b[1;33m\u001b[0m\u001b[1;33m\u001b[0m\u001b[0m\n\u001b[0m",
      "\u001b[1;32m~\\Anaconda3\\lib\\site-packages\\pymc3\\gp\\gp.py\u001b[0m in \u001b[0;36mmarginal_likelihood\u001b[1;34m(self, name, X, y, noise, is_observed, **kwargs)\u001b[0m\n\u001b[0;32m    422\u001b[0m         \u001b[0mself\u001b[0m\u001b[1;33m.\u001b[0m\u001b[0mnoise\u001b[0m \u001b[1;33m=\u001b[0m \u001b[0mnoise\u001b[0m\u001b[1;33m\u001b[0m\u001b[1;33m\u001b[0m\u001b[0m\n\u001b[0;32m    423\u001b[0m         \u001b[1;32mif\u001b[0m \u001b[0mis_observed\u001b[0m\u001b[1;33m:\u001b[0m\u001b[1;33m\u001b[0m\u001b[1;33m\u001b[0m\u001b[0m\n\u001b[1;32m--> 424\u001b[1;33m             \u001b[1;32mreturn\u001b[0m \u001b[0mpm\u001b[0m\u001b[1;33m.\u001b[0m\u001b[0mMvNormal\u001b[0m\u001b[1;33m(\u001b[0m\u001b[0mname\u001b[0m\u001b[1;33m,\u001b[0m \u001b[0mmu\u001b[0m\u001b[1;33m=\u001b[0m\u001b[0mmu\u001b[0m\u001b[1;33m,\u001b[0m \u001b[0mcov\u001b[0m\u001b[1;33m=\u001b[0m\u001b[0mcov\u001b[0m\u001b[1;33m,\u001b[0m \u001b[0mobserved\u001b[0m\u001b[1;33m=\u001b[0m\u001b[0my\u001b[0m\u001b[1;33m,\u001b[0m \u001b[1;33m**\u001b[0m\u001b[0mkwargs\u001b[0m\u001b[1;33m)\u001b[0m\u001b[1;33m\u001b[0m\u001b[1;33m\u001b[0m\u001b[0m\n\u001b[0m\u001b[0;32m    425\u001b[0m         \u001b[1;32melse\u001b[0m\u001b[1;33m:\u001b[0m\u001b[1;33m\u001b[0m\u001b[1;33m\u001b[0m\u001b[0m\n\u001b[0;32m    426\u001b[0m             \u001b[0mshape\u001b[0m \u001b[1;33m=\u001b[0m \u001b[0minfer_shape\u001b[0m\u001b[1;33m(\u001b[0m\u001b[0mX\u001b[0m\u001b[1;33m,\u001b[0m \u001b[0mkwargs\u001b[0m\u001b[1;33m.\u001b[0m\u001b[0mpop\u001b[0m\u001b[1;33m(\u001b[0m\u001b[1;34m\"shape\"\u001b[0m\u001b[1;33m,\u001b[0m \u001b[1;32mNone\u001b[0m\u001b[1;33m)\u001b[0m\u001b[1;33m)\u001b[0m\u001b[1;33m\u001b[0m\u001b[1;33m\u001b[0m\u001b[0m\n",
      "\u001b[1;32m~\\Anaconda3\\lib\\site-packages\\pymc3\\distributions\\distribution.py\u001b[0m in \u001b[0;36m__new__\u001b[1;34m(cls, name, *args, **kwargs)\u001b[0m\n\u001b[0;32m     44\u001b[0m             \u001b[0mtotal_size\u001b[0m \u001b[1;33m=\u001b[0m \u001b[0mkwargs\u001b[0m\u001b[1;33m.\u001b[0m\u001b[0mpop\u001b[0m\u001b[1;33m(\u001b[0m\u001b[1;34m'total_size'\u001b[0m\u001b[1;33m,\u001b[0m \u001b[1;32mNone\u001b[0m\u001b[1;33m)\u001b[0m\u001b[1;33m\u001b[0m\u001b[1;33m\u001b[0m\u001b[0m\n\u001b[0;32m     45\u001b[0m             \u001b[0mdist\u001b[0m \u001b[1;33m=\u001b[0m \u001b[0mcls\u001b[0m\u001b[1;33m.\u001b[0m\u001b[0mdist\u001b[0m\u001b[1;33m(\u001b[0m\u001b[1;33m*\u001b[0m\u001b[0margs\u001b[0m\u001b[1;33m,\u001b[0m \u001b[1;33m**\u001b[0m\u001b[0mkwargs\u001b[0m\u001b[1;33m)\u001b[0m\u001b[1;33m\u001b[0m\u001b[1;33m\u001b[0m\u001b[0m\n\u001b[1;32m---> 46\u001b[1;33m             \u001b[1;32mreturn\u001b[0m \u001b[0mmodel\u001b[0m\u001b[1;33m.\u001b[0m\u001b[0mVar\u001b[0m\u001b[1;33m(\u001b[0m\u001b[0mname\u001b[0m\u001b[1;33m,\u001b[0m \u001b[0mdist\u001b[0m\u001b[1;33m,\u001b[0m \u001b[0mdata\u001b[0m\u001b[1;33m,\u001b[0m \u001b[0mtotal_size\u001b[0m\u001b[1;33m)\u001b[0m\u001b[1;33m\u001b[0m\u001b[1;33m\u001b[0m\u001b[0m\n\u001b[0m\u001b[0;32m     47\u001b[0m         \u001b[1;32melse\u001b[0m\u001b[1;33m:\u001b[0m\u001b[1;33m\u001b[0m\u001b[1;33m\u001b[0m\u001b[0m\n\u001b[0;32m     48\u001b[0m             \u001b[1;32mraise\u001b[0m \u001b[0mTypeError\u001b[0m\u001b[1;33m(\u001b[0m\u001b[1;34m\"Name needs to be a string but got: {}\"\u001b[0m\u001b[1;33m.\u001b[0m\u001b[0mformat\u001b[0m\u001b[1;33m(\u001b[0m\u001b[0mname\u001b[0m\u001b[1;33m)\u001b[0m\u001b[1;33m)\u001b[0m\u001b[1;33m\u001b[0m\u001b[1;33m\u001b[0m\u001b[0m\n",
      "\u001b[1;32m~\\Anaconda3\\lib\\site-packages\\pymc3\\model.py\u001b[0m in \u001b[0;36mVar\u001b[1;34m(self, name, dist, data, total_size)\u001b[0m\n\u001b[0;32m    854\u001b[0m                 var = ObservedRV(name=name, data=data,\n\u001b[0;32m    855\u001b[0m                                  \u001b[0mdistribution\u001b[0m\u001b[1;33m=\u001b[0m\u001b[0mdist\u001b[0m\u001b[1;33m,\u001b[0m\u001b[1;33m\u001b[0m\u001b[1;33m\u001b[0m\u001b[0m\n\u001b[1;32m--> 856\u001b[1;33m                                  total_size=total_size, model=self)\n\u001b[0m\u001b[0;32m    857\u001b[0m             \u001b[0mself\u001b[0m\u001b[1;33m.\u001b[0m\u001b[0mobserved_RVs\u001b[0m\u001b[1;33m.\u001b[0m\u001b[0mappend\u001b[0m\u001b[1;33m(\u001b[0m\u001b[0mvar\u001b[0m\u001b[1;33m)\u001b[0m\u001b[1;33m\u001b[0m\u001b[1;33m\u001b[0m\u001b[0m\n\u001b[0;32m    858\u001b[0m             \u001b[1;32mif\u001b[0m \u001b[0mvar\u001b[0m\u001b[1;33m.\u001b[0m\u001b[0mmissing_values\u001b[0m\u001b[1;33m:\u001b[0m\u001b[1;33m\u001b[0m\u001b[1;33m\u001b[0m\u001b[0m\n",
      "\u001b[1;32m~\\Anaconda3\\lib\\site-packages\\pymc3\\model.py\u001b[0m in \u001b[0;36m__init__\u001b[1;34m(self, type, owner, index, name, data, distribution, total_size, model)\u001b[0m\n\u001b[0;32m   1387\u001b[0m \u001b[1;33m\u001b[0m\u001b[0m\n\u001b[0;32m   1388\u001b[0m             \u001b[0mself\u001b[0m\u001b[1;33m.\u001b[0m\u001b[0mmissing_values\u001b[0m \u001b[1;33m=\u001b[0m \u001b[0mdata\u001b[0m\u001b[1;33m.\u001b[0m\u001b[0mmissing_values\u001b[0m\u001b[1;33m\u001b[0m\u001b[1;33m\u001b[0m\u001b[0m\n\u001b[1;32m-> 1389\u001b[1;33m             \u001b[0mself\u001b[0m\u001b[1;33m.\u001b[0m\u001b[0mlogp_elemwiset\u001b[0m \u001b[1;33m=\u001b[0m \u001b[0mdistribution\u001b[0m\u001b[1;33m.\u001b[0m\u001b[0mlogp\u001b[0m\u001b[1;33m(\u001b[0m\u001b[0mdata\u001b[0m\u001b[1;33m)\u001b[0m\u001b[1;33m\u001b[0m\u001b[1;33m\u001b[0m\u001b[0m\n\u001b[0m\u001b[0;32m   1390\u001b[0m             \u001b[1;31m# The logp might need scaling in minibatches.\u001b[0m\u001b[1;33m\u001b[0m\u001b[1;33m\u001b[0m\u001b[1;33m\u001b[0m\u001b[0m\n\u001b[0;32m   1391\u001b[0m             \u001b[1;31m# This is done in `Factor`.\u001b[0m\u001b[1;33m\u001b[0m\u001b[1;33m\u001b[0m\u001b[1;33m\u001b[0m\u001b[0m\n",
      "\u001b[1;32m~\\Anaconda3\\lib\\site-packages\\pymc3\\distributions\\multivariate.py\u001b[0m in \u001b[0;36mlogp\u001b[1;34m(self, value)\u001b[0m\n\u001b[0;32m    316\u001b[0m         \u001b[0mTensorVariable\u001b[0m\u001b[1;33m\u001b[0m\u001b[1;33m\u001b[0m\u001b[0m\n\u001b[0;32m    317\u001b[0m         \"\"\"\n\u001b[1;32m--> 318\u001b[1;33m         \u001b[0mquaddist\u001b[0m\u001b[1;33m,\u001b[0m \u001b[0mlogdet\u001b[0m\u001b[1;33m,\u001b[0m \u001b[0mok\u001b[0m \u001b[1;33m=\u001b[0m \u001b[0mself\u001b[0m\u001b[1;33m.\u001b[0m\u001b[0m_quaddist\u001b[0m\u001b[1;33m(\u001b[0m\u001b[0mvalue\u001b[0m\u001b[1;33m)\u001b[0m\u001b[1;33m\u001b[0m\u001b[1;33m\u001b[0m\u001b[0m\n\u001b[0m\u001b[0;32m    319\u001b[0m         \u001b[0mk\u001b[0m \u001b[1;33m=\u001b[0m \u001b[0mvalue\u001b[0m\u001b[1;33m.\u001b[0m\u001b[0mshape\u001b[0m\u001b[1;33m[\u001b[0m\u001b[1;33m-\u001b[0m\u001b[1;36m1\u001b[0m\u001b[1;33m]\u001b[0m\u001b[1;33m.\u001b[0m\u001b[0mastype\u001b[0m\u001b[1;33m(\u001b[0m\u001b[0mtheano\u001b[0m\u001b[1;33m.\u001b[0m\u001b[0mconfig\u001b[0m\u001b[1;33m.\u001b[0m\u001b[0mfloatX\u001b[0m\u001b[1;33m)\u001b[0m\u001b[1;33m\u001b[0m\u001b[1;33m\u001b[0m\u001b[0m\n\u001b[0;32m    320\u001b[0m         \u001b[0mnorm\u001b[0m \u001b[1;33m=\u001b[0m \u001b[1;33m-\u001b[0m \u001b[1;36m0.5\u001b[0m \u001b[1;33m*\u001b[0m \u001b[0mk\u001b[0m \u001b[1;33m*\u001b[0m \u001b[0mpm\u001b[0m\u001b[1;33m.\u001b[0m\u001b[0mfloatX\u001b[0m\u001b[1;33m(\u001b[0m\u001b[0mnp\u001b[0m\u001b[1;33m.\u001b[0m\u001b[0mlog\u001b[0m\u001b[1;33m(\u001b[0m\u001b[1;36m2\u001b[0m \u001b[1;33m*\u001b[0m \u001b[0mnp\u001b[0m\u001b[1;33m.\u001b[0m\u001b[0mpi\u001b[0m\u001b[1;33m)\u001b[0m\u001b[1;33m)\u001b[0m\u001b[1;33m\u001b[0m\u001b[1;33m\u001b[0m\u001b[0m\n",
      "\u001b[1;32m~\\Anaconda3\\lib\\site-packages\\pymc3\\distributions\\multivariate.py\u001b[0m in \u001b[0;36m_quaddist\u001b[1;34m(self, value)\u001b[0m\n\u001b[0;32m     91\u001b[0m             \u001b[0monedim\u001b[0m \u001b[1;33m=\u001b[0m \u001b[1;32mFalse\u001b[0m\u001b[1;33m\u001b[0m\u001b[1;33m\u001b[0m\u001b[0m\n\u001b[0;32m     92\u001b[0m \u001b[1;33m\u001b[0m\u001b[0m\n\u001b[1;32m---> 93\u001b[1;33m         \u001b[0mdelta\u001b[0m \u001b[1;33m=\u001b[0m \u001b[0mvalue\u001b[0m \u001b[1;33m-\u001b[0m \u001b[0mmu\u001b[0m\u001b[1;33m\u001b[0m\u001b[1;33m\u001b[0m\u001b[0m\n\u001b[0m\u001b[0;32m     94\u001b[0m \u001b[1;33m\u001b[0m\u001b[0m\n\u001b[0;32m     95\u001b[0m         \u001b[1;32mif\u001b[0m \u001b[0mself\u001b[0m\u001b[1;33m.\u001b[0m\u001b[0m_cov_type\u001b[0m \u001b[1;33m==\u001b[0m \u001b[1;34m'cov'\u001b[0m\u001b[1;33m:\u001b[0m\u001b[1;33m\u001b[0m\u001b[1;33m\u001b[0m\u001b[0m\n",
      "\u001b[1;32m~\\Anaconda3\\lib\\site-packages\\theano\\tensor\\var.py\u001b[0m in \u001b[0;36m__sub__\u001b[1;34m(self, other)\u001b[0m\n\u001b[0;32m    145\u001b[0m         \u001b[1;31m# and the return value in that case\u001b[0m\u001b[1;33m\u001b[0m\u001b[1;33m\u001b[0m\u001b[1;33m\u001b[0m\u001b[0m\n\u001b[0;32m    146\u001b[0m         \u001b[1;32mtry\u001b[0m\u001b[1;33m:\u001b[0m\u001b[1;33m\u001b[0m\u001b[1;33m\u001b[0m\u001b[0m\n\u001b[1;32m--> 147\u001b[1;33m             \u001b[1;32mreturn\u001b[0m \u001b[0mtheano\u001b[0m\u001b[1;33m.\u001b[0m\u001b[0mtensor\u001b[0m\u001b[1;33m.\u001b[0m\u001b[0mbasic\u001b[0m\u001b[1;33m.\u001b[0m\u001b[0msub\u001b[0m\u001b[1;33m(\u001b[0m\u001b[0mself\u001b[0m\u001b[1;33m,\u001b[0m \u001b[0mother\u001b[0m\u001b[1;33m)\u001b[0m\u001b[1;33m\u001b[0m\u001b[1;33m\u001b[0m\u001b[0m\n\u001b[0m\u001b[0;32m    148\u001b[0m         \u001b[1;32mexcept\u001b[0m \u001b[1;33m(\u001b[0m\u001b[0mNotImplementedError\u001b[0m\u001b[1;33m,\u001b[0m \u001b[0mAsTensorError\u001b[0m\u001b[1;33m)\u001b[0m\u001b[1;33m:\u001b[0m\u001b[1;33m\u001b[0m\u001b[1;33m\u001b[0m\u001b[0m\n\u001b[0;32m    149\u001b[0m             \u001b[1;32mreturn\u001b[0m \u001b[0mNotImplemented\u001b[0m\u001b[1;33m\u001b[0m\u001b[1;33m\u001b[0m\u001b[0m\n",
      "\u001b[1;32m~\\Anaconda3\\lib\\site-packages\\theano\\gof\\op.py\u001b[0m in \u001b[0;36m__call__\u001b[1;34m(self, *inputs, **kwargs)\u001b[0m\n\u001b[0;32m    672\u001b[0m                 \u001b[0mthunk\u001b[0m\u001b[1;33m.\u001b[0m\u001b[0moutputs\u001b[0m \u001b[1;33m=\u001b[0m \u001b[1;33m[\u001b[0m\u001b[0mstorage_map\u001b[0m\u001b[1;33m[\u001b[0m\u001b[0mv\u001b[0m\u001b[1;33m]\u001b[0m \u001b[1;32mfor\u001b[0m \u001b[0mv\u001b[0m \u001b[1;32min\u001b[0m \u001b[0mnode\u001b[0m\u001b[1;33m.\u001b[0m\u001b[0moutputs\u001b[0m\u001b[1;33m]\u001b[0m\u001b[1;33m\u001b[0m\u001b[1;33m\u001b[0m\u001b[0m\n\u001b[0;32m    673\u001b[0m \u001b[1;33m\u001b[0m\u001b[0m\n\u001b[1;32m--> 674\u001b[1;33m                 \u001b[0mrequired\u001b[0m \u001b[1;33m=\u001b[0m \u001b[0mthunk\u001b[0m\u001b[1;33m(\u001b[0m\u001b[1;33m)\u001b[0m\u001b[1;33m\u001b[0m\u001b[1;33m\u001b[0m\u001b[0m\n\u001b[0m\u001b[0;32m    675\u001b[0m                 \u001b[1;32massert\u001b[0m \u001b[1;32mnot\u001b[0m \u001b[0mrequired\u001b[0m  \u001b[1;31m# We provided all inputs\u001b[0m\u001b[1;33m\u001b[0m\u001b[1;33m\u001b[0m\u001b[0m\n\u001b[0;32m    676\u001b[0m \u001b[1;33m\u001b[0m\u001b[0m\n",
      "\u001b[1;32m~\\Anaconda3\\lib\\site-packages\\theano\\gof\\op.py\u001b[0m in \u001b[0;36mrval\u001b[1;34m()\u001b[0m\n\u001b[0;32m    860\u001b[0m \u001b[1;33m\u001b[0m\u001b[0m\n\u001b[0;32m    861\u001b[0m         \u001b[1;32mdef\u001b[0m \u001b[0mrval\u001b[0m\u001b[1;33m(\u001b[0m\u001b[1;33m)\u001b[0m\u001b[1;33m:\u001b[0m\u001b[1;33m\u001b[0m\u001b[1;33m\u001b[0m\u001b[0m\n\u001b[1;32m--> 862\u001b[1;33m             \u001b[0mthunk\u001b[0m\u001b[1;33m(\u001b[0m\u001b[1;33m)\u001b[0m\u001b[1;33m\u001b[0m\u001b[1;33m\u001b[0m\u001b[0m\n\u001b[0m\u001b[0;32m    863\u001b[0m             \u001b[1;32mfor\u001b[0m \u001b[0mo\u001b[0m \u001b[1;32min\u001b[0m \u001b[0mnode\u001b[0m\u001b[1;33m.\u001b[0m\u001b[0moutputs\u001b[0m\u001b[1;33m:\u001b[0m\u001b[1;33m\u001b[0m\u001b[1;33m\u001b[0m\u001b[0m\n\u001b[0;32m    864\u001b[0m                 \u001b[0mcompute_map\u001b[0m\u001b[1;33m[\u001b[0m\u001b[0mo\u001b[0m\u001b[1;33m]\u001b[0m\u001b[1;33m[\u001b[0m\u001b[1;36m0\u001b[0m\u001b[1;33m]\u001b[0m \u001b[1;33m=\u001b[0m \u001b[1;32mTrue\u001b[0m\u001b[1;33m\u001b[0m\u001b[1;33m\u001b[0m\u001b[0m\n",
      "\u001b[1;32m~\\Anaconda3\\lib\\site-packages\\theano\\gof\\cc.py\u001b[0m in \u001b[0;36m__call__\u001b[1;34m(self)\u001b[0m\n\u001b[0;32m   1737\u001b[0m                 \u001b[0mprint\u001b[0m\u001b[1;33m(\u001b[0m\u001b[0mself\u001b[0m\u001b[1;33m.\u001b[0m\u001b[0merror_storage\u001b[0m\u001b[1;33m,\u001b[0m \u001b[0mfile\u001b[0m\u001b[1;33m=\u001b[0m\u001b[0msys\u001b[0m\u001b[1;33m.\u001b[0m\u001b[0mstderr\u001b[0m\u001b[1;33m)\u001b[0m\u001b[1;33m\u001b[0m\u001b[1;33m\u001b[0m\u001b[0m\n\u001b[0;32m   1738\u001b[0m                 \u001b[1;32mraise\u001b[0m\u001b[1;33m\u001b[0m\u001b[1;33m\u001b[0m\u001b[0m\n\u001b[1;32m-> 1739\u001b[1;33m             \u001b[0mreraise\u001b[0m\u001b[1;33m(\u001b[0m\u001b[0mexc_type\u001b[0m\u001b[1;33m,\u001b[0m \u001b[0mexc_value\u001b[0m\u001b[1;33m,\u001b[0m \u001b[0mexc_trace\u001b[0m\u001b[1;33m)\u001b[0m\u001b[1;33m\u001b[0m\u001b[1;33m\u001b[0m\u001b[0m\n\u001b[0m\u001b[0;32m   1740\u001b[0m \u001b[1;33m\u001b[0m\u001b[0m\n\u001b[0;32m   1741\u001b[0m \u001b[1;33m\u001b[0m\u001b[0m\n",
      "\u001b[1;32m~\\Anaconda3\\lib\\site-packages\\six.py\u001b[0m in \u001b[0;36mreraise\u001b[1;34m(tp, value, tb)\u001b[0m\n\u001b[0;32m    691\u001b[0m             \u001b[1;32mif\u001b[0m \u001b[0mvalue\u001b[0m\u001b[1;33m.\u001b[0m\u001b[0m__traceback__\u001b[0m \u001b[1;32mis\u001b[0m \u001b[1;32mnot\u001b[0m \u001b[0mtb\u001b[0m\u001b[1;33m:\u001b[0m\u001b[1;33m\u001b[0m\u001b[1;33m\u001b[0m\u001b[0m\n\u001b[0;32m    692\u001b[0m                 \u001b[1;32mraise\u001b[0m \u001b[0mvalue\u001b[0m\u001b[1;33m.\u001b[0m\u001b[0mwith_traceback\u001b[0m\u001b[1;33m(\u001b[0m\u001b[0mtb\u001b[0m\u001b[1;33m)\u001b[0m\u001b[1;33m\u001b[0m\u001b[1;33m\u001b[0m\u001b[0m\n\u001b[1;32m--> 693\u001b[1;33m             \u001b[1;32mraise\u001b[0m \u001b[0mvalue\u001b[0m\u001b[1;33m\u001b[0m\u001b[1;33m\u001b[0m\u001b[0m\n\u001b[0m\u001b[0;32m    694\u001b[0m         \u001b[1;32mfinally\u001b[0m\u001b[1;33m:\u001b[0m\u001b[1;33m\u001b[0m\u001b[1;33m\u001b[0m\u001b[0m\n\u001b[0;32m    695\u001b[0m             \u001b[0mvalue\u001b[0m \u001b[1;33m=\u001b[0m \u001b[1;32mNone\u001b[0m\u001b[1;33m\u001b[0m\u001b[1;33m\u001b[0m\u001b[0m\n",
      "\u001b[1;31mValueError\u001b[0m: Input dimension mis-match. (input[0].shape[1] = 101, input[1].shape[1] = 60)"
     ]
    }
   ],
   "source": [
    "with gp_fit:\n",
    "    \n",
    "    y_obs = gp.marginal_likelihood('y_obs', X=X, y=y, noise=σ)"
   ]
  },
  {
   "cell_type": "markdown",
   "metadata": {},
   "source": [
    "The sample function called inside the Model context fits the model using MCMC sampling. By default, PyMC3 uses an auto-tuning version of Hamiltonian Monte-Carlo (HMC) called the No U-turn Sampler (NUTS) that picks appropriate values for the path length and step size parameters. \n",
    "\n",
    "Additionally, to initialize the sampler to reasonable starting parameter values, a variational inference algorithm is run before NUTS, to yield approximate posterior mean values for all the parameters.\n",
    "\n",
    "But that's details you don't need to know :-)"
   ]
  },
  {
   "cell_type": "code",
   "execution_count": 22,
   "metadata": {},
   "outputs": [
    {
     "name": "stderr",
     "output_type": "stream",
     "text": [
      "Auto-assigning NUTS sampler...\n",
      "Initializing NUTS using jitter+adapt_diag...\n",
      "Sequential sampling (2 chains in 1 job)\n",
      "NUTS: [σ, η, ρ]\n",
      "100%|██████████| 1000/1000 [00:03<00:00, 294.14it/s]\n",
      "100%|██████████| 1000/1000 [00:01<00:00, 771.80it/s]\n"
     ]
    }
   ],
   "source": [
    "with gp_fit:\n",
    "    #trace =pm.sample(2000,n_init=500)\n",
    "    trace = pm.sample(500, n_init=100,cores=1,chains=2)"
   ]
  },
  {
   "cell_type": "code",
   "execution_count": 23,
   "metadata": {},
   "outputs": [
    {
     "name": "stderr",
     "output_type": "stream",
     "text": [
      "C:\\Users\\JAINHEMANT\\Anaconda3\\lib\\site-packages\\pymc3\\plots\\__init__.py:40: UserWarning: Keyword argument `varnames` renamed to `var_names`, and will be removed in pymc3 3.8\n",
      "  warnings.warn('Keyword argument `{old}` renamed to `{new}`, and will be removed in pymc3 3.8'.format(old=old, new=new))\n"
     ]
    },
    {
     "data": {
      "image/png": "[encoded data removed]",
      "text/plain": [
       "<Figure size 864x432 with 6 Axes>"
      ]
     },
     "metadata": {
      "needs_background": "light"
     },
     "output_type": "display_data"
    }
   ],
   "source": [
    "pm.traceplot(trace[-1000:], varnames=['ρ', 'σ', 'η']);"
   ]
  },
  {
   "cell_type": "code",
   "execution_count": 24,
   "metadata": {},
   "outputs": [
    {
     "name": "stderr",
     "output_type": "stream",
     "text": [
      "C:\\Users\\JAINHEMANT\\Anaconda3\\lib\\site-packages\\pymc3\\plots\\__init__.py:40: UserWarning: Keyword argument `varnames` renamed to `var_names`, and will be removed in pymc3 3.8\n",
      "  warnings.warn('Keyword argument `{old}` renamed to `{new}`, and will be removed in pymc3 3.8'.format(old=old, new=new))\n"
     ]
    },
    {
     "data": {
      "text/plain": [
       "array([<matplotlib.axes._subplots.AxesSubplot object at 0x0000019B14526668>,\n",
       "       <matplotlib.axes._subplots.AxesSubplot object at 0x0000019B14551DA0>,\n",
       "       <matplotlib.axes._subplots.AxesSubplot object at 0x0000019B14585B70>],\n",
       "      dtype=object)"
      ]
     },
     "execution_count": 24,
     "metadata": {},
     "output_type": "execute_result"
    },
    {
     "data": {
      "image/png": "[encoded data removed]",
      "text/plain": [
       "<Figure size 1490.4x331.2 with 3 Axes>"
      ]
     },
     "metadata": {
      "needs_background": "light"
     },
     "output_type": "display_data"
    }
   ],
   "source": [
    "pm.plot_posterior(trace[-1000:], varnames=['ρ', 'σ', 'η'])"
   ]
  },
  {
   "cell_type": "markdown",
   "metadata": {},
   "source": [
    "The mean values are the best **point estimate approximations** for the hyperparameters ρ, σ, and η:"
   ]
  },
  {
   "cell_type": "code",
   "execution_count": 25,
   "metadata": {},
   "outputs": [
    {
     "data": {
      "text/plain": [
       "1.0218808422945216"
      ]
     },
     "execution_count": 25,
     "metadata": {},
     "output_type": "execute_result"
    }
   ],
   "source": [
    "ρm = trace[-1000:]['ρ'].mean()\n",
    "ρm "
   ]
  },
  {
   "cell_type": "code",
   "execution_count": 26,
   "metadata": {},
   "outputs": [
    {
     "data": {
      "text/plain": [
       "15.446889632602815"
      ]
     },
     "execution_count": 26,
     "metadata": {},
     "output_type": "execute_result"
    }
   ],
   "source": [
    "σm = trace[-1000:]['σ'].mean()\n",
    "σm "
   ]
  },
  {
   "cell_type": "code",
   "execution_count": 27,
   "metadata": {},
   "outputs": [
    {
     "data": {
      "text/plain": [
       "0.9671063715924583"
      ]
     },
     "execution_count": 27,
     "metadata": {},
     "output_type": "execute_result"
    }
   ],
   "source": [
    "ηm = trace[-1000:]['η'].mean()\n",
    "ηm "
   ]
  },
  {
   "cell_type": "markdown",
   "metadata": {},
   "source": [
    "Let's collect the results into a pandas dataframe to display:"
   ]
  },
  {
   "cell_type": "code",
   "execution_count": 28,
   "metadata": {},
   "outputs": [],
   "source": [
    "mm = [ρm, σm, ηm]"
   ]
  },
  {
   "cell_type": "code",
   "execution_count": 29,
   "metadata": {},
   "outputs": [
    {
     "data": {
      "text/html": [
       "<div>\n",
       "<style scoped>\n",
       "    .dataframe tbody tr th:only-of-type {\n",
       "        vertical-align: middle;\n",
       "    }\n",
       "\n",
       "    .dataframe tbody tr th {\n",
       "        vertical-align: top;\n",
       "    }\n",
       "\n",
       "    .dataframe thead th {\n",
       "        text-align: right;\n",
       "    }\n",
       "</style>\n",
       "<table border=\"1\" class=\"dataframe\">\n",
       "  <thead>\n",
       "    <tr style=\"text-align: right;\">\n",
       "      <th></th>\n",
       "      <th>Parameter</th>\n",
       "      <th>best approximation</th>\n",
       "    </tr>\n",
       "  </thead>\n",
       "  <tbody>\n",
       "    <tr>\n",
       "      <th>0</th>\n",
       "      <td>ρ</td>\n",
       "      <td>1.021881</td>\n",
       "    </tr>\n",
       "    <tr>\n",
       "      <th>1</th>\n",
       "      <td>σ</td>\n",
       "      <td>15.446890</td>\n",
       "    </tr>\n",
       "    <tr>\n",
       "      <th>2</th>\n",
       "      <td>η</td>\n",
       "      <td>0.967106</td>\n",
       "    </tr>\n",
       "  </tbody>\n",
       "</table>\n",
       "</div>"
      ],
      "text/plain": [
       "  Parameter  best approximation\n",
       "0         ρ            1.021881\n",
       "1         σ           15.446890\n",
       "2         η            0.967106"
      ]
     },
     "execution_count": 29,
     "metadata": {},
     "output_type": "execute_result"
    }
   ],
   "source": [
    "pd.DataFrame({\"Parameter\": ['ρ', 'σ', 'η'],\n",
    "              \"best approximation\": [ρm, σm, ηm]})"
   ]
  },
  {
   "cell_type": "markdown",
   "metadata": {},
   "source": [
    "These should fit the Maximum A Posteriori (MAP) estimate, which we can also tabulate from PyMC3:"
   ]
  },
  {
   "cell_type": "code",
   "execution_count": 30,
   "metadata": {},
   "outputs": [
    {
     "name": "stderr",
     "output_type": "stream",
     "text": [
      "C:\\Users\\JAINHEMANT\\Anaconda3\\lib\\site-packages\\pymc3\\tuning\\starting.py:61: UserWarning: find_MAP should not be used to initialize the NUTS sampler, simply call pymc3.sample() and it will automatically initialize NUTS in a better way.\n",
      "  warnings.warn('find_MAP should not be used to initialize the NUTS sampler, simply call pymc3.sample() and it will automatically initialize NUTS in a better way.')\n",
      "logp = -1.3704, ||grad|| = 0.0016733: 100%|██████████| 19/19 [00:00<00:00, 365.44it/s]  \n"
     ]
    }
   ],
   "source": [
    "with gp_fit:\n",
    "    mp = pm.find_MAP()"
   ]
  },
  {
   "cell_type": "code",
   "execution_count": 31,
   "metadata": {},
   "outputs": [
    {
     "data": {
      "text/plain": [
       "{'ρ_log__': array(-11.707368),\n",
       " 'η_log__': array(-11.707368),\n",
       " 'σ_log__': array(-5.44692185),\n",
       " 'ρ': array(8.23293488e-06),\n",
       " 'η': array(8.23293488e-06),\n",
       " 'σ': array(0.00430955)}"
      ]
     },
     "execution_count": 31,
     "metadata": {},
     "output_type": "execute_result"
    }
   ],
   "source": [
    "mp"
   ]
  },
  {
   "cell_type": "code",
   "execution_count": 32,
   "metadata": {},
   "outputs": [
    {
     "data": {
      "text/html": [
       "<div>\n",
       "<style scoped>\n",
       "    .dataframe tbody tr th:only-of-type {\n",
       "        vertical-align: middle;\n",
       "    }\n",
       "\n",
       "    .dataframe tbody tr th {\n",
       "        vertical-align: top;\n",
       "    }\n",
       "\n",
       "    .dataframe thead th {\n",
       "        text-align: right;\n",
       "    }\n",
       "</style>\n",
       "<table border=\"1\" class=\"dataframe\">\n",
       "  <thead>\n",
       "    <tr style=\"text-align: right;\">\n",
       "      <th></th>\n",
       "      <th>Parameter</th>\n",
       "      <th>Value at MAP</th>\n",
       "    </tr>\n",
       "  </thead>\n",
       "  <tbody>\n",
       "    <tr>\n",
       "      <th>0</th>\n",
       "      <td>ρ</td>\n",
       "      <td>0.000008</td>\n",
       "    </tr>\n",
       "    <tr>\n",
       "      <th>1</th>\n",
       "      <td>σ</td>\n",
       "      <td>0.004310</td>\n",
       "    </tr>\n",
       "    <tr>\n",
       "      <th>2</th>\n",
       "      <td>η</td>\n",
       "      <td>0.000008</td>\n",
       "    </tr>\n",
       "  </tbody>\n",
       "</table>\n",
       "</div>"
      ],
      "text/plain": [
       "  Parameter  Value at MAP\n",
       "0         ρ      0.000008\n",
       "1         σ      0.004310\n",
       "2         η      0.000008"
      ]
     },
     "execution_count": 32,
     "metadata": {},
     "output_type": "execute_result"
    }
   ],
   "source": [
    "# \"mp\" stands for marginal posterior\n",
    "pd.DataFrame({\"Parameter\": ['ρ', 'σ', 'η'],\n",
    "              \"Value at MAP\": [float(mp[\"ρ\"]), float(mp[\"σ\"]), float(mp[\"η\"])]})"
   ]
  },
  {
   "cell_type": "markdown",
   "metadata": {},
   "source": [
    "#### Hmm... my MAP values do not coincide with my trace means.. What did professor do wrong?"
   ]
  },
  {
   "cell_type": "markdown",
   "metadata": {},
   "source": [
    "In addition to fitting the model, we would like to be able to generate ***predictions***!\n",
    "\n",
    "This implies sampling from the **posterior predictive distribution**, which if is just some simple ;-) linear algebra:\n",
    "\n",
    "$$\\begin{aligned}\n",
    "m^*(x^*) &= k(x^*,x)^T[k(x,x) + \\sigma^2I]^{-1}y \\\\\n",
    "k^*(x^*) &= k(x^*,x^*)+\\sigma^2 - k(x^*,x)^T[k(x,x) + \\sigma^2I]^{-1}k(x^*,x)\n",
    "\\end{aligned}$$\n",
    "\n",
    "PyMC3 allows for predictive sampling after the model is fit, using the recorded values of the model parameters to generate samples. The `gp.conditional` function implements the predictive GP above, called with a grid of points over which to generate realizations:"
   ]
  },
  {
   "cell_type": "markdown",
   "metadata": {},
   "source": [
    "Let's generate predictions for the profile of our gold deposits, based on drillined site samples (our observations):"
   ]
  },
  {
   "cell_type": "code",
   "execution_count": 33,
   "metadata": {},
   "outputs": [
    {
     "name": "stderr",
     "output_type": "stream",
     "text": [
      "C:\\Users\\JAINHEMANT\\Anaconda3\\lib\\site-packages\\theano\\tensor\\basic.py:6611: FutureWarning: Using a non-tuple sequence for multidimensional indexing is deprecated; use `arr[tuple(seq)]` instead of `arr[seq]`. In the future this will be interpreted as an array index, `arr[np.array(seq)]`, which will result either in an error or a different result.\n",
      "  result[diagonal_slice] = x\n"
     ]
    },
    {
     "ename": "ValueError",
     "evalue": "Input dimension mis-match. (input[0].shape[0] = 101, input[1].shape[0] = 60)",
     "output_type": "error",
     "traceback": [
      "\u001b[1;31m---------------------------------------------------------------------------\u001b[0m",
      "\u001b[1;31mValueError\u001b[0m                                Traceback (most recent call last)",
      "\u001b[1;32m<ipython-input-33-9635f43765ec>\u001b[0m in \u001b[0;36m<module>\u001b[1;34m\u001b[0m\n\u001b[0;32m      3\u001b[0m \u001b[1;32mwith\u001b[0m \u001b[0mgp_fit\u001b[0m\u001b[1;33m:\u001b[0m\u001b[1;33m\u001b[0m\u001b[1;33m\u001b[0m\u001b[0m\n\u001b[0;32m      4\u001b[0m \u001b[1;33m\u001b[0m\u001b[0m\n\u001b[1;32m----> 5\u001b[1;33m     \u001b[0my_pred\u001b[0m \u001b[1;33m=\u001b[0m \u001b[0mgp\u001b[0m\u001b[1;33m.\u001b[0m\u001b[0mconditional\u001b[0m\u001b[1;33m(\u001b[0m\u001b[1;34m\"y_pred\"\u001b[0m\u001b[1;33m,\u001b[0m \u001b[0mXnew\u001b[0m\u001b[1;33m=\u001b[0m\u001b[0mZ\u001b[0m\u001b[1;33m,\u001b[0m \u001b[0mpred_noise\u001b[0m\u001b[1;33m=\u001b[0m\u001b[1;32mTrue\u001b[0m\u001b[1;33m)\u001b[0m\u001b[1;33m\u001b[0m\u001b[1;33m\u001b[0m\u001b[0m\n\u001b[0m",
      "\u001b[1;32m~\\Anaconda3\\lib\\site-packages\\pymc3\\gp\\gp.py\u001b[0m in \u001b[0;36mconditional\u001b[1;34m(self, name, Xnew, pred_noise, given, **kwargs)\u001b[0m\n\u001b[0;32m    502\u001b[0m \u001b[1;33m\u001b[0m\u001b[0m\n\u001b[0;32m    503\u001b[0m         \u001b[0mgivens\u001b[0m \u001b[1;33m=\u001b[0m \u001b[0mself\u001b[0m\u001b[1;33m.\u001b[0m\u001b[0m_get_given_vals\u001b[0m\u001b[1;33m(\u001b[0m\u001b[0mgiven\u001b[0m\u001b[1;33m)\u001b[0m\u001b[1;33m\u001b[0m\u001b[1;33m\u001b[0m\u001b[0m\n\u001b[1;32m--> 504\u001b[1;33m         \u001b[0mmu\u001b[0m\u001b[1;33m,\u001b[0m \u001b[0mcov\u001b[0m \u001b[1;33m=\u001b[0m \u001b[0mself\u001b[0m\u001b[1;33m.\u001b[0m\u001b[0m_build_conditional\u001b[0m\u001b[1;33m(\u001b[0m\u001b[0mXnew\u001b[0m\u001b[1;33m,\u001b[0m \u001b[0mpred_noise\u001b[0m\u001b[1;33m,\u001b[0m \u001b[1;32mFalse\u001b[0m\u001b[1;33m,\u001b[0m \u001b[1;33m*\u001b[0m\u001b[0mgivens\u001b[0m\u001b[1;33m)\u001b[0m\u001b[1;33m\u001b[0m\u001b[1;33m\u001b[0m\u001b[0m\n\u001b[0m\u001b[0;32m    505\u001b[0m         \u001b[0mshape\u001b[0m \u001b[1;33m=\u001b[0m \u001b[0minfer_shape\u001b[0m\u001b[1;33m(\u001b[0m\u001b[0mXnew\u001b[0m\u001b[1;33m,\u001b[0m \u001b[0mkwargs\u001b[0m\u001b[1;33m.\u001b[0m\u001b[0mpop\u001b[0m\u001b[1;33m(\u001b[0m\u001b[1;34m\"shape\"\u001b[0m\u001b[1;33m,\u001b[0m \u001b[1;32mNone\u001b[0m\u001b[1;33m)\u001b[0m\u001b[1;33m)\u001b[0m\u001b[1;33m\u001b[0m\u001b[1;33m\u001b[0m\u001b[0m\n\u001b[0;32m    506\u001b[0m         \u001b[1;32mreturn\u001b[0m \u001b[0mpm\u001b[0m\u001b[1;33m.\u001b[0m\u001b[0mMvNormal\u001b[0m\u001b[1;33m(\u001b[0m\u001b[0mname\u001b[0m\u001b[1;33m,\u001b[0m \u001b[0mmu\u001b[0m\u001b[1;33m=\u001b[0m\u001b[0mmu\u001b[0m\u001b[1;33m,\u001b[0m \u001b[0mcov\u001b[0m\u001b[1;33m=\u001b[0m\u001b[0mcov\u001b[0m\u001b[1;33m,\u001b[0m \u001b[0mshape\u001b[0m\u001b[1;33m=\u001b[0m\u001b[0mshape\u001b[0m\u001b[1;33m,\u001b[0m \u001b[1;33m**\u001b[0m\u001b[0mkwargs\u001b[0m\u001b[1;33m)\u001b[0m\u001b[1;33m\u001b[0m\u001b[1;33m\u001b[0m\u001b[0m\n",
      "\u001b[1;32m~\\Anaconda3\\lib\\site-packages\\pymc3\\gp\\gp.py\u001b[0m in \u001b[0;36m_build_conditional\u001b[1;34m(self, Xnew, pred_noise, diag, X, y, noise, cov_total, mean_total)\u001b[0m\n\u001b[0;32m    450\u001b[0m         \u001b[0mKxs\u001b[0m \u001b[1;33m=\u001b[0m \u001b[0mself\u001b[0m\u001b[1;33m.\u001b[0m\u001b[0mcov_func\u001b[0m\u001b[1;33m(\u001b[0m\u001b[0mX\u001b[0m\u001b[1;33m,\u001b[0m \u001b[0mXnew\u001b[0m\u001b[1;33m)\u001b[0m\u001b[1;33m\u001b[0m\u001b[1;33m\u001b[0m\u001b[0m\n\u001b[0;32m    451\u001b[0m         \u001b[0mKnx\u001b[0m \u001b[1;33m=\u001b[0m \u001b[0mnoise\u001b[0m\u001b[1;33m(\u001b[0m\u001b[0mX\u001b[0m\u001b[1;33m)\u001b[0m\u001b[1;33m\u001b[0m\u001b[1;33m\u001b[0m\u001b[0m\n\u001b[1;32m--> 452\u001b[1;33m         \u001b[0mrxx\u001b[0m \u001b[1;33m=\u001b[0m \u001b[0my\u001b[0m \u001b[1;33m-\u001b[0m \u001b[0mmean_total\u001b[0m\u001b[1;33m(\u001b[0m\u001b[0mX\u001b[0m\u001b[1;33m)\u001b[0m\u001b[1;33m\u001b[0m\u001b[1;33m\u001b[0m\u001b[0m\n\u001b[0m\u001b[0;32m    453\u001b[0m         \u001b[0mL\u001b[0m \u001b[1;33m=\u001b[0m \u001b[0mcholesky\u001b[0m\u001b[1;33m(\u001b[0m\u001b[0mstabilize\u001b[0m\u001b[1;33m(\u001b[0m\u001b[0mKxx\u001b[0m\u001b[1;33m)\u001b[0m \u001b[1;33m+\u001b[0m \u001b[0mKnx\u001b[0m\u001b[1;33m)\u001b[0m\u001b[1;33m\u001b[0m\u001b[1;33m\u001b[0m\u001b[0m\n\u001b[0;32m    454\u001b[0m         \u001b[0mA\u001b[0m \u001b[1;33m=\u001b[0m \u001b[0msolve_lower\u001b[0m\u001b[1;33m(\u001b[0m\u001b[0mL\u001b[0m\u001b[1;33m,\u001b[0m \u001b[0mKxs\u001b[0m\u001b[1;33m)\u001b[0m\u001b[1;33m\u001b[0m\u001b[1;33m\u001b[0m\u001b[0m\n",
      "\u001b[1;32m~\\Anaconda3\\lib\\site-packages\\theano\\tensor\\var.py\u001b[0m in \u001b[0;36m__rsub__\u001b[1;34m(self, other)\u001b[0m\n\u001b[0;32m    228\u001b[0m \u001b[1;33m\u001b[0m\u001b[0m\n\u001b[0;32m    229\u001b[0m     \u001b[1;32mdef\u001b[0m \u001b[0m__rsub__\u001b[0m\u001b[1;33m(\u001b[0m\u001b[0mself\u001b[0m\u001b[1;33m,\u001b[0m \u001b[0mother\u001b[0m\u001b[1;33m)\u001b[0m\u001b[1;33m:\u001b[0m\u001b[1;33m\u001b[0m\u001b[1;33m\u001b[0m\u001b[0m\n\u001b[1;32m--> 230\u001b[1;33m         \u001b[1;32mreturn\u001b[0m \u001b[0mtheano\u001b[0m\u001b[1;33m.\u001b[0m\u001b[0mtensor\u001b[0m\u001b[1;33m.\u001b[0m\u001b[0mbasic\u001b[0m\u001b[1;33m.\u001b[0m\u001b[0msub\u001b[0m\u001b[1;33m(\u001b[0m\u001b[0mother\u001b[0m\u001b[1;33m,\u001b[0m \u001b[0mself\u001b[0m\u001b[1;33m)\u001b[0m\u001b[1;33m\u001b[0m\u001b[1;33m\u001b[0m\u001b[0m\n\u001b[0m\u001b[0;32m    231\u001b[0m \u001b[1;33m\u001b[0m\u001b[0m\n\u001b[0;32m    232\u001b[0m     \u001b[1;32mdef\u001b[0m \u001b[0m__rmul__\u001b[0m\u001b[1;33m(\u001b[0m\u001b[0mself\u001b[0m\u001b[1;33m,\u001b[0m \u001b[0mother\u001b[0m\u001b[1;33m)\u001b[0m\u001b[1;33m:\u001b[0m\u001b[1;33m\u001b[0m\u001b[1;33m\u001b[0m\u001b[0m\n",
      "\u001b[1;32m~\\Anaconda3\\lib\\site-packages\\theano\\gof\\op.py\u001b[0m in \u001b[0;36m__call__\u001b[1;34m(self, *inputs, **kwargs)\u001b[0m\n\u001b[0;32m    672\u001b[0m                 \u001b[0mthunk\u001b[0m\u001b[1;33m.\u001b[0m\u001b[0moutputs\u001b[0m \u001b[1;33m=\u001b[0m \u001b[1;33m[\u001b[0m\u001b[0mstorage_map\u001b[0m\u001b[1;33m[\u001b[0m\u001b[0mv\u001b[0m\u001b[1;33m]\u001b[0m \u001b[1;32mfor\u001b[0m \u001b[0mv\u001b[0m \u001b[1;32min\u001b[0m \u001b[0mnode\u001b[0m\u001b[1;33m.\u001b[0m\u001b[0moutputs\u001b[0m\u001b[1;33m]\u001b[0m\u001b[1;33m\u001b[0m\u001b[1;33m\u001b[0m\u001b[0m\n\u001b[0;32m    673\u001b[0m \u001b[1;33m\u001b[0m\u001b[0m\n\u001b[1;32m--> 674\u001b[1;33m                 \u001b[0mrequired\u001b[0m \u001b[1;33m=\u001b[0m \u001b[0mthunk\u001b[0m\u001b[1;33m(\u001b[0m\u001b[1;33m)\u001b[0m\u001b[1;33m\u001b[0m\u001b[1;33m\u001b[0m\u001b[0m\n\u001b[0m\u001b[0;32m    675\u001b[0m                 \u001b[1;32massert\u001b[0m \u001b[1;32mnot\u001b[0m \u001b[0mrequired\u001b[0m  \u001b[1;31m# We provided all inputs\u001b[0m\u001b[1;33m\u001b[0m\u001b[1;33m\u001b[0m\u001b[0m\n\u001b[0;32m    676\u001b[0m \u001b[1;33m\u001b[0m\u001b[0m\n",
      "\u001b[1;32m~\\Anaconda3\\lib\\site-packages\\theano\\gof\\op.py\u001b[0m in \u001b[0;36mrval\u001b[1;34m()\u001b[0m\n\u001b[0;32m    860\u001b[0m \u001b[1;33m\u001b[0m\u001b[0m\n\u001b[0;32m    861\u001b[0m         \u001b[1;32mdef\u001b[0m \u001b[0mrval\u001b[0m\u001b[1;33m(\u001b[0m\u001b[1;33m)\u001b[0m\u001b[1;33m:\u001b[0m\u001b[1;33m\u001b[0m\u001b[1;33m\u001b[0m\u001b[0m\n\u001b[1;32m--> 862\u001b[1;33m             \u001b[0mthunk\u001b[0m\u001b[1;33m(\u001b[0m\u001b[1;33m)\u001b[0m\u001b[1;33m\u001b[0m\u001b[1;33m\u001b[0m\u001b[0m\n\u001b[0m\u001b[0;32m    863\u001b[0m             \u001b[1;32mfor\u001b[0m \u001b[0mo\u001b[0m \u001b[1;32min\u001b[0m \u001b[0mnode\u001b[0m\u001b[1;33m.\u001b[0m\u001b[0moutputs\u001b[0m\u001b[1;33m:\u001b[0m\u001b[1;33m\u001b[0m\u001b[1;33m\u001b[0m\u001b[0m\n\u001b[0;32m    864\u001b[0m                 \u001b[0mcompute_map\u001b[0m\u001b[1;33m[\u001b[0m\u001b[0mo\u001b[0m\u001b[1;33m]\u001b[0m\u001b[1;33m[\u001b[0m\u001b[1;36m0\u001b[0m\u001b[1;33m]\u001b[0m \u001b[1;33m=\u001b[0m \u001b[1;32mTrue\u001b[0m\u001b[1;33m\u001b[0m\u001b[1;33m\u001b[0m\u001b[0m\n",
      "\u001b[1;32m~\\Anaconda3\\lib\\site-packages\\theano\\gof\\cc.py\u001b[0m in \u001b[0;36m__call__\u001b[1;34m(self)\u001b[0m\n\u001b[0;32m   1737\u001b[0m                 \u001b[0mprint\u001b[0m\u001b[1;33m(\u001b[0m\u001b[0mself\u001b[0m\u001b[1;33m.\u001b[0m\u001b[0merror_storage\u001b[0m\u001b[1;33m,\u001b[0m \u001b[0mfile\u001b[0m\u001b[1;33m=\u001b[0m\u001b[0msys\u001b[0m\u001b[1;33m.\u001b[0m\u001b[0mstderr\u001b[0m\u001b[1;33m)\u001b[0m\u001b[1;33m\u001b[0m\u001b[1;33m\u001b[0m\u001b[0m\n\u001b[0;32m   1738\u001b[0m                 \u001b[1;32mraise\u001b[0m\u001b[1;33m\u001b[0m\u001b[1;33m\u001b[0m\u001b[0m\n\u001b[1;32m-> 1739\u001b[1;33m             \u001b[0mreraise\u001b[0m\u001b[1;33m(\u001b[0m\u001b[0mexc_type\u001b[0m\u001b[1;33m,\u001b[0m \u001b[0mexc_value\u001b[0m\u001b[1;33m,\u001b[0m \u001b[0mexc_trace\u001b[0m\u001b[1;33m)\u001b[0m\u001b[1;33m\u001b[0m\u001b[1;33m\u001b[0m\u001b[0m\n\u001b[0m\u001b[0;32m   1740\u001b[0m \u001b[1;33m\u001b[0m\u001b[0m\n\u001b[0;32m   1741\u001b[0m \u001b[1;33m\u001b[0m\u001b[0m\n",
      "\u001b[1;32m~\\Anaconda3\\lib\\site-packages\\six.py\u001b[0m in \u001b[0;36mreraise\u001b[1;34m(tp, value, tb)\u001b[0m\n\u001b[0;32m    691\u001b[0m             \u001b[1;32mif\u001b[0m \u001b[0mvalue\u001b[0m\u001b[1;33m.\u001b[0m\u001b[0m__traceback__\u001b[0m \u001b[1;32mis\u001b[0m \u001b[1;32mnot\u001b[0m \u001b[0mtb\u001b[0m\u001b[1;33m:\u001b[0m\u001b[1;33m\u001b[0m\u001b[1;33m\u001b[0m\u001b[0m\n\u001b[0;32m    692\u001b[0m                 \u001b[1;32mraise\u001b[0m \u001b[0mvalue\u001b[0m\u001b[1;33m.\u001b[0m\u001b[0mwith_traceback\u001b[0m\u001b[1;33m(\u001b[0m\u001b[0mtb\u001b[0m\u001b[1;33m)\u001b[0m\u001b[1;33m\u001b[0m\u001b[1;33m\u001b[0m\u001b[0m\n\u001b[1;32m--> 693\u001b[1;33m             \u001b[1;32mraise\u001b[0m \u001b[0mvalue\u001b[0m\u001b[1;33m\u001b[0m\u001b[1;33m\u001b[0m\u001b[0m\n\u001b[0m\u001b[0;32m    694\u001b[0m         \u001b[1;32mfinally\u001b[0m\u001b[1;33m:\u001b[0m\u001b[1;33m\u001b[0m\u001b[1;33m\u001b[0m\u001b[0m\n\u001b[0;32m    695\u001b[0m             \u001b[0mvalue\u001b[0m \u001b[1;33m=\u001b[0m \u001b[1;32mNone\u001b[0m\u001b[1;33m\u001b[0m\u001b[1;33m\u001b[0m\u001b[0m\n",
      "\u001b[1;31mValueError\u001b[0m: Input dimension mis-match. (input[0].shape[0] = 101, input[1].shape[0] = 60)"
     ]
    }
   ],
   "source": [
    "Z = np.linspace(-6, 6, 100).reshape(-1, 1)\n",
    "\n",
    "with gp_fit:\n",
    "\n",
    "    y_pred = gp.conditional(\"y_pred\", Xnew=Z, pred_noise=True)"
   ]
  },
  {
   "cell_type": "code",
   "execution_count": null,
   "metadata": {},
   "outputs": [],
   "source": [
    "# To use the point estimate hyperparameter values, replace the trace with a length-1 list with `mm`\n",
    "with gp_fit:\n",
    "    y_samples = pm.sample_ppc([mp], vars=[y_pred], samples=500)"
   ]
  },
  {
   "cell_type": "code",
   "execution_count": null,
   "metadata": {},
   "outputs": [],
   "source": [
    "y_samples[\"y_pred\"]"
   ]
  },
  {
   "cell_type": "markdown",
   "metadata": {},
   "source": [
    "Plot predictions:"
   ]
  },
  {
   "cell_type": "code",
   "execution_count": null,
   "metadata": {},
   "outputs": [],
   "source": [
    "fig = plt.figure(figsize=(12,5)); ax = fig.gca()\n",
    "\n",
    "# posterior predictive distribution\n",
    "from pymc3.gp.util import plot_gp_dist\n",
    "plot_gp_dist(ax, y_samples[\"y_pred\"], Z, plot_samples=False, palette=\"bone_r\");\n",
    "\n",
    "# overlay a scatter of one draw of random points from the posterior predictive distribution\n",
    "plt.plot(Z, y_samples[\"y_pred\"][200, :].T, \"co\", ms=2, label=\"Predicted data\");\n",
    "\n",
    "# plot original data and true function\n",
    "plt.plot(X, y, 'ok', ms=3, alpha=1.0, label=\"observed data\");\n",
    "#plt.plot(X, f_true, \"dodgerblue\", lw=3, label=\"true f\");\n",
    "\n",
    "plt.xlabel(\"x\"); plt.ylim([-3,3]);\n",
    "plt.title(\"posterior predictive distribution\"); plt.legend();"
   ]
  },
  {
   "cell_type": "markdown",
   "metadata": {},
   "source": [
    "Not too shabby, ay?\n",
    "\n",
    "</br >\n",
    "<center>\n",
    "<img src=\"ipynb.images/scoobydoo.png\" width=400 />\n",
    "</center>\n",
    "\n",
    "For models being fit to very large datasets, one often finds MCMC fitting to work too slowly, as the log-probability of the model needs to be evaluated at every iteration of the sampling algorithm. \n",
    "\n",
    "In these situations, it may be worth using variational inference methods (which replace the true posterior with a simpler approximation), or even just Metropolis. \n",
    "\n",
    "Don't forget.. the PyMC3 GP algorithms were implemented by students. *Good* students, but still.. students. You will find by googling a bit that researchers prefer other GP libraries that are faster, such as `celerite`. "
   ]
  },
  {
   "cell_type": "markdown",
   "metadata": {},
   "source": [
    "## 13. GP Lab\n",
    "\n",
    "Let's define points at which our family of priors will be sampled: 75 evenly spaced points between -5 and 5. \n",
    "\n",
    "How are we going to build the functions $f_1, \\cdots, f_n$ that we're going to use as our *priors*? We're going to create a list of $x_1, \\cdots, x_n$, and we're going to use the gaussian as our similarity (or kernel) function:\n",
    "\n",
    "$$k(x_p, x_q) = \\mathrm{exp}\\left[ -\\frac{(x_p - x_q)^2}{2 \\ell^2} \\right]$$\n",
    "\n",
    "The kernel function expresses the similarity of each observed to each other observed, or in other words their degree of correlation. The gaussian calculates the squared distance between points and converts it into a measure of similarity, controlled by a tuning parameter $\\ell$. We assume a mean of 0 for our prior.\n",
    "\n",
    "\n",
    "Then we compute the Cholesky decomposition of the covariance matrix. \n",
    "\n",
    "By multiplying the Cholesky with 3 different gaussian random variates, we get 3 prior functions, which we plot, so we can admire our handywork!"
   ]
  },
  {
   "cell_type": "markdown",
   "metadata": {},
   "source": [
    "```(python)\n",
    "import numpy as np\n",
    "import matplotlib.pyplot as pl\n",
    "%matplotlib inline\n",
    "```"
   ]
  },
  {
   "cell_type": "code",
   "execution_count": null,
   "metadata": {},
   "outputs": [],
   "source": []
  },
  {
   "cell_type": "markdown",
   "metadata": {},
   "source": [
    "So, let's create an array on the x-axis (observations):\n",
    "\n",
    "```(python)\n",
    "# Test data\n",
    "n = 100\n",
    "Xtest = np.linspace(-5, 5, n).reshape(-1,1)\n",
    "#print(Xtest)\n",
    "```"
   ]
  },
  {
   "cell_type": "code",
   "execution_count": null,
   "metadata": {},
   "outputs": [],
   "source": []
  },
  {
   "cell_type": "markdown",
   "metadata": {},
   "source": [
    "Let's define the kernel function (a gaussian, with a parameter which represents a length squared):\n",
    "\n",
    "```(python)\n",
    "# Define the gaussian kernel function\n",
    "def kernel(a, b, param):\n",
    "    sqdist = np.sum(a**2,1).reshape(-1,1) + np.sum(b**2,1) - 2*np.dot(a, b.T)\n",
    "    return np.exp(-.5 * (1/param) * sqdist)\n",
    "```"
   ]
  },
  {
   "cell_type": "code",
   "execution_count": null,
   "metadata": {},
   "outputs": [],
   "source": []
  },
  {
   "cell_type": "markdown",
   "metadata": {},
   "source": [
    "Let's build the covariance matrix of our observations:\n",
    "```(python)\n",
    "param = 0.1\n",
    "K_ss = kernel(Xtest, Xtest, param) #this is K_**\n",
    "```"
   ]
  },
  {
   "cell_type": "code",
   "execution_count": null,
   "metadata": {},
   "outputs": [],
   "source": []
  },
  {
   "cell_type": "markdown",
   "metadata": {},
   "source": [
    "Let's compute the [Cholesky decomposition]() (square root) of the covariance matrix. \n",
    "\n",
    "It's just a bit more complicated version of the same linear algebra decompostion that we did with our eigevector matrix to prove that the power of a Markovian stochastic transition matrix is easy to compute if you know the eigenvalues and eigenvectors. \n",
    "\n",
    "```(python)\n",
    "L = np.linalg.cholesky(K_ss + 1e-10*np.eye(n))\n",
    "```"
   ]
  },
  {
   "cell_type": "code",
   "execution_count": null,
   "metadata": {},
   "outputs": [],
   "source": []
  },
  {
   "cell_type": "markdown",
   "metadata": {},
   "source": [
    "Now, sample 2 sets of standard normal distributions for our test points, and multiply them by the square root of the covariance matrix:\n",
    "```(python)\n",
    "f_prior = np.dot(L, np.random.normal(size=(n,2)))\n",
    "```"
   ]
  },
  {
   "cell_type": "code",
   "execution_count": null,
   "metadata": {},
   "outputs": [],
   "source": []
  },
  {
   "cell_type": "markdown",
   "metadata": {},
   "source": [
    "Now plot the 2 sampled functions:\n",
    "```(python)\n",
    "pl.plot(Xtest, f_prior)\n",
    "pl.axis([-5, 5, -3, 3])\n",
    "pl.title('Two samples from the GP prior')\n",
    "```"
   ]
  },
  {
   "cell_type": "code",
   "execution_count": null,
   "metadata": {},
   "outputs": [],
   "source": []
  },
  {
   "cell_type": "markdown",
   "metadata": {},
   "source": [
    "<div style=\"display:none;\">\n",
    "import numpy as np\n",
    "import matplotlib.pyplot as pl\n",
    "%matplotlib inline\n",
    "\n",
    "# Test data\n",
    "n = 100\n",
    "Xtest = np.linspace(-5, 5, n).reshape(-1,1)\n",
    "#print(Xtest)\n",
    "\n",
    "# Define the gaussian kernel function\n",
    "def kernel(a, b, param):\n",
    "    sqdist = np.sum(a**2,1).reshape(-1,1) + np.sum(b**2,1) - 2*np.dot(a, b.T)\n",
    "    return np.exp(-.5 * (1/param) * sqdist)\n",
    "\n",
    "param = 0.1\n",
    "K_ss = kernel(Xtest, Xtest, param) #this is K_**\n",
    "\n",
    "# Get cholesky decomposition (square root) of the covariance matrix\n",
    "L = np.linalg.cholesky(K_ss + 1e-10*np.eye(n))\n",
    "\n",
    "# Sample 3 sets of standard normal distributions for our test points,\n",
    "# multiply them by the square root of the covariance matrix\n",
    "f_prior = np.dot(L, np.random.normal(size=(n,2)))\n",
    "\n",
    "# Now plot the 2 sampled functions\n",
    "pl.plot(Xtest, f_prior)\n",
    "pl.axis([-5, 5, -3, 3])\n",
    "pl.title('Three samples from the GP prior')\n",
    "</div>"
   ]
  },
  {
   "cell_type": "markdown",
   "metadata": {},
   "source": [
    "***All right, all right, all right***!\n",
    "\n",
    "So the functions above are not modelling our data. Thet are just **basis functions** that will allow us to model our data, *much in the same way that eigenvectors are basis vectors that allow us to express the transformation of a vector by a transition matrix A as a linear combination of the eigenvectors of A with the eigenvalues as multiplicative factors*. \n",
    "\n",
    "They are our priors the same way you pick some parameter values as your priors when you assume a Bayesian probabilistic model, and you want to find the posterior of these parameters given your dataset and your likelihood function.\n",
    "\n",
    "We're going use the functions above as our **priors**. We will compute the covariance matrix of our training data, and its Cholesky decomposition. We add a small perturbation on the diagonals (`np.eye` is the matrix with 1 in its diagonals, 0 otherwise), to ***add numerical stability to our Cholesky decomposition*** (Cholesky is very unstable).\n",
    "\n",
    "Ready?\n",
    "\n",
    "Now let's ***simulate some data***. This will be our ***training data**: We will pick 5 $(x,y)$ points from the simulated dataset. Let's use the `sin` function to generate the dataset (the $y$ values from our $x$ values).\n",
    "```(python)\n",
    "# Noiseless training data\n",
    "Xtrain = np.array([-4, -3, -2, -1, 1, 1.5, 3.5]).reshape(7,1)\n",
    "ytrain = np.sin(Xtrain)\n",
    "```"
   ]
  },
  {
   "cell_type": "markdown",
   "metadata": {},
   "source": [
    "Let's apply the kernel function to our training points:\n",
    "```(python)\n",
    "K = kernel(Xtrain, Xtrain, param)\n",
    "L = np.linalg.cholesky(K + 0.00005*np.eye(len(Xtrain)))\n",
    "```"
   ]
  },
  {
   "cell_type": "code",
   "execution_count": null,
   "metadata": {},
   "outputs": [],
   "source": []
  },
  {
   "cell_type": "markdown",
   "metadata": {},
   "source": [
    "Compute the mean at our test points:\n",
    "```(python)\n",
    "K_s = kernel(Xtrain, Xtest, param)\n",
    "Lk = np.linalg.solve(L, K_s)\n",
    "mu = np.dot(Lk.T, np.linalg.solve(L, ytrain)).reshape((n,))\n",
    "```"
   ]
  },
  {
   "cell_type": "code",
   "execution_count": null,
   "metadata": {},
   "outputs": [],
   "source": []
  },
  {
   "cell_type": "markdown",
   "metadata": {},
   "source": [
    "Compute the standard deviation so we can plot it:\n",
    "```(python)\n",
    "s2 = np.diag(K_ss) - np.sum(Lk**2, axis=0)\n",
    "stdv = np.sqrt(s2)\n",
    "```"
   ]
  },
  {
   "cell_type": "code",
   "execution_count": null,
   "metadata": {},
   "outputs": [],
   "source": []
  },
  {
   "cell_type": "markdown",
   "metadata": {},
   "source": [
    "Now, draw samples from the posterior at our test points:\n",
    "```(python)\n",
    "L = np.linalg.cholesky(K_ss + 1e-6*np.eye(n) - np.dot(Lk.T, Lk))\n",
    "f_post = mu.reshape(-1,1) + np.dot(L, np.random.normal(size=(n,3)))\n",
    "```"
   ]
  },
  {
   "cell_type": "code",
   "execution_count": null,
   "metadata": {},
   "outputs": [],
   "source": []
  },
  {
   "cell_type": "markdown",
   "metadata": {},
   "source": [
    "and plot!\n",
    "```(python)\n",
    "pl.plot(Xtrain, ytrain, 'bs', ms=8)\n",
    "pl.plot(Xtest, f_post)\n",
    "pl.gca().fill_between(Xtest.flat, mu-2*stdv, mu+2*stdv, color=\"#dddddd\")\n",
    "pl.plot(Xtest, mu, 'r--', lw=2)\n",
    "pl.axis([-5, 5, -3, 3])\n",
    "pl.title('Three samples from the GP posterior')\n",
    "pl.show()\n",
    "```"
   ]
  },
  {
   "cell_type": "code",
   "execution_count": null,
   "metadata": {},
   "outputs": [],
   "source": []
  },
  {
   "cell_type": "markdown",
   "metadata": {},
   "source": [
    "<div style=\"display:none;\">\n",
    "# Noiseless training data\n",
    "Xtrain = np.array([-4, -3, -2, -1, 1, 1.5, 3.5]).reshape(7,1)\n",
    "ytrain = np.sin(Xtrain)\n",
    "\n",
    "# Apply the kernel function to our training points\n",
    "K = kernel(Xtrain, Xtrain, param)\n",
    "L = np.linalg.cholesky(K + 0.00005*np.eye(len(Xtrain)))\n",
    "\n",
    "# Compute the mean at our test points.\n",
    "K_s = kernel(Xtrain, Xtest, param)\n",
    "Lk = np.linalg.solve(L, K_s)\n",
    "mu = np.dot(Lk.T, np.linalg.solve(L, ytrain)).reshape((n,))\n",
    "\n",
    "# Compute the standard deviation so we can plot it\n",
    "s2 = np.diag(K_ss) - np.sum(Lk**2, axis=0)\n",
    "stdv = np.sqrt(s2)\n",
    "\n",
    "# Draw samples from the posterior at our test points.\n",
    "L = np.linalg.cholesky(K_ss + 1e-6*np.eye(n) - np.dot(Lk.T, Lk))\n",
    "f_post = mu.reshape(-1,1) + np.dot(L, np.random.normal(size=(n,3)))\n",
    "\n",
    "pl.plot(Xtrain, ytrain, 'bs', ms=8)\n",
    "pl.plot(Xtest, f_post)\n",
    "pl.gca().fill_between(Xtest.flat, mu-2*stdv, mu+2*stdv, color=\"#dddddd\")\n",
    "pl.plot(Xtest, mu, 'r--', lw=2)\n",
    "pl.axis([-5, 5, -3, 3])\n",
    "pl.title('Three samples from the GP posterior')\n",
    "pl.show()\n",
    "</div>"
   ]
  },
  {
   "cell_type": "markdown",
   "metadata": {},
   "source": [
    "***All right, all right, allright***!\n",
    "\n",
    "Observe how the training points (blue squares in the output above) have \"corraled\" the set of possible functions: The ones we sampled from the posterior to go through the training points. The dotted red line shows the mean output and the grey area shows 2 standard deviations from the mean. \n",
    "\n",
    "Note that the standard deviation is 0 at our training points because we did not add any noise to our data. Also note how things start to go a bit wild again to the right of our last training point $x = 1$. That won’t get reined in until we observe some data over there, or by adding additional constraints on the herky-jerky nature of our posterior functions.\n"
   ]
  },
  {
   "cell_type": "markdown",
   "metadata": {},
   "source": [
    "Ok, so the computation above only used `numpy`. Now we're going to leverage `PyMC3` to do GP estimation.\n",
    "\n",
    "PyMC3's `gp.Marginal` class implements a common case of GP regression, where the observed data are the sum of a GP and Gaussian noise. In other words, the observations $y$ are the unknown function to model, plus noise:\n",
    "\n",
    "$$\\begin{split}\\begin{aligned}\n",
    "  \\epsilon &\\sim N(0, \\Sigma) \\\\\n",
    "  y &= f(x) + \\epsilon \\\\\n",
    "\\end{aligned}\\end{split}$$\n",
    "\n",
    "We are going to use the [Matern](https://en.wikipedia.org/wiki/Mat%C3%A9rn_covariance_function) 5/2, a smooth kernel function. \n",
    "\n",
    "We draw random samples from a [multivariate normal distribution](https://docs.scipy.org/doc/numpy-1.14.0/reference/generated/numpy.random.multivariate_normal.html) (generalization of the one-dimensional normal distribution to higher dimensions), which we're not supposed to know (we're going to use that to match with the final result to see how well our model performs). Then we add some noise with `σ_true * np.random.randn(n)` and *that* becomes our observations (what we know). We flatten to one dimension using numpy's `.flatten()` (read [here](https://docs.scipy.org/doc/numpy-1.14.0/reference/generated/numpy.ndarray.flatten.html0)). And we plot the original data (generator) and the noisy data (observations). Change the random seed and see the data change!\n",
    "\n",
    "Again, it is a well-known fact that when two training inputs are too close in input space, the covariance matrix may become not-positive definite. As a result, the [Cholesky decomposition](https://en.wikipedia.org/wiki/Cholesky_decomposition) of the covariance matrix, necessary for GP computations, may fail due to numerical error. The standard solution to alleviate ill-conditioning is to add a **ridge** or **nugget** to the diagonal of the covariance matrix, which amounts to adding (or increasing, if already present) **observation noise**. We do this below with `+ 1e-8*np.eye(n)`. We're inoculating ourselves to ill-conditioning. But just to be safe, we don't take *too many* data points, just 100 between 0 and 10. If you blow up with a different seed or by changing any other parameters, I'd like to take a look..\n",
    "\n",
    "Another option consists in just altering the troublesome points. Essentially, the observation is that close-by points are highly redundant, in fact so redundant that they reduce the rank of the covariance matrix. Since one those points is contributing little information to the problem at hand, removing one or the other (or averaging them, or \"bouncing\" one point away from the other to some minimal acceptable distance) will not really change your solution all that much.\n",
    "\n",
    "BTW, if anyone thinks this math is too tough, note that PyMC3's `gp.Marginal` was written by students (like you) at Google's summer code camp 2017 (go [here](https://github.com/pymc-devs/pymc3/releases) and browse over to the manifest for v3.2 Final: *This version includes two major contributions from our Google Summer of...*). Wanna work for Google?\n",
    "\n",
    "</br >\n",
    "<center>\n",
    "<img src=\"ipynb.images/googleTshirt.png\" width=200 />\n",
    "</center>"
   ]
  },
  {
   "cell_type": "markdown",
   "metadata": {},
   "source": [
    "Let's use the [Matern covariance function](https://en.wikipedia.org/wiki/Mat%C3%A9rn_covariance_function):\n",
    "\n",
    "```(python)\n",
    "import pymc3 as pm\n",
    "import numpy as np\n",
    "import scipy as sp\n",
    "import pandas as pd\n",
    "\n",
    "import matplotlib.pyplot as plt\n",
    "%matplotlib inline\n",
    "\n",
    "# set the seed\n",
    "np.random.seed(25)\n",
    "\n",
    "n = 100 # The number of data points\n",
    "X = np.linspace(0, 10, n)[:, None] # The inputs to the GP, note: They must be arranged as a column vector for PyMC3\n",
    "\n",
    "# Define the true covariance function and its hyper-parameters\n",
    "ℓ_true = 1.0\n",
    "η_true = 3.0\n",
    "cov_func = η_true**2 * pm.gp.cov.Matern52(1, ℓ_true)\n",
    "```"
   ]
  },
  {
   "cell_type": "code",
   "execution_count": null,
   "metadata": {},
   "outputs": [],
   "source": []
  },
  {
   "cell_type": "markdown",
   "metadata": {},
   "source": [
    "A mean function that is zero everywhere:\n",
    "```(python)\n",
    "mean_func = pm.gp.mean.Zero()\n",
    "```"
   ]
  },
  {
   "cell_type": "code",
   "execution_count": null,
   "metadata": {},
   "outputs": [],
   "source": []
  },
  {
   "cell_type": "markdown",
   "metadata": {},
   "source": [
    "The latent function (equivalent to the likelihood in Bayesian classical estimation) values are a sample from a multivariate normal distribution.\n",
    "\n",
    "Note that we have to call `eval()` because PyMC3 is built on top of Theano (for the version living on professor's laptop). I don't know what will actually happen if you don't have theano installed. Maybe install it (sorry, professor very lazy, when his code works, he bikes home happy, does not mess with perfection)?\n",
    "```(python)\n",
    "f_true = np.random.multivariate_normal(mean_func(X).eval(),\n",
    "                                       cov_func(X).eval() + 1e-8*np.eye(n), 1).flatten()\n",
    "```"
   ]
  },
  {
   "cell_type": "code",
   "execution_count": null,
   "metadata": {},
   "outputs": [],
   "source": []
  },
  {
   "cell_type": "markdown",
   "metadata": {},
   "source": [
    "The observed data is the latent function plus a small amount of Gaussian noise.\n",
    "\n",
    "The standard deviation of the noise is `sigma`:\n",
    "```(python)\n",
    "σ_true = 2.0\n",
    "y = f_true + σ_true * np.random.randn(n)\n",
    "```"
   ]
  },
  {
   "cell_type": "code",
   "execution_count": null,
   "metadata": {},
   "outputs": [],
   "source": []
  },
  {
   "cell_type": "markdown",
   "metadata": {},
   "source": [
    "Plot the data and the (unobserved) latent function. Hopefully, our Gaussian Process yields an approximation of the data that is as close as possible to the latent function.\n",
    "```(python)\n",
    "fig = plt.figure(figsize=(12,5)); ax = fig.gca()\n",
    "ax.plot(X, f_true, \"dodgerblue\", lw=3, label=\"True f\");\n",
    "ax.plot(X, y, 'ok', ms=3, alpha=0.5, label=\"Data\");\n",
    "ax.set_xlabel(\"X\"); ax.set_ylabel(\"The true f(x)\"); plt.legend();\n",
    "```"
   ]
  },
  {
   "cell_type": "code",
   "execution_count": null,
   "metadata": {},
   "outputs": [],
   "source": []
  },
  {
   "cell_type": "markdown",
   "metadata": {},
   "source": [
    "<div style=\"display:none;\">\n",
    "import pymc3 as pm\n",
    "import numpy as np\n",
    "import scipy as sp\n",
    "import pandas as pd\n",
    "\n",
    "import matplotlib.pyplot as plt\n",
    "%matplotlib inline\n",
    "\n",
    "# set the seed\n",
    "np.random.seed(25)\n",
    "\n",
    "n = 100 # The number of data points\n",
    "X = np.linspace(0, 10, n)[:, None] # The inputs to the GP, note: They must be arranged as a column vector for PyMC3\n",
    "\n",
    "# Define the true covariance function and its hyper-parameters\n",
    "ℓ_true = 1.0\n",
    "η_true = 3.0\n",
    "cov_func = η_true**2 * pm.gp.cov.Matern52(1, ℓ_true)\n",
    "\n",
    "# A mean function that is zero everywhere\n",
    "mean_func = pm.gp.mean.Zero()\n",
    "\n",
    "# The latent function values are one sample from a multivariate normal distribution\n",
    "# Note that we have to call `eval()` because PyMC3 is built on top of Theano\n",
    "f_true = np.random.multivariate_normal(mean_func(X).eval(),\n",
    "                                       cov_func(X).eval() + 1e-8*np.eye(n), 1).flatten()\n",
    "\n",
    "# The observed data is the latent function plus a small amount of Gaussian noise\n",
    "# The standard deviation of the noise is `sigma`\n",
    "σ_true = 2.0\n",
    "y = f_true + σ_true * np.random.randn(n)\n",
    "\n",
    "## Plot the data and the unobserved latent function\n",
    "fig = plt.figure(figsize=(12,5)); ax = fig.gca()\n",
    "ax.plot(X, f_true, \"dodgerblue\", lw=3, label=\"True f\");\n",
    "ax.plot(X, y, 'ok', ms=3, alpha=0.5, label=\"Data\");\n",
    "ax.set_xlabel(\"X\"); ax.set_ylabel(\"The true f(x)\"); plt.legend();\n",
    "</div>"
   ]
  },
  {
   "cell_type": "markdown",
   "metadata": {},
   "source": [
    "***All right, all right, all right***!\n",
    "\n",
    "Now that we have our observations $y$, we model the hyperparameters as a gamma and two Half-Cauchys. The [Cauchy](https://en.wikipedia.org/wiki/Cauchy_distribution) distribution is used quite  bit in stastics, and in particular the half-Cauchy has had a lot of [success](http://andrewgelman.com/2011/07/13/on_the_half-cau/) in modeling Bayesian model hyperparameters. Don't worry about this. This is just trial and error of many different ways to model hyperparameters, and this one is particularly successful.\n",
    "\n",
    "We run an MCMC algorithm to find the [Maximum A Posteriori](https://en.wikipedia.org/wiki/Maximum_a_posteriori_estimation) (MAP) estimate of the hyperparameters and tabulate them:\n",
    "```(python)\n",
    "with pm.Model() as model:\n",
    "    #ℓ = pm.Gamma(\"ℓ\", alpha=2, beta=1)\n",
    "    ℓ = pm.HalfCauchy(\"ℓ\", beta=1)\n",
    "    η = pm.HalfCauchy(\"η\", beta=5)\n",
    "\n",
    "    cov = η**2 * pm.gp.cov.Matern52(1, ℓ)\n",
    "    gp = pm.gp.Marginal(cov_func=cov)\n",
    "\n",
    "    σ = pm.HalfCauchy(\"σ\", beta=5)\n",
    "    y_ = gp.marginal_likelihood(\"y\", X=X, y=y, noise=σ)\n",
    "\n",
    "    mp = pm.find_MAP()\n",
    "```"
   ]
  },
  {
   "cell_type": "code",
   "execution_count": null,
   "metadata": {},
   "outputs": [],
   "source": []
  },
  {
   "cell_type": "markdown",
   "metadata": {},
   "source": [
    "<div style=\"display:none;\">\n",
    "with pm.Model() as model:\n",
    "    #ℓ = pm.Gamma(\"ℓ\", alpha=2, beta=1)\n",
    "    ℓ = pm.HalfCauchy(\"ℓ\", beta=1)\n",
    "    η = pm.HalfCauchy(\"η\", beta=5)\n",
    "\n",
    "    cov = η**2 * pm.gp.cov.Matern52(1, ℓ)\n",
    "    gp = pm.gp.Marginal(cov_func=cov)\n",
    "\n",
    "    σ = pm.HalfCauchy(\"σ\", beta=5)\n",
    "    y_ = gp.marginal_likelihood(\"y\", X=X, y=y, noise=σ)\n",
    "\n",
    "    mp = pm.find_MAP()\n",
    "</div>"
   ]
  },
  {
   "cell_type": "markdown",
   "metadata": {},
   "source": [
    "***All right, all right, all right***!\n",
    "\n",
    "Now collect the results into a pandas dataframe to display. \"mp\" stands for **m**arginal **p**osterior\n",
    "```(pandas)\n",
    "pd.DataFrame({\"Parameter\": [\"ℓ\", \"η\", \"σ\"],\n",
    "              \"Value at MAP\": [float(mp[\"ℓ\"]), float(mp[\"η\"]), float(mp[\"σ\"])],\n",
    "              \"True value\": [ℓ_true, η_true, σ_true]})\n",
    "```"
   ]
  },
  {
   "cell_type": "code",
   "execution_count": null,
   "metadata": {},
   "outputs": [],
   "source": []
  },
  {
   "cell_type": "markdown",
   "metadata": {},
   "source": [
    "<div style=\"display:none;\">\n",
    "# collect the results into a pandas dataframe to display\n",
    "# \"mp\" stands for marginal posterior\n",
    "pd.DataFrame({\"Parameter\": [\"ℓ\", \"η\", \"σ\"],\n",
    "              \"Value at MAP\": [float(mp[\"ℓ\"]), float(mp[\"η\"]), float(mp[\"σ\"])],\n",
    "              \"True value\": [ℓ_true, η_true, σ_true]})\n",
    "</div>"
   ]
  },
  {
   "cell_type": "markdown",
   "metadata": {},
   "source": [
    "***All right, all right, all right***!\n",
    "\n",
    "We used the GP + noise to find the optimal hyperparameters.\n",
    "\n",
    "PyMC3's `.conditional` has an optional flag for `pred_noise`, which defaults to False. When `pred_noise=False`, the conditional method produces the predictive distribution for the underlying function represented by the GP. When `pred_noise=True`, the conditional method produces the predictive distribution for the GP ***plus noise***.\n",
    "\n",
    "Let's plot just the estimated GP ***without the noise*** on an increased x-axis.\n",
    "```(python)\n",
    "# new values from x=0 to x=20\n",
    "X_new = np.linspace(0, 20, 600)[:,None]\n",
    "\n",
    "# add the GP conditional to the model, given the new X values\n",
    "with model:\n",
    "    f_pred = gp.conditional(\"f_pred\", X_new)\n",
    "\n",
    "# To use the MAP values, you can just replace the trace with a length-1 list with `mp`\n",
    "with model:\n",
    "    pred_samples = pm.sample_ppc([mp], vars=[f_pred], samples=2000)\n",
    "```"
   ]
  },
  {
   "cell_type": "code",
   "execution_count": null,
   "metadata": {},
   "outputs": [],
   "source": []
  },
  {
   "cell_type": "markdown",
   "metadata": {},
   "source": [
    "<div style=\"display:none;\">\n",
    "# new values from x=0 to x=20\n",
    "X_new = np.linspace(0, 20, 600)[:,None]\n",
    "\n",
    "# add the GP conditional to the model, given the new X values\n",
    "with model:\n",
    "    f_pred = gp.conditional(\"f_pred\", X_new)\n",
    "\n",
    "# To use the MAP values, you can just replace the trace with a length-1 list with `mp`\n",
    "with model:\n",
    "    pred_samples = pm.sample_ppc([mp], vars=[f_pred], samples=2000)\n",
    "</div>"
   ]
  },
  {
   "cell_type": "markdown",
   "metadata": {},
   "source": [
    "***All right, all right, all right***!\n",
    "\n",
    "Let's plot! \n",
    "\n",
    "Note that the shading underscores that we're plotting a probability distribution, so it's maximal at the core and then dies out towards its standard deviations.\n",
    "```(python)\n",
    "# plot the results\n",
    "fig = plt.figure(figsize=(12,5)); ax = fig.gca()\n",
    "\n",
    "# plot the samples from the gp posterior with samples and shading\n",
    "from pymc3.gp.util import plot_gp_dist\n",
    "plot_gp_dist(ax, pred_samples[\"f_pred\"], X_new);\n",
    "\n",
    "# plot the data and the true latent function\n",
    "plt.plot(X, f_true, \"dodgerblue\", lw=3, label=\"True f\");\n",
    "plt.plot(X, y, 'ok', ms=3, alpha=0.5, label=\"Observed data\");\n",
    "\n",
    "# axis labels and title\n",
    "plt.xlabel(\"X\"); plt.ylim([-13,13]);\n",
    "plt.title(\"Posterior distribution over $f(x)$ at the observed values\"); plt.legend();\n",
    "```"
   ]
  },
  {
   "cell_type": "code",
   "execution_count": null,
   "metadata": {},
   "outputs": [],
   "source": []
  },
  {
   "cell_type": "markdown",
   "metadata": {},
   "source": [
    "<div style=\"display:none;\">\n",
    "# plot the results\n",
    "fig = plt.figure(figsize=(12,5)); ax = fig.gca()\n",
    "\n",
    "# plot the samples from the gp posterior with samples and shading\n",
    "from pymc3.gp.util import plot_gp_dist\n",
    "plot_gp_dist(ax, pred_samples[\"f_pred\"], X_new);\n",
    "\n",
    "# plot the data and the true latent function\n",
    "plt.plot(X, f_true, \"dodgerblue\", lw=3, label=\"True f\");\n",
    "plt.plot(X, y, 'ok', ms=3, alpha=0.5, label=\"Observed data\");\n",
    "\n",
    "# axis labels and title\n",
    "plt.xlabel(\"X\"); plt.ylim([-13,13]);\n",
    "plt.title(\"Posterior distribution over $f(x)$ at the observed values\"); plt.legend();\n",
    "</div>"
   ]
  },
  {
   "cell_type": "markdown",
   "metadata": {},
   "source": [
    "***All right, all right, all right***!\n",
    "\n",
    "So the reason the posterior is so close to the True generating function is because we only predicted $f_∗$, not $f_∗$ + noise, which is what we actually observe. So let's set `pred_noise=True`:\n",
    "```(python)\n",
    "with model:\n",
    "    y_pred = gp.conditional(\"y_pred\", X_new, pred_noise=True)\n",
    "    y_samples = pm.sample_ppc([mp], vars=[y_pred], samples=2000)\n",
    "```"
   ]
  },
  {
   "cell_type": "markdown",
   "metadata": {},
   "source": [
    "<div style=\"display:none;\">\n",
    "with model:\n",
    "    y_pred = gp.conditional(\"y_pred\", X_new, pred_noise=True)\n",
    "    y_samples = pm.sample_ppc([mp], vars=[y_pred], samples=2000)\n",
    "</div>"
   ]
  },
  {
   "cell_type": "markdown",
   "metadata": {},
   "source": [
    "***All right, all right, all right***!\n",
    "\n",
    "Let's plot:\n",
    "```(python)\n",
    "fig = plt.figure(figsize=(12,5)); ax = fig.gca()\n",
    "\n",
    "# posterior predictive distribution\n",
    "plot_gp_dist(ax, y_samples[\"y_pred\"], X_new, plot_samples=False, palette=\"bone_r\");\n",
    "\n",
    "# overlay a scatter of one draw of random points from the\n",
    "#   posterior predictive distribution\n",
    "plt.plot(X_new, y_samples[\"y_pred\"][800, :].T, \"co\", ms=2, label=\"Predicted data\");\n",
    "\n",
    "# plot original data and true function\n",
    "plt.plot(X, y, 'ok', ms=3, alpha=1.0, label=\"observed data\");\n",
    "plt.plot(X, f_true, \"dodgerblue\", lw=3, label=\"true f\");\n",
    "\n",
    "plt.xlabel(\"x\"); plt.ylim([-13,13]);\n",
    "plt.title(\"posterior predictive distribution, y_*\"); plt.legend();\n",
    "```"
   ]
  },
  {
   "cell_type": "code",
   "execution_count": null,
   "metadata": {},
   "outputs": [],
   "source": []
  },
  {
   "cell_type": "markdown",
   "metadata": {},
   "source": [
    "<div style=\"display:none;\">\n",
    "fig = plt.figure(figsize=(12,5)); ax = fig.gca()\n",
    "\n",
    "# posterior predictive distribution\n",
    "plot_gp_dist(ax, y_samples[\"y_pred\"], X_new, plot_samples=False, palette=\"bone_r\");\n",
    "\n",
    "# overlay a scatter of one draw of random points from the\n",
    "#   posterior predictive distribution\n",
    "plt.plot(X_new, y_samples[\"y_pred\"][800, :].T, \"co\", ms=2, label=\"Predicted data\");\n",
    "\n",
    "# plot original data and true function\n",
    "plt.plot(X, y, 'ok', ms=3, alpha=1.0, label=\"observed data\");\n",
    "plt.plot(X, f_true, \"dodgerblue\", lw=3, label=\"true f\");\n",
    "\n",
    "plt.xlabel(\"x\"); plt.ylim([-13,13]);\n",
    "plt.title(\"posterior predictive distribution, y_*\"); plt.legend();\n",
    "</div>"
   ]
  },
  {
   "cell_type": "markdown",
   "metadata": {},
   "source": [
    "***All right, all right, all right***!\n",
    "\n",
    "The posterior predictive density is ***wider*** than the conditional distribution of the noiseless function, and reflects the predictive distribution of the noisy data, which is marked as black dots. \n",
    "\n",
    "But see how our simulated data points match the observed data points pretty well? This is what Data Science is about: We have some observations, and we use these observations to build a **model**. Then we throw away the data, and we can use our model to predict the process uderlying our original observations with very close statistical matching. "
   ]
  },
  {
   "cell_type": "markdown",
   "metadata": {},
   "source": [
    "We can also use PyMC3's `.predict` method to return the mean and variance given a particular point. `.predict` returns the same mean and covariance that the distribution of `.conditional` has:\n",
    "```(python)\n",
    "# predict\n",
    "mu, var = gp.predict(X_new, point=mp, diag=True)\n",
    "sd = np.sqrt(var)\n",
    "```"
   ]
  },
  {
   "cell_type": "code",
   "execution_count": null,
   "metadata": {},
   "outputs": [],
   "source": []
  },
  {
   "cell_type": "markdown",
   "metadata": {},
   "source": [
    "<div style=\"display:none;\">\n",
    "# predict\n",
    "mu, var = gp.predict(X_new, point=mp, diag=True)\n",
    "sd = np.sqrt(var)\n",
    "</div>"
   ]
  },
  {
   "cell_type": "markdown",
   "metadata": {},
   "source": [
    "***All right, all right, all right***!\n",
    "\n",
    "Let's plot:\n",
    "```(python)\n",
    "# draw plot\n",
    "fig = plt.figure(figsize=(12,5)); ax = fig.gca()\n",
    "\n",
    "# plot mean and 2σ intervals\n",
    "plt.plot(X_new, mu, 'r', lw=2, label=\"mean and 2σ region\");\n",
    "plt.plot(X_new, mu + 2*sd, 'r', lw=1); plt.plot(X_new, mu - 2*sd, 'r', lw=1);\n",
    "plt.fill_between(X_new.flatten(), mu - 2*sd, mu + 2*sd, color=\"r\", alpha=0.5)\n",
    "\n",
    "# plot original data and true function\n",
    "plt.plot(X, y, 'ok', ms=3, alpha=1.0, label=\"observed data\");\n",
    "plt.plot(X, f_true, \"dodgerblue\", lw=3, label=\"true f\");\n",
    "\n",
    "plt.xlabel(\"x\"); plt.ylim([-13,13]);\n",
    "plt.title(\"predictive mean and 2σ interval\"); plt.legend();\n",
    "```"
   ]
  },
  {
   "cell_type": "code",
   "execution_count": null,
   "metadata": {},
   "outputs": [],
   "source": []
  },
  {
   "cell_type": "markdown",
   "metadata": {},
   "source": [
    "<div style=\"display:none;\">\n",
    "# draw plot\n",
    "fig = plt.figure(figsize=(12,5)); ax = fig.gca()\n",
    "\n",
    "# plot mean and 2σ intervals\n",
    "plt.plot(X_new, mu, 'r', lw=2, label=\"mean and 2σ region\");\n",
    "plt.plot(X_new, mu + 2*sd, 'r', lw=1); plt.plot(X_new, mu - 2*sd, 'r', lw=1);\n",
    "plt.fill_between(X_new.flatten(), mu - 2*sd, mu + 2*sd, color=\"r\", alpha=0.5)\n",
    "\n",
    "# plot original data and true function\n",
    "plt.plot(X, y, 'ok', ms=3, alpha=1.0, label=\"observed data\");\n",
    "plt.plot(X, f_true, \"dodgerblue\", lw=3, label=\"true f\");\n",
    "\n",
    "plt.xlabel(\"x\"); plt.ylim([-13,13]);\n",
    "plt.title(\"predictive mean and 2σ interval\"); plt.legend();\n",
    "</div>"
   ]
  },
  {
   "cell_type": "markdown",
   "metadata": {},
   "source": [
    "***All right, all right, all right***! \n",
    "\n",
    "You are ***done*** with the lab. Congratulations!\n",
    "\n",
    "Enough with the ***all rights***!\n",
    "</br >\n",
    "<center>\n",
    "<img src=\"ipynb.images/angry-scoobydoo.png\" width=400 />\n",
    "</center>"
   ]
  },
  {
   "cell_type": "markdown",
   "metadata": {},
   "source": [
    "## 14. Gaussian Mixture Models\n",
    "\n",
    "[Gaussian Mixture Models](https://scikit-learn.org/stable/modules/mixture.html) (GMM) are a neat methodolgy for modelling observations that stem from *multiple groupings*. \n",
    "\n",
    "A [mixture model](https://en.wikipedia.org/wiki/Mixture_model) is a probabilistic model for representing the presence of subpopulations within an overall population, without requiring that an observed data set should identify the sub-population to which an individual observation belongs. \n",
    "\n",
    "Mixture models are used to make statistical inferences about the properties of sub-populations given only observations on the pooled population, without sub-population identity information.\n",
    "\n",
    "Let's draw normal distributions from 3 different populations and mix them in."
   ]
  },
  {
   "cell_type": "code",
   "execution_count": null,
   "metadata": {},
   "outputs": [],
   "source": [
    "%matplotlib inline\n",
    "from matplotlib import pyplot as plt\n",
    "import numpy as np\n",
    "import pymc3 as pm\n",
    "import seaborn as sns\n",
    "\n",
    "SEED = 25\n",
    "np.random.seed(SEED) \n",
    "\n",
    "N = 1000\n",
    "W = np.array([0.35, 0.4, 0.25])\n",
    "MU = np.array([0., 2., 5.])\n",
    "SIGMA = np.array([0.5, 0.5, 1.])\n",
    "\n",
    "component = np.random.choice(MU.size, size=N, p=W)  #1st arg: arange(MU.size), p: probabilities associated with each 1sy arg entry \n",
    "x = np.random.normal(MU[component], SIGMA[component], size=N) #random samples from a normal distribution @ 1st arg\n",
    "\n",
    "fig, ax = plt.subplots(figsize=(8, 6))\n",
    "ax.hist(x, bins=50, normed=True, lw=0);"
   ]
  },
  {
   "cell_type": "markdown",
   "metadata": {},
   "source": [
    "Specify and fit a marginalized Gaussian mixture model (GMM) to this data in `PyMC3`. Here, we introduce a new pdf called **Dirichlet**. The [Dirichlet distribution](https://en.wikipedia.org/wiki/Dirichlet_distribution) is the multivariate generalization of the beta distribution (our \"baseball\" distribution, used to model the behavior of random variables limited to intervals of finite length). It is used a lot in [Natural Language Processing](https://en.wikipedia.org/wiki/Natural_language_processing) (NLP).\n",
    "\n",
    "The Dirichlet pdf does not sample from the space of real numbers, like the normal pdf does. Instead it samples over a probability simplex (probabilities over $n$ distinct categories, representing the dimensions of our multivariate distribution). A 4-dimentional Dirichlet distribution has 4 parameters. So, it's tailor-made for mixture models."
   ]
  },
  {
   "cell_type": "code",
   "execution_count": null,
   "metadata": {},
   "outputs": [],
   "source": [
    "with pm.Model() as model_mm:\n",
    "    w = pm.Dirichlet('w', np.ones_like(W))  #array of ones with the same shape and type as W\n",
    "\n",
    "    mu = pm.Normal('mu', 0., 10., shape=W.size)\n",
    "    tau = pm.Gamma('tau', 1., 1., shape=W.size)\n",
    "\n",
    "    x_obs = pm.NormalMixture('x_obs', w, mu, tau=tau, observed=x)"
   ]
  },
  {
   "cell_type": "code",
   "execution_count": null,
   "metadata": {},
   "outputs": [],
   "source": [
    "with model_mm:\n",
    "    trace_mm = pm.sample(5000, n_init=10000, tune=1000, random_seed=SEED)[1000:]"
   ]
  },
  {
   "cell_type": "markdown",
   "metadata": {},
   "source": [
    "The posterior distribution on the weights and the component means has captured the true value quite well:"
   ]
  },
  {
   "cell_type": "code",
   "execution_count": null,
   "metadata": {},
   "outputs": [],
   "source": [
    "pm.traceplot(trace_mm, varnames=['w', 'mu', 'tau']);"
   ]
  },
  {
   "cell_type": "code",
   "execution_count": null,
   "metadata": {},
   "outputs": [],
   "source": [
    "pm.plot_posterior(trace_mm, varnames=['w', 'mu']);"
   ]
  },
  {
   "cell_type": "markdown",
   "metadata": {},
   "source": [
    "Let's sample from the model’s posterior predictive distribution:"
   ]
  },
  {
   "cell_type": "code",
   "execution_count": null,
   "metadata": {},
   "outputs": [],
   "source": [
    "with model_mm:\n",
    "    ppc_trace = pm.sample_ppc(trace_mm, 5000, random_seed=SEED)"
   ]
  },
  {
   "cell_type": "markdown",
   "metadata": {},
   "source": [
    "and let's plot:"
   ]
  },
  {
   "cell_type": "code",
   "execution_count": null,
   "metadata": {},
   "outputs": [],
   "source": [
    "fig, ax = plt.subplots(figsize=(8, 6))\n",
    "\n",
    "ax.hist(x, bins=50, normed=True,\n",
    "        histtype='step', lw=2,\n",
    "        label='Observed data');\n",
    "\n",
    "ax.hist(ppc_trace['x_obs'], bins=50, normed=True,\n",
    "        histtype='step', lw=2,\n",
    "        label='Posterior predictive distribution');\n",
    "\n",
    "ax.legend(loc=1);"
   ]
  },
  {
   "cell_type": "markdown",
   "metadata": {},
   "source": [
    "Not too shabby...\n",
    "\n",
    "If a sports team is comprised of 11 players, each with his own abilities in passes or distance covered (with a superstar on some teams with way above average abilities, e.g. a Christiano Ronaldo, or a Lionel Messi), then team abilities could be modeled as a GMM. That way, you could go from individual player rankings to complete team rankings."
   ]
  },
  {
   "cell_type": "markdown",
   "metadata": {},
   "source": [
    "## 15. Conclusion\n",
    "\n",
    "A **covariance function** is the crucial ingredient in a **Gaussian Process** (GP) predictor. It ***encodes our assumptions about the function which we wish to learn*** and which ***passes through all our observations*** and ***has the highest probability to represent the rule behind the process*** that generates our observations. That is why we started the notebook with simple **point-estimates of covariance** for univariate distributions, then the **covariance matrix** for multivariate distribtions, and finally a **covariance function** (such as the Matern) for GPs.\n",
    "\n",
    "In **supervised learning**, the notion of similarity between data points is ***crucial***. It is a basic similarity assumption that points with inputs $x$ which are close are likely to have similar target values $y$, and thus training points (prior distributions) that are near to a test point (posterior distributions) should be informative about the prediction at that point. Under the Gaussian process view, it is the covariance function that deﬁnes nearness or similarity.\n",
    "\n",
    "</br >\n",
    "<center>\n",
    "<img src=\"ipynb.images/GPs2.png\" width=900 />\n",
    "    *Observations define the data points that inform likelhood, mean, and covariance functions*\n",
    "</center>\n",
    "<br />\n",
    "\n",
    "How do GPs differ from classical Bayesian estimation? Rather than work in **parameter space**, which is where all the priors live, we can bypass it by just working in **data space**. This allows us to worry only about how different data points relate to one another without needing to specify the parameters of the data generating process. We say that this method is non-parametric, in the same way that regression trees are non-parametric (even though the covariance function is ***very*** parametric).\n",
    "\n",
    "The **posterior predictive distribution** encapsulates our uncertainty about the data generating process. The choice of covariance kernel —which says how different observations inform one another—, implies certain properties of the data generating process (this is essentially a hyperparameter of our model).\n",
    "\n",
    "Here's some math we skipped, but which is important should you decide to concentrate more on GPs:\n",
    "\n",
    "- [Mercer’s theorem](https://en.wikipedia.org/wiki/Mercer%27s_theorem) allows you to express the covariance function (under certain conditions) in terms of its **eigenfunctions and eigenvalues**.\n",
    "\n",
    "- A general name for a function $k$ of two arguments mapping a pair of inputs$x ∈ X$, $x_0 ∈ X$ into the set of real numbers is called a **kernel**. This term arises in the theory of integral [operators](https://en.wikipedia.org/wiki/Operator_theory).\n",
    "\n",
    "- Given a set of input points ${x_i\\;|\\;i = 1,\\cdots,n}$ we can compute the [Gram matrix](https://en.wikipedia.org/wiki/Gramian_matrix) $K$ whose entries are $K_{ij} = k(x_i,x_j)$. If $k$ is a covariance function, we call the matrix $K$ the **covariance matrix**.\n",
    "\n",
    "- A real $n × n$ matrix $K$ which satisﬁes $Q(v) = v^TKv ≥ 0$ for all vectors $v$ $∈ R^n$ is called **positive semideﬁnite** (PSD). If $Q(v) = 0$ only when $v = 0$, the matrix is **positive deﬁnite**. $Q(v)$ is called a **quadratic form**. A symmetric matrix is PSD if and only if all of its eigenvalues are non-negative. A Gram matrix corresponding to a general kernel function need not be PSD, but the Gram matrix corresponding to a covariance function is PSD.\n",
    "\n",
    "The theoretical basis for GPs was developed by the French mathematician [Georges Matheron](https://en.wikipedia.org/wiki/Georges_Matheron) in 1960, based on the Master's thesis of [Danie G. Krige](https://en.wikipedia.org/wiki/Danie_G._Krige), the pioneering plotter of distance-weighted average gold grades at the [Witwatersrand reef complex](https://en.wikipedia.org/wiki/Witwatersrand) in South Africa. Krige sought to estimate the most likely distribution of gold based on samples from a few boreholes. Thus, [kriging](https://en.wikipedia.org/wiki/Kriging). \n",
    "\n",
    "- [Norbert Wiener](https://en.wikipedia.org/wiki/Norbert_Wiener) (USA) and [Andrey Kolmogorov](https://en.wikipedia.org/wiki/Andrey_Kolmogorov) (Russia) pioneered some of the earlier, related, work on interpolation techniques.\n",
    "\n",
    "### In a nutshell\n",
    "A set of values (samples) is observed, each value associated with a spatial location. The covariance between *any two* samples is the covariance function (or kernel) of the Gaussian Process (GP) evaluated at the spatial location of the two points. \n",
    "\n",
    "Now, a new value (test point) can be predicted at any new spatial location, by combining the Gaussian prior with a Gaussian likelihood function for each of the observed values. The resulting posterior distribution is also Gaussian, with a mean and covariance that can be simply computed from the observed values, their variance, and the kernel matrix derived from the prior.\n",
    "\n",
    "GPs are a very expressive theoretical framework. No analytic prior to remember other than picking the right kernel functions, appropriate to the observations' smoothness and other global characteristics (picking hyperparameters continues to be the most delicate, unavoidable, part. \n",
    "\n",
    "- Even in Machine Learning! I've been to a few [talks](http://proceedings.mlr.press/v54/jun17a/jun17a.pdf) that posit parameterless approaches, but so far too soon to tell). \n",
    "\n",
    "To learn [more](http://www.gaussianprocess.org/gpml/) about GPs, and [more](http://people.cs.ubc.ca/~murphyk/MLbook/) about probabilistic machine learning, visit the links and play around with the experiments in this notebook.\n",
    "\n",
    "This is the most complicated notebook of INFO 6105 as I teach it :-)\n",
    "\n",
    "It gives you a good idea of what data science is about."
   ]
  },
  {
   "cell_type": "markdown",
   "metadata": {},
   "source": [
    "# Homework\n",
    "\n",
    "Find an interesting dataset where one (independent) column has a strong **distance correlation** (DC) with the (dependent) column you want to model. Add some noise. The, use `scikit-learn` to run a regression forest and predict a number of variables. Then, model the dependent variable with `scikit-learn`'s GP. Which method does better?\n",
    "\n",
    "## Bonus points\n",
    "\n",
    "Repeat with two independent columns.\n",
    "\n",
    "## Bonus points\n",
    "\n",
    "Repeat with PyMC3 instead of scikit-learn."
   ]
  }
 ],
 "metadata": {
  "kernelspec": {
   "display_name": "Python 3",
   "language": "python",
   "name": "python3"
  },
  "language_info": {
   "codemirror_mode": {
    "name": "ipython",
    "version": 3
   },
   "file_extension": ".py",
   "mimetype": "text/x-python",
   "name": "python",
   "nbconvert_exporter": "python",
   "pygments_lexer": "ipython3",
   "version": "3.7.3"
  }
 },
 "nbformat": 4,
 "nbformat_minor": 1
}
